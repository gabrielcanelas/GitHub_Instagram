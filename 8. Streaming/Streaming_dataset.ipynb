{
 "cells": [
  {
   "cell_type": "code",
   "execution_count": 1,
   "id": "37f1fc76-e22c-43bb-aead-4820298d8142",
   "metadata": {},
   "outputs": [
    {
     "data": {
      "text/html": [
       "<div>\n",
       "<style scoped>\n",
       "    .dataframe tbody tr th:only-of-type {\n",
       "        vertical-align: middle;\n",
       "    }\n",
       "\n",
       "    .dataframe tbody tr th {\n",
       "        vertical-align: top;\n",
       "    }\n",
       "\n",
       "    .dataframe thead th {\n",
       "        text-align: right;\n",
       "    }\n",
       "</style>\n",
       "<table border=\"1\" class=\"dataframe\">\n",
       "  <thead>\n",
       "    <tr style=\"text-align: right;\">\n",
       "      <th></th>\n",
       "      <th>id</th>\n",
       "      <th>createTime</th>\n",
       "      <th>likeCount</th>\n",
       "      <th>commentCount</th>\n",
       "      <th>tags_count</th>\n",
       "      <th>translation_len</th>\n",
       "      <th>label_sentiment</th>\n",
       "      <th>score_sentiment</th>\n",
       "      <th>score_hate</th>\n",
       "      <th>fk_readability</th>\n",
       "      <th>...</th>\n",
       "      <th>language_0</th>\n",
       "      <th>language_1</th>\n",
       "      <th>productType_carousel_container</th>\n",
       "      <th>productType_clips</th>\n",
       "      <th>productType_feed</th>\n",
       "      <th>productType_igtv</th>\n",
       "      <th>harmonic_centrality</th>\n",
       "      <th>degree_centrality</th>\n",
       "      <th>closeness_centrality</th>\n",
       "      <th>Betweenness</th>\n",
       "    </tr>\n",
       "  </thead>\n",
       "  <tbody>\n",
       "    <tr>\n",
       "      <th>0</th>\n",
       "      <td>11540</td>\n",
       "      <td>2017-12-31 20:10:58+00:00</td>\n",
       "      <td>17552</td>\n",
       "      <td>295</td>\n",
       "      <td>0</td>\n",
       "      <td>4</td>\n",
       "      <td>1</td>\n",
       "      <td>0.992561</td>\n",
       "      <td>0.888707</td>\n",
       "      <td>121.220</td>\n",
       "      <td>...</td>\n",
       "      <td>1</td>\n",
       "      <td>0</td>\n",
       "      <td>0</td>\n",
       "      <td>0</td>\n",
       "      <td>1</td>\n",
       "      <td>0</td>\n",
       "      <td>33.523858</td>\n",
       "      <td>0.012243</td>\n",
       "      <td>0.027949</td>\n",
       "      <td>216.332754</td>\n",
       "    </tr>\n",
       "    <tr>\n",
       "      <th>1</th>\n",
       "      <td>32532</td>\n",
       "      <td>2018-02-05 13:40:01+00:00</td>\n",
       "      <td>5305</td>\n",
       "      <td>17</td>\n",
       "      <td>19</td>\n",
       "      <td>962</td>\n",
       "      <td>1</td>\n",
       "      <td>0.999602</td>\n",
       "      <td>0.990074</td>\n",
       "      <td>-106.935</td>\n",
       "      <td>...</td>\n",
       "      <td>0</td>\n",
       "      <td>1</td>\n",
       "      <td>1</td>\n",
       "      <td>0</td>\n",
       "      <td>0</td>\n",
       "      <td>0</td>\n",
       "      <td>33.523858</td>\n",
       "      <td>0.012243</td>\n",
       "      <td>0.027949</td>\n",
       "      <td>216.332754</td>\n",
       "    </tr>\n",
       "    <tr>\n",
       "      <th>2</th>\n",
       "      <td>32530</td>\n",
       "      <td>2018-02-15 15:52:22+00:00</td>\n",
       "      <td>15077</td>\n",
       "      <td>34</td>\n",
       "      <td>4</td>\n",
       "      <td>18</td>\n",
       "      <td>1</td>\n",
       "      <td>0.997795</td>\n",
       "      <td>0.952006</td>\n",
       "      <td>97.025</td>\n",
       "      <td>...</td>\n",
       "      <td>1</td>\n",
       "      <td>0</td>\n",
       "      <td>0</td>\n",
       "      <td>0</td>\n",
       "      <td>1</td>\n",
       "      <td>0</td>\n",
       "      <td>33.523858</td>\n",
       "      <td>0.012243</td>\n",
       "      <td>0.027949</td>\n",
       "      <td>216.332754</td>\n",
       "    </tr>\n",
       "    <tr>\n",
       "      <th>3</th>\n",
       "      <td>8265</td>\n",
       "      <td>2018-04-12 17:25:11+00:00</td>\n",
       "      <td>1081</td>\n",
       "      <td>79</td>\n",
       "      <td>3</td>\n",
       "      <td>571</td>\n",
       "      <td>-1</td>\n",
       "      <td>-0.990802</td>\n",
       "      <td>0.984654</td>\n",
       "      <td>-150.322</td>\n",
       "      <td>...</td>\n",
       "      <td>0</td>\n",
       "      <td>1</td>\n",
       "      <td>1</td>\n",
       "      <td>0</td>\n",
       "      <td>0</td>\n",
       "      <td>0</td>\n",
       "      <td>33.523858</td>\n",
       "      <td>0.012243</td>\n",
       "      <td>0.027949</td>\n",
       "      <td>216.332754</td>\n",
       "    </tr>\n",
       "    <tr>\n",
       "      <th>4</th>\n",
       "      <td>8264</td>\n",
       "      <td>2018-04-15 16:47:31+00:00</td>\n",
       "      <td>1035</td>\n",
       "      <td>37</td>\n",
       "      <td>14</td>\n",
       "      <td>597</td>\n",
       "      <td>-1</td>\n",
       "      <td>-0.987855</td>\n",
       "      <td>0.983755</td>\n",
       "      <td>-262.105</td>\n",
       "      <td>...</td>\n",
       "      <td>0</td>\n",
       "      <td>1</td>\n",
       "      <td>0</td>\n",
       "      <td>0</td>\n",
       "      <td>1</td>\n",
       "      <td>0</td>\n",
       "      <td>33.523858</td>\n",
       "      <td>0.012243</td>\n",
       "      <td>0.027949</td>\n",
       "      <td>216.332754</td>\n",
       "    </tr>\n",
       "  </tbody>\n",
       "</table>\n",
       "<p>5 rows × 42 columns</p>\n",
       "</div>"
      ],
      "text/plain": [
       "      id                 createTime  likeCount  commentCount  tags_count  \\\n",
       "0  11540  2017-12-31 20:10:58+00:00      17552           295           0   \n",
       "1  32532  2018-02-05 13:40:01+00:00       5305            17          19   \n",
       "2  32530  2018-02-15 15:52:22+00:00      15077            34           4   \n",
       "3   8265  2018-04-12 17:25:11+00:00       1081            79           3   \n",
       "4   8264  2018-04-15 16:47:31+00:00       1035            37          14   \n",
       "\n",
       "   translation_len  label_sentiment  score_sentiment  score_hate  \\\n",
       "0                4                1         0.992561    0.888707   \n",
       "1              962                1         0.999602    0.990074   \n",
       "2               18                1         0.997795    0.952006   \n",
       "3              571               -1        -0.990802    0.984654   \n",
       "4              597               -1        -0.987855    0.983755   \n",
       "\n",
       "   fk_readability  ...  language_0  language_1  \\\n",
       "0         121.220  ...           1           0   \n",
       "1        -106.935  ...           0           1   \n",
       "2          97.025  ...           1           0   \n",
       "3        -150.322  ...           0           1   \n",
       "4        -262.105  ...           0           1   \n",
       "\n",
       "   productType_carousel_container  productType_clips  productType_feed  \\\n",
       "0                               0                  0                 1   \n",
       "1                               1                  0                 0   \n",
       "2                               0                  0                 1   \n",
       "3                               1                  0                 0   \n",
       "4                               0                  0                 1   \n",
       "\n",
       "   productType_igtv  harmonic_centrality  degree_centrality  \\\n",
       "0                 0            33.523858           0.012243   \n",
       "1                 0            33.523858           0.012243   \n",
       "2                 0            33.523858           0.012243   \n",
       "3                 0            33.523858           0.012243   \n",
       "4                 0            33.523858           0.012243   \n",
       "\n",
       "   closeness_centrality  Betweenness  \n",
       "0              0.027949   216.332754  \n",
       "1              0.027949   216.332754  \n",
       "2              0.027949   216.332754  \n",
       "3              0.027949   216.332754  \n",
       "4              0.027949   216.332754  \n",
       "\n",
       "[5 rows x 42 columns]"
      ]
     },
     "execution_count": 1,
     "metadata": {},
     "output_type": "execute_result"
    }
   ],
   "source": [
    "import pandas as pd\n",
    "filename85 = 'C:/Users/Casa/OneDrive - Associação Porto Business School/Documents/MBA/0.3 Projeto DEUS/BD/0.Final_Test_Data_set/data_set_to_test.csv'\n",
    "data_set_initial_6 = pd.read_csv(filename85, sep=',', encoding='utf8')\n",
    "data_set_initial_6.head()"
   ]
  },
  {
   "cell_type": "code",
   "execution_count": 2,
   "id": "3dbc74a7-571d-4c8e-9514-d3206cf32d10",
   "metadata": {},
   "outputs": [],
   "source": [
    "## Add variables from the sentiment analysis SNA\n",
    "data_set_4=data_set_initial_6[[\"label_hate\",\"commentCount\",\"likeCount\",\"weekday\",\"month\",\"productType_carousel_container\",\"productType_clips\",\"productType_feed\",\"productType_igtv\",\"tags_count\",\"score_sentiment\",\"translation_len\",\"language_0\",\"language_1\",\"fk_readability\",\"fk_grade\",\"CARDINAL\",\"GPE\",\"EVENT\",\"FAC\",\"DATE\",\"LANGUAGE\",\"LAW\",\"LOC\",\"MONEY\",\"NORP\",\"ORDINAL\",\"ORG\",\"PERCENT\",\"PERSON\",\"PRODUCT\",\"QUANTITY\",\"TIME\",\"WORK_OF_ART\",\"harmonic_centrality\",\"degree_centrality\",\"closeness_centrality\",\"Betweenness\"]].copy()\n",
    "features = data_set_4.drop('label_hate', axis=1)\n",
    "labels = data_set_4['label_hate']\n",
    "\n",
    "features_dt_labels=[\"label_hate\",\"commentCount\",\"likeCount\",\"weekday\",\"month\",\"productType_carousel_container\",\"productType_clips\",\"productType_feed\",\"productType_igtv\",\"tags_count\",\"score_sentiment\",\"translation_len\",\"language_0\",\"language_1\",\"fk_readability\",\"fk_grade\",\"CARDINAL\",\"GPE\",\"EVENT\",\"FAC\",\"DATE\",\"LANGUAGE\",\"LAW\",\"LOC\",\"MONEY\",\"NORP\",\"ORDINAL\",\"ORG\",\"PERCENT\",\"PERSON\",\"PRODUCT\",\"QUANTITY\",\"TIME\",\"WORK_OF_ART\",\"harmonic_centrality\",\"degree_centrality\",\"closeness_centrality\",\"Betweenness\"]\n"
   ]
  },
  {
   "cell_type": "code",
   "execution_count": 3,
   "id": "3b56e4f9-57d5-4311-b12c-b532b1ddb096",
   "metadata": {},
   "outputs": [],
   "source": [
    "#Split the data\n",
    "from sklearn.model_selection import train_test_split\n",
    "# Split the data into training and testing sets\n",
    "train_features, test_features, train_labels, test_labels = train_test_split(features, labels, test_size = 0.25, random_state = 42)"
   ]
  },
  {
   "cell_type": "code",
   "execution_count": 5,
   "id": "1c795eda-2a52-4a3d-a5be-1e4c7a670867",
   "metadata": {},
   "outputs": [],
   "source": [
    "#Unbalanced Data\n",
    "train_features['label']=train_labels\n",
    "test_features['label']=test_labels\n",
    "\n",
    "training_df=train_features.copy()\n",
    "test_df=train_features.copy()"
   ]
  },
  {
   "cell_type": "code",
   "execution_count": 5,
   "id": "05868a43-e54f-499f-a6b8-c930e0f009e6",
   "metadata": {
    "collapsed": true,
    "jupyter": {
     "outputs_hidden": true
    },
    "tags": []
   },
   "outputs": [
    {
     "name": "stdout",
     "output_type": "stream",
     "text": [
      "Collecting river\n",
      "  Downloading river-0.14.0-cp39-cp39-win_amd64.whl (1.4 MB)\n",
      "     ---------------------------------------- 1.4/1.4 MB 5.2 MB/s eta 0:00:00\n",
      "Requirement already satisfied: scipy>=1.5 in c:\\users\\casa\\anaconda3\\lib\\site-packages (from river) (1.9.1)\n",
      "Requirement already satisfied: pandas>=1.3 in c:\\users\\casa\\anaconda3\\lib\\site-packages (from river) (1.4.4)\n",
      "Collecting numpy>=1.23.4\n",
      "  Downloading numpy-1.24.1-cp39-cp39-win_amd64.whl (14.9 MB)\n",
      "     ---------------------------------------- 14.9/14.9 MB 6.7 MB/s eta 0:00:00\n",
      "Requirement already satisfied: python-dateutil>=2.8.1 in c:\\users\\casa\\anaconda3\\lib\\site-packages (from pandas>=1.3->river) (2.8.2)\n",
      "Requirement already satisfied: pytz>=2020.1 in c:\\users\\casa\\anaconda3\\lib\\site-packages (from pandas>=1.3->river) (2022.1)\n",
      "Requirement already satisfied: six>=1.5 in c:\\users\\casa\\anaconda3\\lib\\site-packages (from python-dateutil>=2.8.1->pandas>=1.3->river) (1.16.0)\n",
      "Installing collected packages: numpy, river\n",
      "  Attempting uninstall: numpy\n",
      "    Found existing installation: numpy 1.21.5\n",
      "    Uninstalling numpy-1.21.5:\n",
      "      Successfully uninstalled numpy-1.21.5\n",
      "Successfully installed numpy-1.24.1 river-0.14.0\n"
     ]
    },
    {
     "name": "stderr",
     "output_type": "stream",
     "text": [
      "ERROR: pip's dependency resolver does not currently take into account all the packages that are installed. This behaviour is the source of the following dependency conflicts.\n",
      "daal4py 2021.6.0 requires daal==2021.4.0, which is not installed.\n",
      "numba 0.55.1 requires numpy<1.22,>=1.18, but you have numpy 1.24.1 which is incompatible.\n"
     ]
    }
   ],
   "source": [
    "#!pip install river"
   ]
  },
  {
   "cell_type": "code",
   "execution_count": 11,
   "id": "0bb3625f-f3dc-4bb4-a44c-5aec3eab1493",
   "metadata": {
    "collapsed": true,
    "jupyter": {
     "outputs_hidden": true,
     "source_hidden": true
    },
    "tags": []
   },
   "outputs": [
    {
     "data": {
      "text/plain": [
       "rec.array([('2022-06-21 16:44:31+00:00',  17,  1724, 1, 6, 1, 0, 0, 0, 1,  0.99979037,  70, 0, 1,  89.896,  6., 0., 0., 0., 0., 0., 0., 0., 0., 0., 0., 0., 0., 0., 0., 0., 0., 0., 0., 33.5238577, 0.01224268, 0.02794869, 216.3327544, 0),\n",
       "           ('2022-01-11 21:02:07+00:00',   7,   120, 1, 1, 1, 0, 0, 0, 6, -0.95948869, 290, 0, 1, -74.37 , 11., 0., 0., 0., 0., 1., 0., 0., 0., 0., 0., 0., 3., 0., 2., 0., 0., 0., 0., 33.5238577, 0.01224268, 0.02794869, 216.3327544, 0),\n",
       "           ('2022-07-25 20:54:47+00:00',  19,  1387, 0, 7, 1, 0, 0, 0, 6,  0.98649561,  13, 1, 0,  90.99 ,  5., 0., 0., 0., 0., 0., 0., 0., 0., 0., 0., 0., 0., 0., 0., 0., 0., 0., 0., 33.5238577, 0.01224268, 0.02794869, 216.3327544, 0),\n",
       "           ...,\n",
       "           ('2021-06-25 11:02:12+00:00', 108, 17875, 4, 6, 1, 0, 0, 0, 3, -0.98016179, 146, 0, 1,  34.425, 10., 3., 0., 0., 1., 1., 0., 0., 0., 0., 0., 0., 1., 0., 0., 0., 0., 0., 0., 33.5238577, 0.01224268, 0.02794869, 216.3327544, 0),\n",
       "           ('2022-06-03 19:01:57+00:00',  48,     3, 4, 6, 1, 0, 0, 0, 1,  0.98920476,  31, 0, 1,  73.845,  7., 0., 0., 0., 0., 0., 0., 0., 0., 0., 0., 0., 0., 0., 0., 0., 0., 0., 0., 33.5238577, 0.01224268, 0.02794869, 216.3327544, 0),\n",
       "           ('2022-07-08 12:01:55+00:00',  11,  9026, 4, 7, 1, 0, 0, 0, 0, -0.99133039,  17, 1, 0,  62.79 ,  8., 0., 0., 0., 0., 0., 0., 0., 0., 0., 0., 0., 1., 0., 0., 0., 0., 0., 0., 33.5238577, 0.01224268, 0.02794869, 216.3327544, 0)],\n",
       "          dtype=[('createTime', 'O'), ('commentCount', '<i8'), ('likeCount', '<i8'), ('weekday', '<i8'), ('month', '<i8'), ('productType_carousel_container', '<i8'), ('productType_clips', '<i8'), ('productType_feed', '<i8'), ('productType_igtv', '<i8'), ('tags_count', '<i8'), ('score_sentiment', '<f8'), ('translation_len', '<i8'), ('language_0', '<i8'), ('language_1', '<i8'), ('fk_readability', '<f8'), ('fk_grade', '<f8'), ('CARDINAL', '<f8'), ('GPE', '<f8'), ('EVENT', '<f8'), ('FAC', '<f8'), ('DATE', '<f8'), ('LANGUAGE', '<f8'), ('LAW', '<f8'), ('LOC', '<f8'), ('MONEY', '<f8'), ('NORP', '<f8'), ('ORDINAL', '<f8'), ('ORG', '<f8'), ('PERCENT', '<f8'), ('PERSON', '<f8'), ('PRODUCT', '<f8'), ('QUANTITY', '<f8'), ('TIME', '<f8'), ('WORK_OF_ART', '<f8'), ('harmonic_centrality', '<f8'), ('degree_centrality', '<f8'), ('closeness_centrality', '<f8'), ('Betweenness', '<f8'), ('label', '<i8')])"
      ]
     },
     "execution_count": 11,
     "metadata": {},
     "output_type": "execute_result"
    }
   ],
   "source": [
    "training_df.to_dict()\n",
    "test_df.to_dict()\n",
    "\n",
    "data = training_df.to_records(index=False)\n",
    "data"
   ]
  },
  {
   "cell_type": "code",
   "execution_count": 7,
   "id": "a711a8c0-2538-4f7d-a5f2-168e4c0f2d2e",
   "metadata": {
    "jupyter": {
     "source_hidden": true
    },
    "tags": []
   },
   "outputs": [],
   "source": [
    "from river import tree\n",
    "\n",
    "classifier = tree.HoeffdingTreeClassifier()\n",
    "#Source: https://towardsdatascience.com/river-online-machine-learning-in-python-d0f048120e46"
   ]
  },
  {
   "cell_type": "markdown",
   "id": "91059d44-fd2a-4f16-8544-551bf32b4c24",
   "metadata": {},
   "source": [
    "## Logistic Regression"
   ]
  },
  {
   "cell_type": "markdown",
   "id": "63121128-b391-44a3-af8b-01aa4ee1403f",
   "metadata": {},
   "source": [
    "## Unweighted"
   ]
  },
  {
   "cell_type": "code",
   "execution_count": 47,
   "id": "dd1b9e2b-4502-4d78-a6a4-1bcf00ad1517",
   "metadata": {
    "tags": []
   },
   "outputs": [
    {
     "name": "stdout",
     "output_type": "stream",
     "text": [
      "ROC AUC: ROCAUC: 51.12%\n"
     ]
    }
   ],
   "source": [
    "\n",
    "from sklearn import datasets\n",
    "from river import stream\n",
    "from river import compose\n",
    "from river import linear_model\n",
    "from river import optim\n",
    "from river import preprocessing\n",
    "from river import metrics\n",
    "\n",
    "model = compose.Pipeline(\n",
    "    preprocessing.StandardScaler(),\n",
    "    linear_model.LogisticRegression( optim.SGD(lr=0.01) )\n",
    "    )\n",
    "\n",
    "metric_auc_LR = metrics.ROCAUC()\n",
    "metric_acc_LR = metrics.Accuracy()\n",
    "metric_prec_LR = metrics.Precision()\n",
    "metric_rec_LR = metrics.Recall()\n",
    "metric_f1_LR = metrics.F1()\n",
    "\n",
    "for xi, yi in stream.iter_pandas(features, labels):\n",
    "    \n",
    "    # Test the current model on the new \"unobserved\" sample\n",
    "    yi_pred = model.predict_proba_one(xi)\n",
    "     \n",
    "    # Train the model with the new sample\n",
    "    model.learn_one(xi, yi)\n",
    "    \n",
    "    # Update the running metric with the prediction and ground truth value\n",
    "    metric_auc_LR.update(yi, yi_pred)\n",
    "    #metric_acc_LR.update(yi, yi_pred)\n",
    "    #metric_prec_LR.update(yi, yi_pred)\n",
    "    #metric_rec_LR.update(yi, yi_pred)\n",
    "    #metric_f1_LR.update(yi, yi_pred)\n",
    "    \n",
    "   \n",
    "    \n",
    "print(f'ROC AUC: {metric_auc_LR}')"
   ]
  },
  {
   "cell_type": "markdown",
   "id": "a0444365-e8dc-4f90-8c23-6d464cae3760",
   "metadata": {},
   "source": [
    "## 2 Logistics Regression"
   ]
  },
  {
   "cell_type": "markdown",
   "id": "39937a50-e83b-481a-87b9-ac1dd2f90481",
   "metadata": {},
   "source": [
    "### 2.1 Original DataSet"
   ]
  },
  {
   "cell_type": "code",
   "execution_count": 48,
   "id": "ef53a8af-c35d-4acf-a3c7-8c15ac30b959",
   "metadata": {},
   "outputs": [],
   "source": [
    "\n",
    "from sklearn import datasets\n",
    "from river import stream\n",
    "from river import compose\n",
    "from river import linear_model\n",
    "from river import optim\n",
    "from river import preprocessing\n",
    "from river import metrics\n",
    "\n",
    "model = compose.Pipeline(\n",
    "    preprocessing.StandardScaler(),\n",
    "    linear_model.LogisticRegression( optim.SGD(lr=0.01) )\n",
    "    )\n",
    "\n",
    "y_true = []\n",
    "y_pred = []\n",
    "\n",
    "for xi, yi in stream.iter_pandas(features, labels):\n",
    "    \n",
    "    # Test the current model on the new \"unobserved\" sample\n",
    "    yi_pred = model.predict_proba_one(xi)\n",
    "     \n",
    "    # Train the model with the new sample\n",
    "    model.learn_one(xi, yi)\n",
    "    \n",
    "    # Update the running metric with the prediction and ground truth value\n",
    "    y_true.append(yi)\n",
    "    y_pred.append(yi_pred[True])\n",
    "    \n",
    "#print(f'ROC AUC: {metrics.ROCAUC(y_true, y_pred):.3f}')"
   ]
  },
  {
   "cell_type": "markdown",
   "id": "8b8f191e-4fb4-4845-aaa7-a01bd877918f",
   "metadata": {},
   "source": [
    "#### 2.1.1 Metrics Evaluation"
   ]
  },
  {
   "cell_type": "code",
   "execution_count": 49,
   "id": "10e2f97f-830e-45eb-9d8c-3e290f9beb8b",
   "metadata": {
    "tags": []
   },
   "outputs": [],
   "source": [
    "#ROC AUC\n",
    "metric_auc_lr = metrics.ROCAUC()\n",
    "metric_accu_lr = metrics.Accuracy()\n",
    "metric_prec_lr = metrics.Precision()\n",
    "metric_recall_lr=metrics.Recall()\n",
    "metric_f1_lr=metrics.F1()\n",
    "\n",
    "for yt, yp in zip(y_true, y_pred):\n",
    "    metric_auc_lr = metric_auc_lr.update(yt, yp)\n",
    "    metric_accu_lr = metric_accu_lr.update(yt, yp)\n",
    "    metric_prec_lr = metric_prec_lr.update(yt, yp)\n",
    "    metric_recall_lr = metric_recall_lr.update(yt, yp)    \n",
    "    metric_f1_lr = metric_f1_lr.update(yt, yp)"
   ]
  },
  {
   "cell_type": "markdown",
   "id": "4838ff40-c081-46fe-ad17-12efa9c2ead6",
   "metadata": {},
   "source": [
    "### 2.2 Undersampling"
   ]
  },
  {
   "cell_type": "code",
   "execution_count": 50,
   "id": "16869780-a3ce-47b1-bd58-a71b1ee27a35",
   "metadata": {},
   "outputs": [],
   "source": [
    "\n",
    "from sklearn import datasets\n",
    "from river import stream\n",
    "from river import compose\n",
    "from river import linear_model\n",
    "from river import optim\n",
    "from river import preprocessing\n",
    "from river import metrics\n",
    "from river import imblearn\n",
    "\n",
    "model_dt_rus = (\n",
    "    preprocessing.StandardScaler() |\n",
    "    imblearn.RandomUnderSampler(\n",
    "        classifier=linear_model.LogisticRegression(),\n",
    "        desired_dist={0: 0.5, 1: 0.5},\n",
    "        seed=42\n",
    "    )\n",
    ")\n",
    "\n",
    "y_true_lr_rus = []\n",
    "y_pred_lr_rus = []\n",
    "\n",
    "for xi_lr_rus, yi_lr_rus in stream.iter_pandas(features, labels):\n",
    "    \n",
    "    # Test the current model on the new \"unobserved\" sample\n",
    "    yi_pred_lr_rus = model_dt_rus.predict_proba_one(xi_lr_rus)\n",
    "     \n",
    "    # Train the model with the new sample\n",
    "    model_dt_rus.learn_one(xi_lr_rus, yi_lr_rus)\n",
    "    \n",
    "    # Update the running metric with the prediction and ground truth value\n",
    "    y_true_lr_rus.append(yi_lr_rus)\n",
    "    y_pred_lr_rus.append(yi_pred_lr_rus[True])\n",
    "    \n",
    "#print(f'ROC AUC: {metrics.ROCAUC(y_true, y_pred):.3f}')"
   ]
  },
  {
   "cell_type": "markdown",
   "id": "6c26c42d-5aec-49cd-b50f-561798305f8a",
   "metadata": {},
   "source": [
    "#### 2.2.1 Metrics Evaluation"
   ]
  },
  {
   "cell_type": "code",
   "execution_count": 51,
   "id": "3a8d08b2-adf3-460b-b1d0-d06af08bc16e",
   "metadata": {
    "tags": []
   },
   "outputs": [],
   "source": [
    "#ROC AUC\n",
    "metric_auc_lr_rus = metrics.ROCAUC()\n",
    "metric_accu_lr_rus = metrics.Accuracy()\n",
    "metric_prec_lr_rus = metrics.Precision()\n",
    "metric_recall_lr_rus=metrics.Recall()\n",
    "metric_f1_lr_rus=metrics.F1()\n",
    "\n",
    "for yt_lr_rus, yp_lr_rus in zip(y_true_lr_rus, y_pred_lr_rus):\n",
    "    metric_auc_lr_rus = metric_auc_lr_rus.update(yt_lr_rus, yp_lr_rus)\n",
    "    metric_accu_lr_rus = metric_accu_lr_rus.update(yt_lr_rus, yp_lr_rus)\n",
    "    metric_prec_lr_rus = metric_prec_lr_rus.update(yt_lr_rus, yp_lr_rus)\n",
    "    metric_recall_lr_rus = metric_recall_lr_rus.update(yt_lr_rus, yp_lr_rus)    \n",
    "    metric_f1_lr_rus = metric_f1_lr_rus.update(yt_lr_rus, yp_lr_rus)"
   ]
  },
  {
   "cell_type": "markdown",
   "id": "a188ad60-866a-4947-ba83-b3088d82a37d",
   "metadata": {},
   "source": [
    "### 2.3 Oversampling"
   ]
  },
  {
   "cell_type": "code",
   "execution_count": 52,
   "id": "560b2f8c-c136-4894-a21f-3e6a3ddd5b97",
   "metadata": {},
   "outputs": [],
   "source": [
    "\n",
    "from sklearn import datasets\n",
    "from river import stream\n",
    "from river import compose\n",
    "from river import linear_model\n",
    "from river import optim\n",
    "from river import preprocessing\n",
    "from river import metrics\n",
    "from river import imblearn\n",
    "\n",
    "model_dt_ros = (\n",
    "    preprocessing.StandardScaler() |\n",
    "    imblearn.RandomOverSampler(\n",
    "        classifier=linear_model.LogisticRegression(),\n",
    "        desired_dist={0: 0.5, 1: 0.5},\n",
    "        seed=42\n",
    "    )\n",
    ")\n",
    "\n",
    "y_true_lr_ros = []\n",
    "y_pred_lr_ros = []\n",
    "\n",
    "for xi_lr_ros, yi_lr_ros in stream.iter_pandas(features, labels):\n",
    "    \n",
    "    # Test the current model on the new \"unobserved\" sample\n",
    "    yi_pred_lr_ros = model_dt_ros.predict_proba_one(xi_lr_ros)\n",
    "     \n",
    "    # Train the model with the new sample\n",
    "    model_dt_ros.learn_one(xi_lr_ros, yi_lr_ros)\n",
    "    \n",
    "    # Update the running metric with the prediction and ground truth value\n",
    "    y_true_lr_ros.append(yi_lr_ros)\n",
    "    y_pred_lr_ros.append(yi_pred_lr_ros[True])\n",
    "    \n",
    "#print(f'ROC AUC: {metrics.ROCAUC(y_true, y_pred):.3f}')"
   ]
  },
  {
   "cell_type": "markdown",
   "id": "9cdaa413-13f1-43b1-b5a7-13c272fec612",
   "metadata": {},
   "source": [
    "#### 2.3.1 Metrics Evaluation"
   ]
  },
  {
   "cell_type": "code",
   "execution_count": 53,
   "id": "9dc5ef49-a62c-4c10-bd2a-375374e8e0f8",
   "metadata": {
    "tags": []
   },
   "outputs": [],
   "source": [
    "#ROC AUC\n",
    "metric_auc_lr_ros = metrics.ROCAUC()\n",
    "metric_accu_lr_ros = metrics.Accuracy()\n",
    "metric_prec_lr_ros = metrics.Precision()\n",
    "metric_recall_lr_ros=metrics.Recall()\n",
    "metric_f1_lr_ros=metrics.F1()\n",
    "\n",
    "for yt_lr_ros, yp_lr_ros in zip(y_true_lr_ros, y_pred_lr_ros):\n",
    "    metric_auc_lr_ros = metric_auc_lr_ros.update(yt_lr_ros, yp_lr_ros)\n",
    "    metric_accu_lr_ros = metric_accu_lr_ros.update(yt_lr_ros, yp_lr_ros)\n",
    "    metric_prec_lr_ros = metric_prec_lr_ros.update(yt_lr_ros, yp_lr_ros)\n",
    "    metric_recall_lr_ros = metric_recall_lr_ros.update(yt_lr_ros, yp_lr_ros)    \n",
    "    metric_f1_lr_ros = metric_f1_lr_ros.update(yt_lr_ros, yp_lr_ros)"
   ]
  },
  {
   "cell_type": "code",
   "execution_count": 58,
   "id": "ac646755-98a2-4d16-a7fe-645a758ac9b7",
   "metadata": {
    "collapsed": true,
    "jupyter": {
     "outputs_hidden": true,
     "source_hidden": true
    },
    "tags": []
   },
   "outputs": [
    {
     "ename": "KeyboardInterrupt",
     "evalue": "",
     "output_type": "error",
     "traceback": [
      "\u001b[1;31m---------------------------------------------------------------------------\u001b[0m",
      "\u001b[1;31mKeyboardInterrupt\u001b[0m                         Traceback (most recent call last)",
      "\u001b[1;32m~\\AppData\\Local\\Temp\\ipykernel_14192\\1784339011.py\u001b[0m in \u001b[0;36m<module>\u001b[1;34m\u001b[0m\n\u001b[0;32m      3\u001b[0m \u001b[1;32mfor\u001b[0m \u001b[0myt_lr_ros\u001b[0m\u001b[1;33m,\u001b[0m \u001b[0myp_lr_ros\u001b[0m \u001b[1;32min\u001b[0m \u001b[0mzip\u001b[0m\u001b[1;33m(\u001b[0m\u001b[0my_true_lr_ros\u001b[0m\u001b[1;33m,\u001b[0m \u001b[0my_pred_lr_ros\u001b[0m\u001b[1;33m)\u001b[0m\u001b[1;33m:\u001b[0m\u001b[1;33m\u001b[0m\u001b[1;33m\u001b[0m\u001b[0m\n\u001b[0;32m      4\u001b[0m     \u001b[0mcm\u001b[0m \u001b[1;33m=\u001b[0m \u001b[0mcm\u001b[0m\u001b[1;33m.\u001b[0m\u001b[0mupdate\u001b[0m\u001b[1;33m(\u001b[0m\u001b[0myt_lr_ros\u001b[0m\u001b[1;33m,\u001b[0m \u001b[0myp_lr_ros\u001b[0m\u001b[1;33m)\u001b[0m\u001b[1;33m\u001b[0m\u001b[1;33m\u001b[0m\u001b[0m\n\u001b[1;32m----> 5\u001b[1;33m \u001b[0mcm\u001b[0m\u001b[1;33m\u001b[0m\u001b[1;33m\u001b[0m\u001b[0m\n\u001b[0m",
      "\u001b[1;32m~\\anaconda3\\lib\\site-packages\\IPython\\core\\displayhook.py\u001b[0m in \u001b[0;36m__call__\u001b[1;34m(self, result)\u001b[0m\n\u001b[0;32m    260\u001b[0m             \u001b[0mself\u001b[0m\u001b[1;33m.\u001b[0m\u001b[0mstart_displayhook\u001b[0m\u001b[1;33m(\u001b[0m\u001b[1;33m)\u001b[0m\u001b[1;33m\u001b[0m\u001b[1;33m\u001b[0m\u001b[0m\n\u001b[0;32m    261\u001b[0m             \u001b[0mself\u001b[0m\u001b[1;33m.\u001b[0m\u001b[0mwrite_output_prompt\u001b[0m\u001b[1;33m(\u001b[0m\u001b[1;33m)\u001b[0m\u001b[1;33m\u001b[0m\u001b[1;33m\u001b[0m\u001b[0m\n\u001b[1;32m--> 262\u001b[1;33m             \u001b[0mformat_dict\u001b[0m\u001b[1;33m,\u001b[0m \u001b[0mmd_dict\u001b[0m \u001b[1;33m=\u001b[0m \u001b[0mself\u001b[0m\u001b[1;33m.\u001b[0m\u001b[0mcompute_format_data\u001b[0m\u001b[1;33m(\u001b[0m\u001b[0mresult\u001b[0m\u001b[1;33m)\u001b[0m\u001b[1;33m\u001b[0m\u001b[1;33m\u001b[0m\u001b[0m\n\u001b[0m\u001b[0;32m    263\u001b[0m             \u001b[0mself\u001b[0m\u001b[1;33m.\u001b[0m\u001b[0mupdate_user_ns\u001b[0m\u001b[1;33m(\u001b[0m\u001b[0mresult\u001b[0m\u001b[1;33m)\u001b[0m\u001b[1;33m\u001b[0m\u001b[1;33m\u001b[0m\u001b[0m\n\u001b[0;32m    264\u001b[0m             \u001b[0mself\u001b[0m\u001b[1;33m.\u001b[0m\u001b[0mfill_exec_result\u001b[0m\u001b[1;33m(\u001b[0m\u001b[0mresult\u001b[0m\u001b[1;33m)\u001b[0m\u001b[1;33m\u001b[0m\u001b[1;33m\u001b[0m\u001b[0m\n",
      "\u001b[1;32m~\\anaconda3\\lib\\site-packages\\IPython\\core\\displayhook.py\u001b[0m in \u001b[0;36mcompute_format_data\u001b[1;34m(self, result)\u001b[0m\n\u001b[0;32m    149\u001b[0m \u001b[1;33m\u001b[0m\u001b[0m\n\u001b[0;32m    150\u001b[0m         \"\"\"\n\u001b[1;32m--> 151\u001b[1;33m         \u001b[1;32mreturn\u001b[0m \u001b[0mself\u001b[0m\u001b[1;33m.\u001b[0m\u001b[0mshell\u001b[0m\u001b[1;33m.\u001b[0m\u001b[0mdisplay_formatter\u001b[0m\u001b[1;33m.\u001b[0m\u001b[0mformat\u001b[0m\u001b[1;33m(\u001b[0m\u001b[0mresult\u001b[0m\u001b[1;33m)\u001b[0m\u001b[1;33m\u001b[0m\u001b[1;33m\u001b[0m\u001b[0m\n\u001b[0m\u001b[0;32m    152\u001b[0m \u001b[1;33m\u001b[0m\u001b[0m\n\u001b[0;32m    153\u001b[0m     \u001b[1;31m# This can be set to True by the write_output_prompt method in a subclass\u001b[0m\u001b[1;33m\u001b[0m\u001b[1;33m\u001b[0m\u001b[0m\n",
      "\u001b[1;32m~\\anaconda3\\lib\\site-packages\\IPython\\core\\formatters.py\u001b[0m in \u001b[0;36mformat\u001b[1;34m(self, obj, include, exclude)\u001b[0m\n\u001b[0;32m    178\u001b[0m             \u001b[0mmd\u001b[0m \u001b[1;33m=\u001b[0m \u001b[1;32mNone\u001b[0m\u001b[1;33m\u001b[0m\u001b[1;33m\u001b[0m\u001b[0m\n\u001b[0;32m    179\u001b[0m             \u001b[1;32mtry\u001b[0m\u001b[1;33m:\u001b[0m\u001b[1;33m\u001b[0m\u001b[1;33m\u001b[0m\u001b[0m\n\u001b[1;32m--> 180\u001b[1;33m                 \u001b[0mdata\u001b[0m \u001b[1;33m=\u001b[0m \u001b[0mformatter\u001b[0m\u001b[1;33m(\u001b[0m\u001b[0mobj\u001b[0m\u001b[1;33m)\u001b[0m\u001b[1;33m\u001b[0m\u001b[1;33m\u001b[0m\u001b[0m\n\u001b[0m\u001b[0;32m    181\u001b[0m             \u001b[1;32mexcept\u001b[0m\u001b[1;33m:\u001b[0m\u001b[1;33m\u001b[0m\u001b[1;33m\u001b[0m\u001b[0m\n\u001b[0;32m    182\u001b[0m                 \u001b[1;31m# FIXME: log the exception\u001b[0m\u001b[1;33m\u001b[0m\u001b[1;33m\u001b[0m\u001b[0m\n",
      "\u001b[1;32m~\\anaconda3\\lib\\site-packages\\decorator.py\u001b[0m in \u001b[0;36mfun\u001b[1;34m(*args, **kw)\u001b[0m\n\u001b[0;32m    230\u001b[0m             \u001b[1;32mif\u001b[0m \u001b[1;32mnot\u001b[0m \u001b[0mkwsyntax\u001b[0m\u001b[1;33m:\u001b[0m\u001b[1;33m\u001b[0m\u001b[1;33m\u001b[0m\u001b[0m\n\u001b[0;32m    231\u001b[0m                 \u001b[0margs\u001b[0m\u001b[1;33m,\u001b[0m \u001b[0mkw\u001b[0m \u001b[1;33m=\u001b[0m \u001b[0mfix\u001b[0m\u001b[1;33m(\u001b[0m\u001b[0margs\u001b[0m\u001b[1;33m,\u001b[0m \u001b[0mkw\u001b[0m\u001b[1;33m,\u001b[0m \u001b[0msig\u001b[0m\u001b[1;33m)\u001b[0m\u001b[1;33m\u001b[0m\u001b[1;33m\u001b[0m\u001b[0m\n\u001b[1;32m--> 232\u001b[1;33m             \u001b[1;32mreturn\u001b[0m \u001b[0mcaller\u001b[0m\u001b[1;33m(\u001b[0m\u001b[0mfunc\u001b[0m\u001b[1;33m,\u001b[0m \u001b[1;33m*\u001b[0m\u001b[1;33m(\u001b[0m\u001b[0mextras\u001b[0m \u001b[1;33m+\u001b[0m \u001b[0margs\u001b[0m\u001b[1;33m)\u001b[0m\u001b[1;33m,\u001b[0m \u001b[1;33m**\u001b[0m\u001b[0mkw\u001b[0m\u001b[1;33m)\u001b[0m\u001b[1;33m\u001b[0m\u001b[1;33m\u001b[0m\u001b[0m\n\u001b[0m\u001b[0;32m    233\u001b[0m     \u001b[0mfun\u001b[0m\u001b[1;33m.\u001b[0m\u001b[0m__name__\u001b[0m \u001b[1;33m=\u001b[0m \u001b[0mfunc\u001b[0m\u001b[1;33m.\u001b[0m\u001b[0m__name__\u001b[0m\u001b[1;33m\u001b[0m\u001b[1;33m\u001b[0m\u001b[0m\n\u001b[0;32m    234\u001b[0m     \u001b[0mfun\u001b[0m\u001b[1;33m.\u001b[0m\u001b[0m__doc__\u001b[0m \u001b[1;33m=\u001b[0m \u001b[0mfunc\u001b[0m\u001b[1;33m.\u001b[0m\u001b[0m__doc__\u001b[0m\u001b[1;33m\u001b[0m\u001b[1;33m\u001b[0m\u001b[0m\n",
      "\u001b[1;32m~\\anaconda3\\lib\\site-packages\\IPython\\core\\formatters.py\u001b[0m in \u001b[0;36mcatch_format_error\u001b[1;34m(method, self, *args, **kwargs)\u001b[0m\n\u001b[0;32m    222\u001b[0m     \u001b[1;34m\"\"\"show traceback on failed format call\"\"\"\u001b[0m\u001b[1;33m\u001b[0m\u001b[1;33m\u001b[0m\u001b[0m\n\u001b[0;32m    223\u001b[0m     \u001b[1;32mtry\u001b[0m\u001b[1;33m:\u001b[0m\u001b[1;33m\u001b[0m\u001b[1;33m\u001b[0m\u001b[0m\n\u001b[1;32m--> 224\u001b[1;33m         \u001b[0mr\u001b[0m \u001b[1;33m=\u001b[0m \u001b[0mmethod\u001b[0m\u001b[1;33m(\u001b[0m\u001b[0mself\u001b[0m\u001b[1;33m,\u001b[0m \u001b[1;33m*\u001b[0m\u001b[0margs\u001b[0m\u001b[1;33m,\u001b[0m \u001b[1;33m**\u001b[0m\u001b[0mkwargs\u001b[0m\u001b[1;33m)\u001b[0m\u001b[1;33m\u001b[0m\u001b[1;33m\u001b[0m\u001b[0m\n\u001b[0m\u001b[0;32m    225\u001b[0m     \u001b[1;32mexcept\u001b[0m \u001b[0mNotImplementedError\u001b[0m\u001b[1;33m:\u001b[0m\u001b[1;33m\u001b[0m\u001b[1;33m\u001b[0m\u001b[0m\n\u001b[0;32m    226\u001b[0m         \u001b[1;31m# don't warn on NotImplementedErrors\u001b[0m\u001b[1;33m\u001b[0m\u001b[1;33m\u001b[0m\u001b[0m\n",
      "\u001b[1;32m~\\anaconda3\\lib\\site-packages\\IPython\\core\\formatters.py\u001b[0m in \u001b[0;36m__call__\u001b[1;34m(self, obj)\u001b[0m\n\u001b[0;32m    700\u001b[0m                 \u001b[0mtype_pprinters\u001b[0m\u001b[1;33m=\u001b[0m\u001b[0mself\u001b[0m\u001b[1;33m.\u001b[0m\u001b[0mtype_printers\u001b[0m\u001b[1;33m,\u001b[0m\u001b[1;33m\u001b[0m\u001b[1;33m\u001b[0m\u001b[0m\n\u001b[0;32m    701\u001b[0m                 deferred_pprinters=self.deferred_printers)\n\u001b[1;32m--> 702\u001b[1;33m             \u001b[0mprinter\u001b[0m\u001b[1;33m.\u001b[0m\u001b[0mpretty\u001b[0m\u001b[1;33m(\u001b[0m\u001b[0mobj\u001b[0m\u001b[1;33m)\u001b[0m\u001b[1;33m\u001b[0m\u001b[1;33m\u001b[0m\u001b[0m\n\u001b[0m\u001b[0;32m    703\u001b[0m             \u001b[0mprinter\u001b[0m\u001b[1;33m.\u001b[0m\u001b[0mflush\u001b[0m\u001b[1;33m(\u001b[0m\u001b[1;33m)\u001b[0m\u001b[1;33m\u001b[0m\u001b[1;33m\u001b[0m\u001b[0m\n\u001b[0;32m    704\u001b[0m             \u001b[1;32mreturn\u001b[0m \u001b[0mstream\u001b[0m\u001b[1;33m.\u001b[0m\u001b[0mgetvalue\u001b[0m\u001b[1;33m(\u001b[0m\u001b[1;33m)\u001b[0m\u001b[1;33m\u001b[0m\u001b[1;33m\u001b[0m\u001b[0m\n",
      "\u001b[1;32m~\\anaconda3\\lib\\site-packages\\IPython\\lib\\pretty.py\u001b[0m in \u001b[0;36mpretty\u001b[1;34m(self, obj)\u001b[0m\n\u001b[0;32m    392\u001b[0m                         \u001b[1;32mif\u001b[0m \u001b[0mcls\u001b[0m \u001b[1;32mis\u001b[0m \u001b[1;32mnot\u001b[0m \u001b[0mobject\u001b[0m\u001b[0;31m \u001b[0m\u001b[0;31m\\\u001b[0m\u001b[1;33m\u001b[0m\u001b[1;33m\u001b[0m\u001b[0m\n\u001b[0;32m    393\u001b[0m                                 \u001b[1;32mand\u001b[0m \u001b[0mcallable\u001b[0m\u001b[1;33m(\u001b[0m\u001b[0mcls\u001b[0m\u001b[1;33m.\u001b[0m\u001b[0m__dict__\u001b[0m\u001b[1;33m.\u001b[0m\u001b[0mget\u001b[0m\u001b[1;33m(\u001b[0m\u001b[1;34m'__repr__'\u001b[0m\u001b[1;33m)\u001b[0m\u001b[1;33m)\u001b[0m\u001b[1;33m:\u001b[0m\u001b[1;33m\u001b[0m\u001b[1;33m\u001b[0m\u001b[0m\n\u001b[1;32m--> 394\u001b[1;33m                             \u001b[1;32mreturn\u001b[0m \u001b[0m_repr_pprint\u001b[0m\u001b[1;33m(\u001b[0m\u001b[0mobj\u001b[0m\u001b[1;33m,\u001b[0m \u001b[0mself\u001b[0m\u001b[1;33m,\u001b[0m \u001b[0mcycle\u001b[0m\u001b[1;33m)\u001b[0m\u001b[1;33m\u001b[0m\u001b[1;33m\u001b[0m\u001b[0m\n\u001b[0m\u001b[0;32m    395\u001b[0m \u001b[1;33m\u001b[0m\u001b[0m\n\u001b[0;32m    396\u001b[0m             \u001b[1;32mreturn\u001b[0m \u001b[0m_default_pprint\u001b[0m\u001b[1;33m(\u001b[0m\u001b[0mobj\u001b[0m\u001b[1;33m,\u001b[0m \u001b[0mself\u001b[0m\u001b[1;33m,\u001b[0m \u001b[0mcycle\u001b[0m\u001b[1;33m)\u001b[0m\u001b[1;33m\u001b[0m\u001b[1;33m\u001b[0m\u001b[0m\n",
      "\u001b[1;32m~\\anaconda3\\lib\\site-packages\\IPython\\lib\\pretty.py\u001b[0m in \u001b[0;36m_repr_pprint\u001b[1;34m(obj, p, cycle)\u001b[0m\n\u001b[0;32m    698\u001b[0m     \u001b[1;34m\"\"\"A pprint that just redirects to the normal repr function.\"\"\"\u001b[0m\u001b[1;33m\u001b[0m\u001b[1;33m\u001b[0m\u001b[0m\n\u001b[0;32m    699\u001b[0m     \u001b[1;31m# Find newlines and replace them with p.break_()\u001b[0m\u001b[1;33m\u001b[0m\u001b[1;33m\u001b[0m\u001b[0m\n\u001b[1;32m--> 700\u001b[1;33m     \u001b[0moutput\u001b[0m \u001b[1;33m=\u001b[0m \u001b[0mrepr\u001b[0m\u001b[1;33m(\u001b[0m\u001b[0mobj\u001b[0m\u001b[1;33m)\u001b[0m\u001b[1;33m\u001b[0m\u001b[1;33m\u001b[0m\u001b[0m\n\u001b[0m\u001b[0;32m    701\u001b[0m     \u001b[0mlines\u001b[0m \u001b[1;33m=\u001b[0m \u001b[0moutput\u001b[0m\u001b[1;33m.\u001b[0m\u001b[0msplitlines\u001b[0m\u001b[1;33m(\u001b[0m\u001b[1;33m)\u001b[0m\u001b[1;33m\u001b[0m\u001b[1;33m\u001b[0m\u001b[0m\n\u001b[0;32m    702\u001b[0m     \u001b[1;32mwith\u001b[0m \u001b[0mp\u001b[0m\u001b[1;33m.\u001b[0m\u001b[0mgroup\u001b[0m\u001b[1;33m(\u001b[0m\u001b[1;33m)\u001b[0m\u001b[1;33m:\u001b[0m\u001b[1;33m\u001b[0m\u001b[1;33m\u001b[0m\u001b[0m\n",
      "\u001b[1;32m~\\anaconda3\\lib\\site-packages\\river\\metrics\\confusion.py\u001b[0m in \u001b[0;36m__repr__\u001b[1;34m(self)\u001b[0m\n\u001b[0;32m     94\u001b[0m         \u001b[0mcolumns\u001b[0m \u001b[1;33m=\u001b[0m \u001b[1;33m[\u001b[0m\u001b[0mheaders\u001b[0m\u001b[1;33m[\u001b[0m\u001b[1;36m1\u001b[0m\u001b[1;33m:\u001b[0m\u001b[1;33m]\u001b[0m\u001b[1;33m]\u001b[0m\u001b[1;33m\u001b[0m\u001b[1;33m\u001b[0m\u001b[0m\n\u001b[0;32m     95\u001b[0m         \u001b[1;32mfor\u001b[0m \u001b[0mcol\u001b[0m \u001b[1;32min\u001b[0m \u001b[0mclasses\u001b[0m\u001b[1;33m:\u001b[0m\u001b[1;33m\u001b[0m\u001b[1;33m\u001b[0m\u001b[0m\n\u001b[1;32m---> 96\u001b[1;33m             \u001b[0mcolumns\u001b[0m\u001b[1;33m.\u001b[0m\u001b[0mappend\u001b[0m\u001b[1;33m(\u001b[0m\u001b[1;33m[\u001b[0m\u001b[1;34mf\"{int(self.data[row][col]):,}\"\u001b[0m \u001b[1;32mfor\u001b[0m \u001b[0mrow\u001b[0m \u001b[1;32min\u001b[0m \u001b[0mclasses\u001b[0m\u001b[1;33m]\u001b[0m\u001b[1;33m)\u001b[0m\u001b[1;33m\u001b[0m\u001b[1;33m\u001b[0m\u001b[0m\n\u001b[0m\u001b[0;32m     97\u001b[0m \u001b[1;33m\u001b[0m\u001b[0m\n\u001b[0;32m     98\u001b[0m         \u001b[1;32mreturn\u001b[0m \u001b[0mutils\u001b[0m\u001b[1;33m.\u001b[0m\u001b[0mpretty\u001b[0m\u001b[1;33m.\u001b[0m\u001b[0mprint_table\u001b[0m\u001b[1;33m(\u001b[0m\u001b[0mheaders\u001b[0m\u001b[1;33m,\u001b[0m \u001b[0mcolumns\u001b[0m\u001b[1;33m)\u001b[0m\u001b[1;33m\u001b[0m\u001b[1;33m\u001b[0m\u001b[0m\n",
      "\u001b[1;32m~\\anaconda3\\lib\\site-packages\\river\\metrics\\confusion.py\u001b[0m in \u001b[0;36m<listcomp>\u001b[1;34m(.0)\u001b[0m\n\u001b[0;32m     94\u001b[0m         \u001b[0mcolumns\u001b[0m \u001b[1;33m=\u001b[0m \u001b[1;33m[\u001b[0m\u001b[0mheaders\u001b[0m\u001b[1;33m[\u001b[0m\u001b[1;36m1\u001b[0m\u001b[1;33m:\u001b[0m\u001b[1;33m]\u001b[0m\u001b[1;33m]\u001b[0m\u001b[1;33m\u001b[0m\u001b[1;33m\u001b[0m\u001b[0m\n\u001b[0;32m     95\u001b[0m         \u001b[1;32mfor\u001b[0m \u001b[0mcol\u001b[0m \u001b[1;32min\u001b[0m \u001b[0mclasses\u001b[0m\u001b[1;33m:\u001b[0m\u001b[1;33m\u001b[0m\u001b[1;33m\u001b[0m\u001b[0m\n\u001b[1;32m---> 96\u001b[1;33m             \u001b[0mcolumns\u001b[0m\u001b[1;33m.\u001b[0m\u001b[0mappend\u001b[0m\u001b[1;33m(\u001b[0m\u001b[1;33m[\u001b[0m\u001b[1;34mf\"{int(self.data[row][col]):,}\"\u001b[0m \u001b[1;32mfor\u001b[0m \u001b[0mrow\u001b[0m \u001b[1;32min\u001b[0m \u001b[0mclasses\u001b[0m\u001b[1;33m]\u001b[0m\u001b[1;33m)\u001b[0m\u001b[1;33m\u001b[0m\u001b[1;33m\u001b[0m\u001b[0m\n\u001b[0m\u001b[0;32m     97\u001b[0m \u001b[1;33m\u001b[0m\u001b[0m\n\u001b[0;32m     98\u001b[0m         \u001b[1;32mreturn\u001b[0m \u001b[0mutils\u001b[0m\u001b[1;33m.\u001b[0m\u001b[0mpretty\u001b[0m\u001b[1;33m.\u001b[0m\u001b[0mprint_table\u001b[0m\u001b[1;33m(\u001b[0m\u001b[0mheaders\u001b[0m\u001b[1;33m,\u001b[0m \u001b[0mcolumns\u001b[0m\u001b[1;33m)\u001b[0m\u001b[1;33m\u001b[0m\u001b[1;33m\u001b[0m\u001b[0m\n",
      "\u001b[1;31mKeyboardInterrupt\u001b[0m: "
     ]
    }
   ],
   "source": [
    "cm = metrics.ConfusionMatrix()\n",
    "\n",
    "for yt_lr_ros, yp_lr_ros in zip(y_true_lr_ros, y_pred_lr_ros):\n",
    "    cm = cm.update(yt_lr_ros, yp_lr_ros) \n",
    "cm"
   ]
  },
  {
   "cell_type": "code",
   "execution_count": 54,
   "id": "60bc1de3-6f9e-4037-9fc5-4ad6aed6af61",
   "metadata": {},
   "outputs": [],
   "source": [
    "streaming_results_lr=pd.DataFrame(\n",
    "    [\n",
    "        [metric_accu_lr,metric_accu_lr_rus,metric_accu_lr_ros],\n",
    "        [metric_prec_lr,metric_prec_lr_rus,metric_prec_lr_ros],\n",
    "        [metric_recall_lr,metric_recall_lr_rus,metric_recall_lr_ros],\n",
    "        [metric_f1_lr,metric_f1_lr_rus,metric_f1_lr_ros],\n",
    "        [metric_auc_lr,metric_auc_lr_rus,metric_auc_lr_ros]\n",
    "    ],\n",
    "    columns=[\"LogRegression_DataSet\",\"LogRegression_Under\",\"LogRegression_Over\"],\n",
    "    index=[\"Accuracy\",\"Precision\",\"Recall\",\"F1_score\", \"AUC\"])"
   ]
  },
  {
   "cell_type": "code",
   "execution_count": 55,
   "id": "124e4161-b9c2-4e0f-91ac-ee245272c2e3",
   "metadata": {},
   "outputs": [
    {
     "data": {
      "text/html": [
       "<div>\n",
       "<style scoped>\n",
       "    .dataframe tbody tr th:only-of-type {\n",
       "        vertical-align: middle;\n",
       "    }\n",
       "\n",
       "    .dataframe tbody tr th {\n",
       "        vertical-align: top;\n",
       "    }\n",
       "\n",
       "    .dataframe thead th {\n",
       "        text-align: right;\n",
       "    }\n",
       "</style>\n",
       "<table border=\"1\" class=\"dataframe\">\n",
       "  <thead>\n",
       "    <tr style=\"text-align: right;\">\n",
       "      <th></th>\n",
       "      <th>LogRegression_DataSet</th>\n",
       "      <th>LogRegression_Under</th>\n",
       "      <th>LogRegression_Over</th>\n",
       "    </tr>\n",
       "  </thead>\n",
       "  <tbody>\n",
       "    <tr>\n",
       "      <th>Accuracy</th>\n",
       "      <td>Accuracy: 0.00%</td>\n",
       "      <td>Accuracy: 0.00%</td>\n",
       "      <td>Accuracy: 0.13%</td>\n",
       "    </tr>\n",
       "    <tr>\n",
       "      <th>Precision</th>\n",
       "      <td>Precision: 0.00%</td>\n",
       "      <td>Precision: 0.00%</td>\n",
       "      <td>Precision: 0.00%</td>\n",
       "    </tr>\n",
       "    <tr>\n",
       "      <th>Recall</th>\n",
       "      <td>Recall: 0.00%</td>\n",
       "      <td>Recall: 0.00%</td>\n",
       "      <td>Recall: 0.00%</td>\n",
       "    </tr>\n",
       "    <tr>\n",
       "      <th>F1_score</th>\n",
       "      <td>F1: 0.00%</td>\n",
       "      <td>F1: 0.00%</td>\n",
       "      <td>F1: 0.00%</td>\n",
       "    </tr>\n",
       "    <tr>\n",
       "      <th>AUC</th>\n",
       "      <td>ROCAUC: 51.12%</td>\n",
       "      <td>ROCAUC: 71.87%</td>\n",
       "      <td>ROCAUC: 67.22%</td>\n",
       "    </tr>\n",
       "  </tbody>\n",
       "</table>\n",
       "</div>"
      ],
      "text/plain": [
       "          LogRegression_DataSet LogRegression_Under LogRegression_Over\n",
       "Accuracy        Accuracy: 0.00%     Accuracy: 0.00%    Accuracy: 0.13%\n",
       "Precision      Precision: 0.00%    Precision: 0.00%   Precision: 0.00%\n",
       "Recall            Recall: 0.00%       Recall: 0.00%      Recall: 0.00%\n",
       "F1_score              F1: 0.00%           F1: 0.00%          F1: 0.00%\n",
       "AUC              ROCAUC: 51.12%      ROCAUC: 71.87%     ROCAUC: 67.22%"
      ]
     },
     "execution_count": 55,
     "metadata": {},
     "output_type": "execute_result"
    }
   ],
   "source": [
    "streaming_results_lr"
   ]
  },
  {
   "cell_type": "markdown",
   "id": "1338a11d-a449-4ea7-804c-b7b2de9bb758",
   "metadata": {},
   "source": [
    "## 3 Decision Tree Classifier"
   ]
  },
  {
   "cell_type": "markdown",
   "id": "918d36c5-e087-4002-9401-79ed29ad780d",
   "metadata": {},
   "source": [
    "### 3.1 Original DataSet"
   ]
  },
  {
   "cell_type": "code",
   "execution_count": 59,
   "id": "0e5192ef-b7c4-4ab6-9a6e-904af3f75dfd",
   "metadata": {},
   "outputs": [],
   "source": [
    "\n",
    "from sklearn import datasets\n",
    "from river import stream\n",
    "from river import compose\n",
    "from river import linear_model\n",
    "from river import optim\n",
    "from river import preprocessing\n",
    "from river import metrics\n",
    "from river import tree\n",
    "\n",
    "model_dt = tree.HoeffdingTreeClassifier()\n",
    "\n",
    "y_true_dt = []\n",
    "y_pred_dt = []\n",
    "\n",
    "for xi_dt, yi_dt in stream.iter_pandas(features, labels):\n",
    "    \n",
    "    # Test the current model on the new \"unobserved\" sample\n",
    "    yi_pred_dt = model.predict_proba_one(xi)\n",
    "     \n",
    "    # Train the model with the new sample\n",
    "    model_dt.learn_one(xi, yi)\n",
    "    \n",
    "    # Update the running metric with the prediction and ground truth value\n",
    "    y_true_dt.append(yi)\n",
    "    y_pred_dt.append(yi_pred_dt[True])\n",
    "    \n",
    "#Source: https://towardsdatascience.com/river-online-machine-learning-in-python-d0f048120e46  "
   ]
  },
  {
   "cell_type": "markdown",
   "id": "45c7729e-4eca-42dd-9293-13ef91c7a8e4",
   "metadata": {},
   "source": [
    "#### 3.1.1 Metrics Evaluation"
   ]
  },
  {
   "cell_type": "code",
   "execution_count": 60,
   "id": "467de955-7087-4cbf-aadd-65ec39a4c8b0",
   "metadata": {
    "tags": []
   },
   "outputs": [],
   "source": [
    "#ROC AUC\n",
    "metric_auc_dt = metrics.ROCAUC()\n",
    "metric_accu_dt = metrics.Accuracy()\n",
    "metric_prec_dt = metrics.Precision()\n",
    "metric_recall_dt=metrics.Recall()\n",
    "metric_f1_dt=metrics.F1()\n",
    "\n",
    "for yt_dt, yp_dt in zip(y_true_dt, y_pred_dt):\n",
    "    metric_auc_dt = metric_auc_dt.update(yt_dt, yp_dt)\n",
    "    metric_accu_dt = metric_accu_dt.update(yt_dt, yp_dt)\n",
    "    metric_prec_dt = metric_prec_dt.update(yt_dt, yp_dt)\n",
    "    metric_recall_dt = metric_recall_dt.update(yt_dt, yp_dt)    \n",
    "    metric_f1_dt = metric_f1_dt.update(yt_dt, yp_dt)"
   ]
  },
  {
   "cell_type": "markdown",
   "id": "8d4bce28-ea9b-4253-9c4f-af8d64d5f402",
   "metadata": {},
   "source": [
    "### 3.2 Undersampling"
   ]
  },
  {
   "cell_type": "code",
   "execution_count": 71,
   "id": "4175f024-9d51-4774-887e-dca43afcb525",
   "metadata": {},
   "outputs": [],
   "source": [
    "\n",
    "from sklearn import datasets\n",
    "from river import stream\n",
    "from river import compose\n",
    "from river import linear_model\n",
    "from river import optim\n",
    "from river import preprocessing\n",
    "from river import metrics\n",
    "from river import imblearn\n",
    "\n",
    "model_dt_rus = (\n",
    "    imblearn.RandomUnderSampler(\n",
    "        tree.HoeffdingTreeClassifier(),\n",
    "        desired_dist={0: 0.5, 1: 0.5},\n",
    "        seed=42\n",
    "    )\n",
    ")\n",
    "\n",
    "y_true_dt_rus = []\n",
    "y_pred_dt_rus = []\n",
    "\n",
    "for xi_dt_rus, yi_dt_rus in stream.iter_pandas(features, labels):\n",
    "    \n",
    "    # Test the current model on the new \"unobserved\" sample\n",
    "    yi_pred_dt_rus = model_dt_rus.predict_proba_one(xi_dt_rus)\n",
    "     \n",
    "    # Train the model with the new sample\n",
    "    model_dt_rus.learn_one(xi_dt_rus, yi_dt_rus)\n",
    "    \n",
    "    # Update the running metric with the prediction and ground truth value\n",
    "    y_true_dt_rus.append(yi_dt_rus)\n",
    "    y_pred_dt_rus.append(\"1\")\n",
    "    \n",
    "#print(f'ROC AUC: {metrics.ROCAUC(y_true, y_pred):.3f}')"
   ]
  },
  {
   "cell_type": "code",
   "execution_count": 70,
   "id": "859186d7-6b9b-467c-bb41-9ca7f7cc2459",
   "metadata": {},
   "outputs": [
    {
     "data": {
      "text/plain": [
       "{0: 1.0, 1: 1.7517067414031004e-45}"
      ]
     },
     "execution_count": 70,
     "metadata": {},
     "output_type": "execute_result"
    }
   ],
   "source": [
    "yi_pred_dt_rus"
   ]
  },
  {
   "cell_type": "markdown",
   "id": "d43c143a-6ba2-4d21-b77e-e02c18b58cff",
   "metadata": {},
   "source": [
    "#### 2.2.1 Metrics Evaluation"
   ]
  },
  {
   "cell_type": "code",
   "execution_count": 72,
   "id": "04c74c53-9f6f-4f32-bac3-95f1e9502ff1",
   "metadata": {
    "tags": []
   },
   "outputs": [
    {
     "ename": "TypeError",
     "evalue": "'>' not supported between instances of 'str' and 'float'",
     "output_type": "error",
     "traceback": [
      "\u001b[1;31m---------------------------------------------------------------------------\u001b[0m",
      "\u001b[1;31mTypeError\u001b[0m                                 Traceback (most recent call last)",
      "\u001b[1;32m~\\AppData\\Local\\Temp\\ipykernel_14192\\4085259443.py\u001b[0m in \u001b[0;36m<module>\u001b[1;34m\u001b[0m\n\u001b[0;32m      7\u001b[0m \u001b[1;33m\u001b[0m\u001b[0m\n\u001b[0;32m      8\u001b[0m \u001b[1;32mfor\u001b[0m \u001b[0myt_dt_rus\u001b[0m\u001b[1;33m,\u001b[0m \u001b[0myp_dt_rus\u001b[0m \u001b[1;32min\u001b[0m \u001b[0mzip\u001b[0m\u001b[1;33m(\u001b[0m\u001b[0my_true_dt_rus\u001b[0m\u001b[1;33m,\u001b[0m \u001b[0my_pred_dt_rus\u001b[0m\u001b[1;33m)\u001b[0m\u001b[1;33m:\u001b[0m\u001b[1;33m\u001b[0m\u001b[1;33m\u001b[0m\u001b[0m\n\u001b[1;32m----> 9\u001b[1;33m     \u001b[0mmetric_auc_dt_rus\u001b[0m \u001b[1;33m=\u001b[0m \u001b[0mmetric_auc_dt_rus\u001b[0m\u001b[1;33m.\u001b[0m\u001b[0mupdate\u001b[0m\u001b[1;33m(\u001b[0m\u001b[0myt_dt_rus\u001b[0m\u001b[1;33m,\u001b[0m \u001b[0myp_dt_rus\u001b[0m\u001b[1;33m)\u001b[0m\u001b[1;33m\u001b[0m\u001b[1;33m\u001b[0m\u001b[0m\n\u001b[0m\u001b[0;32m     10\u001b[0m     \u001b[0mmetric_accu_dt_rus\u001b[0m \u001b[1;33m=\u001b[0m \u001b[0mmetric_accu_dt_rus\u001b[0m\u001b[1;33m.\u001b[0m\u001b[0mupdate\u001b[0m\u001b[1;33m(\u001b[0m\u001b[0myt_dt_rus\u001b[0m\u001b[1;33m,\u001b[0m \u001b[0myp_dt_rus\u001b[0m\u001b[1;33m)\u001b[0m\u001b[1;33m\u001b[0m\u001b[1;33m\u001b[0m\u001b[0m\n\u001b[0;32m     11\u001b[0m     \u001b[0mmetric_prec_dt_rus\u001b[0m \u001b[1;33m=\u001b[0m \u001b[0mmetric_prec_dt_rus\u001b[0m\u001b[1;33m.\u001b[0m\u001b[0mupdate\u001b[0m\u001b[1;33m(\u001b[0m\u001b[0myt_dt_rus\u001b[0m\u001b[1;33m,\u001b[0m \u001b[0myp_dt_rus\u001b[0m\u001b[1;33m)\u001b[0m\u001b[1;33m\u001b[0m\u001b[1;33m\u001b[0m\u001b[0m\n",
      "\u001b[1;32m~\\anaconda3\\lib\\site-packages\\river\\metrics\\roc_auc.py\u001b[0m in \u001b[0;36mupdate\u001b[1;34m(self, y_true, y_pred, sample_weight)\u001b[0m\n\u001b[0;32m     65\u001b[0m         \u001b[0mp_true\u001b[0m \u001b[1;33m=\u001b[0m \u001b[0my_pred\u001b[0m\u001b[1;33m.\u001b[0m\u001b[0mget\u001b[0m\u001b[1;33m(\u001b[0m\u001b[1;32mTrue\u001b[0m\u001b[1;33m,\u001b[0m \u001b[1;36m0.0\u001b[0m\u001b[1;33m)\u001b[0m \u001b[1;32mif\u001b[0m \u001b[0misinstance\u001b[0m\u001b[1;33m(\u001b[0m\u001b[0my_pred\u001b[0m\u001b[1;33m,\u001b[0m \u001b[0mdict\u001b[0m\u001b[1;33m)\u001b[0m \u001b[1;32melse\u001b[0m \u001b[0my_pred\u001b[0m\u001b[1;33m\u001b[0m\u001b[1;33m\u001b[0m\u001b[0m\n\u001b[0;32m     66\u001b[0m         \u001b[1;32mfor\u001b[0m \u001b[0mt\u001b[0m\u001b[1;33m,\u001b[0m \u001b[0mcm\u001b[0m \u001b[1;32min\u001b[0m \u001b[0mzip\u001b[0m\u001b[1;33m(\u001b[0m\u001b[0mself\u001b[0m\u001b[1;33m.\u001b[0m\u001b[0mthresholds\u001b[0m\u001b[1;33m,\u001b[0m \u001b[0mself\u001b[0m\u001b[1;33m.\u001b[0m\u001b[0mcms\u001b[0m\u001b[1;33m)\u001b[0m\u001b[1;33m:\u001b[0m\u001b[1;33m\u001b[0m\u001b[1;33m\u001b[0m\u001b[0m\n\u001b[1;32m---> 67\u001b[1;33m             \u001b[0mcm\u001b[0m\u001b[1;33m.\u001b[0m\u001b[0mupdate\u001b[0m\u001b[1;33m(\u001b[0m\u001b[0my_true\u001b[0m \u001b[1;33m==\u001b[0m \u001b[0mself\u001b[0m\u001b[1;33m.\u001b[0m\u001b[0mpos_val\u001b[0m\u001b[1;33m,\u001b[0m \u001b[0mp_true\u001b[0m \u001b[1;33m>\u001b[0m \u001b[0mt\u001b[0m\u001b[1;33m,\u001b[0m \u001b[0msample_weight\u001b[0m\u001b[1;33m)\u001b[0m\u001b[1;33m\u001b[0m\u001b[1;33m\u001b[0m\u001b[0m\n\u001b[0m\u001b[0;32m     68\u001b[0m         \u001b[1;32mreturn\u001b[0m \u001b[0mself\u001b[0m\u001b[1;33m\u001b[0m\u001b[1;33m\u001b[0m\u001b[0m\n\u001b[0;32m     69\u001b[0m \u001b[1;33m\u001b[0m\u001b[0m\n",
      "\u001b[1;31mTypeError\u001b[0m: '>' not supported between instances of 'str' and 'float'"
     ]
    }
   ],
   "source": [
    "#ROC AUC\n",
    "metric_auc_dt_rus = metrics.ROCAUC()\n",
    "metric_accu_dt_rus = metrics.Accuracy()\n",
    "metric_prec_dt_rus = metrics.Precision()\n",
    "metric_recall_dt_rus=metrics.Recall()\n",
    "metric_f1_dt_rus=metrics.F1()\n",
    "\n",
    "for yt_dt_rus, yp_dt_rus in zip(y_true_dt_rus, y_pred_dt_rus):\n",
    "    metric_auc_dt_rus = metric_auc_dt_rus.update(yt_dt_rus, yp_dt_rus)\n",
    "    metric_accu_dt_rus = metric_accu_dt_rus.update(yt_dt_rus, yp_dt_rus)\n",
    "    metric_prec_dt_rus = metric_prec_dt_rus.update(yt_dt_rus, yp_dt_rus)\n",
    "    metric_recall_dt_rus = metric_recall_dt_rus.update(yt_dt_rus, yp_dt_rus)    \n",
    "    metric_f1_dt_rus = metric_f1_dt_rus.update(yt_dt_rus, yp_dt_rus)"
   ]
  },
  {
   "cell_type": "markdown",
   "id": "28514c9b-b6df-4517-bad7-63cd616f302c",
   "metadata": {},
   "source": [
    "### 2.3 Oversampling"
   ]
  },
  {
   "cell_type": "code",
   "execution_count": 30,
   "id": "c05b667b-005e-4198-b85d-2f63df62a8a1",
   "metadata": {},
   "outputs": [
    {
     "data": {
      "text/plain": [
       "ROCAUC: 51.12%"
      ]
     },
     "execution_count": 30,
     "metadata": {},
     "output_type": "execute_result"
    }
   ],
   "source": [
    "metric_auc"
   ]
  },
  {
   "cell_type": "code",
   "execution_count": 39,
   "id": "756ba74a-96ca-40ff-a2d4-b3719e5d1e97",
   "metadata": {
    "collapsed": true,
    "jupyter": {
     "outputs_hidden": true
    },
    "tags": []
   },
   "outputs": [
    {
     "ename": "AttributeError",
     "evalue": "'tuple' object has no attribute 'learn_one'",
     "output_type": "error",
     "traceback": [
      "\u001b[1;31m---------------------------------------------------------------------------\u001b[0m",
      "\u001b[1;31mAttributeError\u001b[0m                            Traceback (most recent call last)",
      "\u001b[1;32m~\\AppData\\Local\\Temp\\ipykernel_1504\\1556395550.py\u001b[0m in \u001b[0;36m<module>\u001b[1;34m\u001b[0m\n\u001b[0;32m     23\u001b[0m \u001b[1;33m\u001b[0m\u001b[0m\n\u001b[0;32m     24\u001b[0m     \u001b[1;31m# Train the model with the new sample\u001b[0m\u001b[1;33m\u001b[0m\u001b[1;33m\u001b[0m\u001b[0m\n\u001b[1;32m---> 25\u001b[1;33m     \u001b[0mmodel_ros\u001b[0m\u001b[1;33m.\u001b[0m\u001b[0mlearn_one\u001b[0m\u001b[1;33m(\u001b[0m\u001b[0mxi\u001b[0m\u001b[1;33m,\u001b[0m \u001b[0myi\u001b[0m\u001b[1;33m)\u001b[0m\u001b[1;33m\u001b[0m\u001b[1;33m\u001b[0m\u001b[0m\n\u001b[0m\u001b[0;32m     26\u001b[0m \u001b[1;33m\u001b[0m\u001b[0m\n\u001b[0;32m     27\u001b[0m     \u001b[1;31m# Test the current model on the new \"unobserved\" sample\u001b[0m\u001b[1;33m\u001b[0m\u001b[1;33m\u001b[0m\u001b[0m\n",
      "\u001b[1;32m~\\anaconda3\\lib\\site-packages\\river\\imblearn\\random.py\u001b[0m in \u001b[0;36mlearn_one\u001b[1;34m(self, x, y)\u001b[0m\n\u001b[0;32m    173\u001b[0m \u001b[1;33m\u001b[0m\u001b[0m\n\u001b[0;32m    174\u001b[0m         \u001b[1;32mfor\u001b[0m \u001b[0m_\u001b[0m \u001b[1;32min\u001b[0m \u001b[0mrange\u001b[0m\u001b[1;33m(\u001b[0m\u001b[0mutils\u001b[0m\u001b[1;33m.\u001b[0m\u001b[0mrandom\u001b[0m\u001b[1;33m.\u001b[0m\u001b[0mpoisson\u001b[0m\u001b[1;33m(\u001b[0m\u001b[0mrate\u001b[0m\u001b[1;33m,\u001b[0m \u001b[0mrng\u001b[0m\u001b[1;33m=\u001b[0m\u001b[0mself\u001b[0m\u001b[1;33m.\u001b[0m\u001b[0m_rng\u001b[0m\u001b[1;33m)\u001b[0m\u001b[1;33m)\u001b[0m\u001b[1;33m:\u001b[0m\u001b[1;33m\u001b[0m\u001b[1;33m\u001b[0m\u001b[0m\n\u001b[1;32m--> 175\u001b[1;33m             \u001b[0mself\u001b[0m\u001b[1;33m.\u001b[0m\u001b[0mclassifier\u001b[0m\u001b[1;33m.\u001b[0m\u001b[0mlearn_one\u001b[0m\u001b[1;33m(\u001b[0m\u001b[0mx\u001b[0m\u001b[1;33m,\u001b[0m \u001b[0my\u001b[0m\u001b[1;33m)\u001b[0m\u001b[1;33m\u001b[0m\u001b[1;33m\u001b[0m\u001b[0m\n\u001b[0m\u001b[0;32m    176\u001b[0m \u001b[1;33m\u001b[0m\u001b[0m\n\u001b[0;32m    177\u001b[0m         \u001b[1;32mreturn\u001b[0m \u001b[0mself\u001b[0m\u001b[1;33m\u001b[0m\u001b[1;33m\u001b[0m\u001b[0m\n",
      "\u001b[1;31mAttributeError\u001b[0m: 'tuple' object has no attribute 'learn_one'"
     ]
    }
   ],
   "source": [
    "\n",
    "from sklearn import datasets\n",
    "from river import stream\n",
    "from river import compose\n",
    "from river import linear_model\n",
    "from river import optim\n",
    "from river import preprocessing\n",
    "from river import metrics\n",
    "from river import imblearn\n",
    "\n",
    "\n",
    "model_ros = imblearn.RandomOverSampler((\n",
    "    preprocessing.StandardScaler(),\n",
    "    linear_model.LogisticRegression( optim.SGD(lr=0.01) )\n",
    "    ), desired_dist={False: 0.4, True: 0.6},seed=42)\n",
    "    \n",
    "metric_auc_LR_ros = metrics.ROCAUC()\n",
    "metric_acc_LR_ros = metrics.Accuracy()\n",
    "metric_prec_LR_ros = metrics.Precision()\n",
    "metric_rec_LR_ros = metrics.Recall()\n",
    "metric_f1_LR_ros = metrics.F1()\n",
    "\n",
    "for xi, yi in stream.iter_pandas(features, labels):\n",
    "    \n",
    "    # Train the model with the new sample\n",
    "    model_ros.learn_one(xi, yi)\n",
    "    \n",
    "    # Test the current model on the new \"unobserved\" sample\n",
    "    yi_pred = model_ros.predict_proba_one(xi)\n",
    "\n",
    "    # Update the running metric with the prediction and ground truth value\n",
    "    metric_AUC_LR_ros.update(yi, yi_pred)\n",
    "    metric_acc_LR_ros.update(yi, yi_pred)\n",
    "    metric_prec_LR_ros.update(yi, yi_pred)\n",
    "    metric_rec_LR_ros.update(yi, yi_pred)\n",
    "    metric_f1_LR_ros.update(yi, yi_pred)\n",
    "    \n",
    "\n",
    "print(f'ROC AUC: {metric_auc_LR_ros}')"
   ]
  },
  {
   "cell_type": "code",
   "execution_count": 49,
   "id": "688cbb86-8e10-405f-8275-4e6e8623a70f",
   "metadata": {
    "tags": []
   },
   "outputs": [],
   "source": [
    "#ROC AUC\n",
    "metric_auc_lr = metrics.ROCAUC()\n",
    "metric_accu_lr = metrics.Accuracy()\n",
    "metric_prec_lr = metrics.Precision()\n",
    "metric_recall_lr=metrics.Recall()\n",
    "metric_f1_lr=metrics.F1()\n",
    "\n",
    "for yt, yp in zip(y_true, y_pred):\n",
    "    metric_auc_lr = metric_auc_lr.update(yt, yp)\n",
    "    metric_accu_lr = metric_accu_lr.update(yt, yp)\n",
    "    metric_prec_lr = metric_prec_lr.update(yt, yp)\n",
    "    metric_recall_lr = metric_recall_lr.update(yt, yp)    \n",
    "    metric_f1_lr = metric_f1_lr.update(yt, yp)"
   ]
  }
 ],
 "metadata": {
  "kernelspec": {
   "display_name": "Python 3 (ipykernel)",
   "language": "python",
   "name": "python3"
  },
  "language_info": {
   "codemirror_mode": {
    "name": "ipython",
    "version": 3
   },
   "file_extension": ".py",
   "mimetype": "text/x-python",
   "name": "python",
   "nbconvert_exporter": "python",
   "pygments_lexer": "ipython3",
   "version": "3.9.13"
  }
 },
 "nbformat": 4,
 "nbformat_minor": 5
}
