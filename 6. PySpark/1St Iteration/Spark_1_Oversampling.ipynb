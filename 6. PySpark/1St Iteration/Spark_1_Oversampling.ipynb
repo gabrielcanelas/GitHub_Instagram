{
 "cells": [
  {
   "cell_type": "markdown",
   "id": "351922eb-3030-4b9a-a594-71f1922b8edd",
   "metadata": {},
   "source": [
    "# Spark the poop out of it"
   ]
  },
  {
   "cell_type": "code",
   "execution_count": 23,
   "id": "50b9c588-afa2-4bde-a82f-690be81dfbf2",
   "metadata": {},
   "outputs": [
    {
     "name": "stdout",
     "output_type": "stream",
     "text": [
      "Requirement already satisfied: pyspark in c:\\users\\casa\\anaconda3\\lib\\site-packages (3.3.1)\n",
      "Requirement already satisfied: py4j==0.10.9.5 in c:\\users\\casa\\anaconda3\\lib\\site-packages (from pyspark) (0.10.9.5)\n"
     ]
    }
   ],
   "source": [
    "!pip install pyspark"
   ]
  },
  {
   "cell_type": "markdown",
   "id": "e9104d05-9786-4b43-842a-4a64fff9b9c6",
   "metadata": {},
   "source": [
    "## 1 Build Data Frame"
   ]
  },
  {
   "cell_type": "markdown",
   "id": "22581ddd-8790-46b4-9c97-1d5e43b99a7e",
   "metadata": {},
   "source": [
    "### 1.1 Split of Data"
   ]
  },
  {
   "cell_type": "code",
   "execution_count": 2,
   "id": "75f97ac4-f0ae-49fd-8292-c822eb23860f",
   "metadata": {},
   "outputs": [
    {
     "data": {
      "text/html": [
       "<div>\n",
       "<style scoped>\n",
       "    .dataframe tbody tr th:only-of-type {\n",
       "        vertical-align: middle;\n",
       "    }\n",
       "\n",
       "    .dataframe tbody tr th {\n",
       "        vertical-align: top;\n",
       "    }\n",
       "\n",
       "    .dataframe thead th {\n",
       "        text-align: right;\n",
       "    }\n",
       "</style>\n",
       "<table border=\"1\" class=\"dataframe\">\n",
       "  <thead>\n",
       "    <tr style=\"text-align: right;\">\n",
       "      <th></th>\n",
       "      <th>id</th>\n",
       "      <th>createTime</th>\n",
       "      <th>likeCount</th>\n",
       "      <th>commentCount</th>\n",
       "      <th>tags_count</th>\n",
       "      <th>translation_len</th>\n",
       "      <th>label_sentiment</th>\n",
       "      <th>score_sentiment</th>\n",
       "      <th>score_hate</th>\n",
       "      <th>fk_readability</th>\n",
       "      <th>...</th>\n",
       "      <th>language_0</th>\n",
       "      <th>language_1</th>\n",
       "      <th>productType_carousel_container</th>\n",
       "      <th>productType_clips</th>\n",
       "      <th>productType_feed</th>\n",
       "      <th>productType_igtv</th>\n",
       "      <th>harmonic_centrality</th>\n",
       "      <th>degree_centrality</th>\n",
       "      <th>closeness_centrality</th>\n",
       "      <th>Betweenness</th>\n",
       "    </tr>\n",
       "  </thead>\n",
       "  <tbody>\n",
       "    <tr>\n",
       "      <th>0</th>\n",
       "      <td>11540</td>\n",
       "      <td>2017-12-31 20:10:58+00:00</td>\n",
       "      <td>17552</td>\n",
       "      <td>295</td>\n",
       "      <td>0</td>\n",
       "      <td>4</td>\n",
       "      <td>1</td>\n",
       "      <td>0.992561</td>\n",
       "      <td>0.888707</td>\n",
       "      <td>121.220</td>\n",
       "      <td>...</td>\n",
       "      <td>1</td>\n",
       "      <td>0</td>\n",
       "      <td>0</td>\n",
       "      <td>0</td>\n",
       "      <td>1</td>\n",
       "      <td>0</td>\n",
       "      <td>33.523858</td>\n",
       "      <td>0.012243</td>\n",
       "      <td>0.027949</td>\n",
       "      <td>216.332754</td>\n",
       "    </tr>\n",
       "    <tr>\n",
       "      <th>1</th>\n",
       "      <td>32532</td>\n",
       "      <td>2018-02-05 13:40:01+00:00</td>\n",
       "      <td>5305</td>\n",
       "      <td>17</td>\n",
       "      <td>19</td>\n",
       "      <td>962</td>\n",
       "      <td>1</td>\n",
       "      <td>0.999602</td>\n",
       "      <td>0.990074</td>\n",
       "      <td>-106.935</td>\n",
       "      <td>...</td>\n",
       "      <td>0</td>\n",
       "      <td>1</td>\n",
       "      <td>1</td>\n",
       "      <td>0</td>\n",
       "      <td>0</td>\n",
       "      <td>0</td>\n",
       "      <td>33.523858</td>\n",
       "      <td>0.012243</td>\n",
       "      <td>0.027949</td>\n",
       "      <td>216.332754</td>\n",
       "    </tr>\n",
       "    <tr>\n",
       "      <th>2</th>\n",
       "      <td>32530</td>\n",
       "      <td>2018-02-15 15:52:22+00:00</td>\n",
       "      <td>15077</td>\n",
       "      <td>34</td>\n",
       "      <td>4</td>\n",
       "      <td>18</td>\n",
       "      <td>1</td>\n",
       "      <td>0.997795</td>\n",
       "      <td>0.952006</td>\n",
       "      <td>97.025</td>\n",
       "      <td>...</td>\n",
       "      <td>1</td>\n",
       "      <td>0</td>\n",
       "      <td>0</td>\n",
       "      <td>0</td>\n",
       "      <td>1</td>\n",
       "      <td>0</td>\n",
       "      <td>33.523858</td>\n",
       "      <td>0.012243</td>\n",
       "      <td>0.027949</td>\n",
       "      <td>216.332754</td>\n",
       "    </tr>\n",
       "    <tr>\n",
       "      <th>3</th>\n",
       "      <td>8265</td>\n",
       "      <td>2018-04-12 17:25:11+00:00</td>\n",
       "      <td>1081</td>\n",
       "      <td>79</td>\n",
       "      <td>3</td>\n",
       "      <td>571</td>\n",
       "      <td>-1</td>\n",
       "      <td>-0.990802</td>\n",
       "      <td>0.984654</td>\n",
       "      <td>-150.322</td>\n",
       "      <td>...</td>\n",
       "      <td>0</td>\n",
       "      <td>1</td>\n",
       "      <td>1</td>\n",
       "      <td>0</td>\n",
       "      <td>0</td>\n",
       "      <td>0</td>\n",
       "      <td>33.523858</td>\n",
       "      <td>0.012243</td>\n",
       "      <td>0.027949</td>\n",
       "      <td>216.332754</td>\n",
       "    </tr>\n",
       "    <tr>\n",
       "      <th>4</th>\n",
       "      <td>8264</td>\n",
       "      <td>2018-04-15 16:47:31+00:00</td>\n",
       "      <td>1035</td>\n",
       "      <td>37</td>\n",
       "      <td>14</td>\n",
       "      <td>597</td>\n",
       "      <td>-1</td>\n",
       "      <td>-0.987855</td>\n",
       "      <td>0.983755</td>\n",
       "      <td>-262.105</td>\n",
       "      <td>...</td>\n",
       "      <td>0</td>\n",
       "      <td>1</td>\n",
       "      <td>0</td>\n",
       "      <td>0</td>\n",
       "      <td>1</td>\n",
       "      <td>0</td>\n",
       "      <td>33.523858</td>\n",
       "      <td>0.012243</td>\n",
       "      <td>0.027949</td>\n",
       "      <td>216.332754</td>\n",
       "    </tr>\n",
       "  </tbody>\n",
       "</table>\n",
       "<p>5 rows × 42 columns</p>\n",
       "</div>"
      ],
      "text/plain": [
       "      id                 createTime  likeCount  commentCount  tags_count  \\\n",
       "0  11540  2017-12-31 20:10:58+00:00      17552           295           0   \n",
       "1  32532  2018-02-05 13:40:01+00:00       5305            17          19   \n",
       "2  32530  2018-02-15 15:52:22+00:00      15077            34           4   \n",
       "3   8265  2018-04-12 17:25:11+00:00       1081            79           3   \n",
       "4   8264  2018-04-15 16:47:31+00:00       1035            37          14   \n",
       "\n",
       "   translation_len  label_sentiment  score_sentiment  score_hate  \\\n",
       "0                4                1         0.992561    0.888707   \n",
       "1              962                1         0.999602    0.990074   \n",
       "2               18                1         0.997795    0.952006   \n",
       "3              571               -1        -0.990802    0.984654   \n",
       "4              597               -1        -0.987855    0.983755   \n",
       "\n",
       "   fk_readability  ...  language_0  language_1  \\\n",
       "0         121.220  ...           1           0   \n",
       "1        -106.935  ...           0           1   \n",
       "2          97.025  ...           1           0   \n",
       "3        -150.322  ...           0           1   \n",
       "4        -262.105  ...           0           1   \n",
       "\n",
       "   productType_carousel_container  productType_clips  productType_feed  \\\n",
       "0                               0                  0                 1   \n",
       "1                               1                  0                 0   \n",
       "2                               0                  0                 1   \n",
       "3                               1                  0                 0   \n",
       "4                               0                  0                 1   \n",
       "\n",
       "   productType_igtv  harmonic_centrality  degree_centrality  \\\n",
       "0                 0            33.523858           0.012243   \n",
       "1                 0            33.523858           0.012243   \n",
       "2                 0            33.523858           0.012243   \n",
       "3                 0            33.523858           0.012243   \n",
       "4                 0            33.523858           0.012243   \n",
       "\n",
       "   closeness_centrality  Betweenness  \n",
       "0              0.027949   216.332754  \n",
       "1              0.027949   216.332754  \n",
       "2              0.027949   216.332754  \n",
       "3              0.027949   216.332754  \n",
       "4              0.027949   216.332754  \n",
       "\n",
       "[5 rows x 42 columns]"
      ]
     },
     "execution_count": 2,
     "metadata": {},
     "output_type": "execute_result"
    }
   ],
   "source": [
    "import pandas as pd\n",
    "filename85 = 'C:/Users/Casa/OneDrive - Associação Porto Business School/Documents/MBA/0.3 Projeto DEUS/BD/0.Final_Test_Data_set/data_set_to_test.csv'\n",
    "data_set_initial_6 = pd.read_csv(filename85, sep=',', encoding='utf8')\n",
    "data_set_initial_6.head()"
   ]
  },
  {
   "cell_type": "markdown",
   "id": "dc9d4b35-cd18-45a6-aade-be746ece263e",
   "metadata": {},
   "source": [
    "#### Choose the data set one at the time"
   ]
  },
  {
   "cell_type": "markdown",
   "id": "c328f77d-d775-4ebf-a844-58fd0ab1f8c0",
   "metadata": {},
   "source": [
    "#### Data Set 1"
   ]
  },
  {
   "cell_type": "code",
   "execution_count": 24,
   "id": "6a5621d3-bc6b-4436-bb20-688bce566220",
   "metadata": {},
   "outputs": [],
   "source": [
    "## Here we are going to take only the variables we want to the dataset, splitting the features from the label objective\n",
    "\n",
    "data_set_1=data_set_initial_6[[\"label_hate\",\"likeCount\",\"commentCount\",\"weekday\",\"month\",\"productType_carousel_container\",\"productType_clips\",\"productType_feed\",\"productType_igtv\",\"tags_count\"]].copy()\n",
    "features = data_set_1.drop('label_hate', axis=1)\n",
    "labels = data_set_1['label_hate']\n",
    "\n",
    "features_dt_labels=[\"likeCount\",\"commentCount\",\"weekday\",\"month\",\"productType_carousel_container\",\"productType_clips\",\"productType_feed\",\"productType_igtv\",\"tags_count\"]"
   ]
  },
  {
   "cell_type": "markdown",
   "id": "188a47b4-f3d5-40e5-b213-a25ce12393bd",
   "metadata": {},
   "source": [
    "#### Data Set 2"
   ]
  },
  {
   "cell_type": "code",
   "execution_count": null,
   "id": "09d0527a-2066-44d3-be8a-442744b49beb",
   "metadata": {},
   "outputs": [],
   "source": [
    "## Add variables from the sentiment analysis\n",
    "\n",
    "data_set_2=data_set_initial_6[[\"label_hate\",\"commentCount\",\"likeCount\",\"weekday\",\"month\",\"productType_carousel_container\",\"productType_clips\",\"productType_feed\",\"productType_igtv\",\"tags_count\",\"score_sentiment\",\"translation_len\",\"language_0\",\"language_1\",\"fk_readability\",\"fk_grade\"]].copy()\n",
    "features = data_set_2.drop('label_hate', axis=1)\n",
    "labels = data_set_2['label_hate']\n",
    "\n",
    "features_dt_labels=[\"commentCount\",\"likeCount\",\"weekday\",\"month\",\"productType_carousel_container\",\"productType_clips\",\"productType_feed\",\"productType_igtv\",\"tags_count\",\"score_sentiment\",\"translation_len\",\"language_0\",\"language_1\",\"fk_readability\",\"fk_grade\"]\n"
   ]
  },
  {
   "cell_type": "markdown",
   "id": "a1c6c63c-5e64-44b0-a368-abb6fcd1de83",
   "metadata": {},
   "source": [
    "#### 3rd Data Set"
   ]
  },
  {
   "cell_type": "code",
   "execution_count": null,
   "id": "86e473b3-9fa3-4f12-ae32-034a0c65364c",
   "metadata": {},
   "outputs": [],
   "source": [
    "## Add variables from the sentiment analysis NER\n",
    "data_set_3=data_set_initial_6[[\"label_hate\",\"commentCount\",\"likeCount\",\"weekday\",\"month\",\"productType_carousel_container\",\"productType_clips\",\"productType_feed\",\"productType_igtv\",\"tags_count\",\"score_sentiment\",\"translation_len\",\"language_0\",\"language_1\",\"fk_readability\",\"fk_grade\",\"CARDINAL\",\"GPE\",\"EVENT\",\"FAC\",\"DATE\",\"LANGUAGE\",\"LAW\",\"LOC\",\"MONEY\",\"NORP\",\"ORDINAL\",\"ORG\",\"PERCENT\",\"PERSON\",\"PRODUCT\",\"QUANTITY\",\"TIME\",\"WORK_OF_ART\"]].copy()\n",
    "features = data_set_3.drop('label_hate', axis=1)\n",
    "labels = data_set_3['label_hate']\n",
    "\n",
    "features_dt_labels=[\"label_hate\",\"commentCount\",\"likeCount\",\"weekday\",\"month\",\"productType_carousel_container\",\"productType_clips\",\"productType_feed\",\"productType_igtv\",\"tags_count\",\"score_sentiment\",\"translation_len\",\"language_0\",\"language_1\",\"fk_readability\",\"fk_grade\",\"CARDINAL\",\"GPE\",\"EVENT\",\"FAC\",\"DATE\",\"LANGUAGE\",\"LAW\",\"LOC\",\"MONEY\",\"NORP\",\"ORDINAL\",\"ORG\",\"PERCENT\",\"PERSON\",\"PRODUCT\",\"QUANTITY\",\"TIME\",\"WORK_OF_ART\"]\n"
   ]
  },
  {
   "cell_type": "markdown",
   "id": "e7d2c309-994d-4ec0-847b-4f645d71602c",
   "metadata": {},
   "source": [
    "#### 4th Data Set"
   ]
  },
  {
   "cell_type": "code",
   "execution_count": 198,
   "id": "130f0783-eba5-4544-9c37-5e29e1d3731a",
   "metadata": {},
   "outputs": [],
   "source": [
    "## Add variables from the sentiment analysis SNA\n",
    "data_set_4=data_set_initial_6[[\"label_hate\",\"commentCount\",\"likeCount\",\"weekday\",\"month\",\"productType_carousel_container\",\"productType_clips\",\"productType_feed\",\"productType_igtv\",\"tags_count\",\"score_sentiment\",\"translation_len\",\"language_0\",\"language_1\",\"fk_readability\",\"fk_grade\",\"CARDINAL\",\"GPE\",\"EVENT\",\"FAC\",\"DATE\",\"LANGUAGE\",\"LAW\",\"LOC\",\"MONEY\",\"NORP\",\"ORDINAL\",\"ORG\",\"PERCENT\",\"PERSON\",\"PRODUCT\",\"QUANTITY\",\"TIME\",\"WORK_OF_ART\",\"harmonic_centrality\",\"degree_centrality\",\"closeness_centrality\",\"Betweenness\"]].copy()\n",
    "features = data_set_4.drop('label_hate', axis=1)\n",
    "labels = data_set_4['label_hate']\n",
    "\n",
    "features_dt_labels=[\"label_hate\",\"commentCount\",\"likeCount\",\"weekday\",\"month\",\"productType_carousel_container\",\"productType_clips\",\"productType_feed\",\"productType_igtv\",\"tags_count\",\"score_sentiment\",\"translation_len\",\"language_0\",\"language_1\",\"fk_readability\",\"fk_grade\",\"CARDINAL\",\"GPE\",\"EVENT\",\"FAC\",\"DATE\",\"LANGUAGE\",\"LAW\",\"LOC\",\"MONEY\",\"NORP\",\"ORDINAL\",\"ORG\",\"PERCENT\",\"PERSON\",\"PRODUCT\",\"QUANTITY\",\"TIME\",\"WORK_OF_ART\",\"harmonic_centrality\",\"degree_centrality\",\"closeness_centrality\",\"Betweenness\"]\n"
   ]
  },
  {
   "cell_type": "markdown",
   "id": "b45f2cfa-6cf2-4649-9312-7359ef4dd391",
   "metadata": {},
   "source": [
    "### 1.2 Split of Data"
   ]
  },
  {
   "cell_type": "code",
   "execution_count": 25,
   "id": "9d954ef7-0bc0-4ec0-aa33-0b6390f60a82",
   "metadata": {},
   "outputs": [],
   "source": [
    "#Split the data\n",
    "from sklearn.model_selection import train_test_split\n",
    "# Split the data into training and testing sets\n",
    "train_features, test_features, train_labels, test_labels = train_test_split(features, labels, test_size = 0.25, random_state = 42)"
   ]
  },
  {
   "cell_type": "code",
   "execution_count": 26,
   "id": "0c1a105e-e670-44e1-be67-d855df28a5c7",
   "metadata": {},
   "outputs": [
    {
     "name": "stdout",
     "output_type": "stream",
     "text": [
      "Counter({0: 20315, 1: 169})\n",
      "Counter({0: 6773, 1: 55})\n",
      "The class we want to predict is unbalanced the prediction models had to be Smote to be able to learn\n"
     ]
    }
   ],
   "source": [
    "from imblearn.over_sampling import RandomOverSampler, SMOTE\n",
    "from imblearn.under_sampling import RandomUnderSampler, NearMiss\n",
    "from collections import Counter\n",
    "\n",
    "print(Counter(train_labels))\n",
    "print(Counter(test_labels))\n",
    "print(f'The class we want to predict is unbalanced the prediction models had to be Smote to be able to learn')\n",
    "\n",
    "#Source: https://medium.com/grabngoinfo/four-oversampling-and-under-sampling-methods-for-imbalanced-classification-using-python-7304aedf9037\n",
    "#Source: https://towardsdatascience.com/oversampling-and-undersampling-5e2bbaf56dcf"
   ]
  },
  {
   "cell_type": "code",
   "execution_count": 27,
   "id": "086f91cd-c097-45f2-98cb-a3aacb3f0b4f",
   "metadata": {},
   "outputs": [
    {
     "name": "stdout",
     "output_type": "stream",
     "text": [
      "[(0, 20315), (1, 20315)]\n"
     ]
    }
   ],
   "source": [
    "# Randomly over sample the minority class\n",
    "smote = SMOTE(random_state=42)\n",
    "train_features_smote, train_labels_smote= smote.fit_resample(train_features, train_labels)\n",
    "# Check the number of records after over sampling\n",
    "print(sorted(Counter(train_labels_smote).items()))"
   ]
  },
  {
   "cell_type": "code",
   "execution_count": 28,
   "id": "670178e2-4899-4c6c-9370-b124c7867f7d",
   "metadata": {},
   "outputs": [
    {
     "name": "stdout",
     "output_type": "stream",
     "text": [
      "[(0, 169), (1, 169)]\n"
     ]
    }
   ],
   "source": [
    "# Randomly under sample the majority class\n",
    "rus = RandomUnderSampler(random_state=42)\n",
    "train_features_rus, train_labels_rus= rus.fit_resample(train_features, train_labels)\n",
    "# Check the number of records after under sampling\n",
    "print(sorted(Counter(train_labels_rus).items()))"
   ]
  },
  {
   "cell_type": "markdown",
   "id": "0485ada1-e8c4-4b3e-a547-7af718d673df",
   "metadata": {},
   "source": [
    "### 1.3 Choose the split to apply below just one at the time"
   ]
  },
  {
   "cell_type": "code",
   "execution_count": 29,
   "id": "a117ddd8-8490-4f71-8303-c593b033c279",
   "metadata": {},
   "outputs": [],
   "source": [
    "#Unbalanced Data\n",
    "train_features['label']=train_labels\n",
    "test_features['label']=test_labels\n",
    "\n",
    "training_df=train_features.copy()\n",
    "test_df=train_features.copy()"
   ]
  },
  {
   "cell_type": "code",
   "execution_count": 47,
   "id": "63632bd2-68b8-47c8-8f47-464f7f5bf224",
   "metadata": {},
   "outputs": [],
   "source": [
    "#Oversampling through SMOTE\n",
    "train_features_smote['label']=train_labels_smote\n",
    "test_features['label']=test_labels\n",
    "\n",
    "training_df=train_features_smote.copy()\n",
    "test_df=train_features.copy()"
   ]
  },
  {
   "cell_type": "code",
   "execution_count": null,
   "id": "ebc69d1f-a783-48b4-a195-a10beb0aec4d",
   "metadata": {},
   "outputs": [],
   "source": [
    "#Random Undersampling\n",
    "train_features_rus['label']=train_labels_rus\n",
    "test_features['label']=test_labels\n",
    "\n",
    "training_df=train_features_rus.copy()\n",
    "test_df=train_features.copy()"
   ]
  },
  {
   "cell_type": "markdown",
   "id": "74d114ad-6d62-49ae-8d85-9c63b49b6a7f",
   "metadata": {},
   "source": [
    "### 1.4 Upload to Spark"
   ]
  },
  {
   "cell_type": "code",
   "execution_count": 48,
   "id": "98706589-b7e3-4ad7-989a-ac88cb974784",
   "metadata": {},
   "outputs": [],
   "source": [
    "#Next we will be passing the pandas dataframe to Spark\n",
    "from pyspark.sql import SparkSession\n",
    "\n",
    "spark = SparkSession.builder.appName(\"1st Try\").getOrCreate()\n",
    "  \n",
    "#probabily need to install Java if you do not have it and create dependencies consult the next website to have an ideia: https://www.computerhope.com/issues/ch000549.htm#windows10 and https://stackoverflow.com/questions/56213955/python-worker-failed-to-connect-back-in-pyspark-or-spark-version-2-3-1\n",
    "sparkDF_train=spark.createDataFrame(training_df) \n",
    "sparkDF_test=spark.createDataFrame(test_df) \n",
    "\n",
    "#sparkDF.printSchema()\n",
    "#sparkDF.show(2)"
   ]
  },
  {
   "cell_type": "code",
   "execution_count": 49,
   "id": "7b50af1f-c476-404c-8747-74be335395ed",
   "metadata": {},
   "outputs": [
    {
     "name": "stdout",
     "output_type": "stream",
     "text": [
      "<class 'list'>\n",
      "<class 'str'>\n",
      "+--------------------+-----+\n",
      "|            features|label|\n",
      "+--------------------+-----+\n",
      "|[1724.0,17.0,1.0,...|    0|\n",
      "|[120.0,7.0,1.0,1....|    0|\n",
      "|[1387.0,19.0,0.0,...|    0|\n",
      "+--------------------+-----+\n",
      "only showing top 3 rows\n",
      "\n"
     ]
    }
   ],
   "source": [
    "#Next will have to addopt the data set to be able to properly split and train the models\n",
    "#Used the defined feature labels above and the target labels above\n",
    "labels = training_df['label']\n",
    "\n",
    "feature_headers = list(features.columns.values)\n",
    "label_headers = labels.name\n",
    "\n",
    "#\n",
    "from pyspark.ml.feature import VectorAssembler\n",
    "\n",
    "va = VectorAssembler(inputCols = feature_headers, outputCol='features')\n",
    "\n",
    "trainingData = va.transform(sparkDF_train)\n",
    "testData = va.transform(sparkDF_test)\n",
    "\n",
    "trainingData = trainingData.select(['features', label_headers])\n",
    "testData = testData.select(['features', label_headers])\n",
    "\n",
    "\n",
    "print(type(feature_headers))\n",
    "print(type(label_headers))\n",
    "\n",
    "#Source: https://www.datatechnotes.com/2021/06/pyspark-decision-tree-classification.html\n",
    "trainingData.show(3)"
   ]
  },
  {
   "cell_type": "markdown",
   "id": "50bc9ead-2c70-4243-a482-9cfc9991f409",
   "metadata": {},
   "source": [
    "## 2. Pipeline"
   ]
  },
  {
   "cell_type": "markdown",
   "id": "130313ba-f2d9-40ee-9ee3-e285a1814abb",
   "metadata": {},
   "source": [
    "### 2.1 Decision Tree"
   ]
  },
  {
   "cell_type": "markdown",
   "id": "4a23ebe9-9b6a-41fb-82d1-45e2fdd60b42",
   "metadata": {},
   "source": [
    "#### 2.1.1 Model Training"
   ]
  },
  {
   "cell_type": "code",
   "execution_count": 50,
   "id": "19973cce-011c-4ff6-8035-9886e2d6cd16",
   "metadata": {},
   "outputs": [
    {
     "name": "stdout",
     "output_type": "stream",
     "text": [
      "+--------------------+-----+--------------+--------------------+----------+\n",
      "|            features|label| rawPrediction|         probability|prediction|\n",
      "+--------------------+-----+--------------+--------------------+----------+\n",
      "|[1724.0,17.0,1.0,...|    0|[3205.0,223.0]|[0.93494749124854...|       0.0|\n",
      "|[120.0,7.0,1.0,1....|    0|[3205.0,223.0]|[0.93494749124854...|       0.0|\n",
      "|[1387.0,19.0,0.0,...|    0|[3205.0,223.0]|[0.93494749124854...|       0.0|\n",
      "+--------------------+-----+--------------+--------------------+----------+\n",
      "only showing top 3 rows\n",
      "\n"
     ]
    }
   ],
   "source": [
    "#Next we will be defing the decision tree\n",
    "\n",
    "from pyspark.mllib.tree import DecisionTree, DecisionTreeModel\n",
    "from pyspark.ml.classification import DecisionTreeClassifier\n",
    "from pyspark.mllib.util import MLUtils\n",
    "\n",
    "# Split the data into training and test sets (30% held out for testing) We are not using the below function due to the random split it performs\n",
    "#(trainingData, testData) = va_df.randomSplit([0.7, 0.3])\n",
    "\n",
    "# Train a DecisionTree model.\n",
    "#  Empty categoricalFeaturesInfo indicates all features are continuous.\n",
    "dtc = DecisionTreeClassifier(featuresCol=\"features\", labelCol=\"label\")\n",
    "dtc = dtc.fit(trainingData)\n",
    "\n",
    "# After training we will be testing out dataset\n",
    "pred = dtc.transform(testData)\n",
    "pred.show(3)"
   ]
  },
  {
   "cell_type": "markdown",
   "id": "95fc9593-686b-428a-92d8-2d1f45085bee",
   "metadata": {},
   "source": [
    "#### 2.1.2 Evaluation"
   ]
  },
  {
   "cell_type": "code",
   "execution_count": 51,
   "id": "5bcf86cd-a602-476a-aeb6-21145e5bc2e7",
   "metadata": {
    "tags": []
   },
   "outputs": [
    {
     "name": "stdout",
     "output_type": "stream",
     "text": [
      "Confusion Matrix:\n",
      "[[18273  2042]\n",
      " [  128    41]]\n"
     ]
    }
   ],
   "source": [
    "# After training the model, we'll predict test data and check the accuracy metrics. Here, we can use MulticlassClassificationEvaluator to check the accuracy. \n",
    "#Confusion matrix can be created by using confusion_matrix function of sklearn.metrics module.\n",
    "from pyspark.ml.evaluation import MulticlassClassificationEvaluator\n",
    "from pyspark.ml.evaluation import BinaryClassificationEvaluator\n",
    "\n",
    "from sklearn.metrics import confusion_matrix\n",
    "from sklearn.metrics import accuracy_score\n",
    "from sklearn.metrics import precision_score\n",
    "from sklearn.metrics import recall_score\n",
    "from sklearn.metrics import f1_score\n",
    "\n",
    "evaluator=MulticlassClassificationEvaluator(predictionCol=\"prediction\")\n",
    "#print(\"Prediction Accuracy: \", acc)\n",
    "\n",
    "y_pred=pred.select(\"prediction\").collect()\n",
    "y_orig=pred.select(\"label\").collect()\n",
    "\n",
    "cm = confusion_matrix(y_orig, y_pred)\n",
    "print(\"Confusion Matrix:\")\n",
    "print(cm)\n",
    "\n",
    "#Define the Evaluation Metrics\n",
    "#Accuracy = (TP+TN)/(TP+TN+FP+FN)\n",
    "accu_dt = evaluator.evaluate(pred)\n",
    "#The precision is the ratio tp / (tp + fp) where tp is the number of true positives and fp the number of false positives. The precision is intuitively the ability of the classifier not to label as positive a sample that is negative.\n",
    "prec_dt=cm[1,1]/(cm[1,1]+cm[1,0])\n",
    "\n",
    "#The recall is the ratio tp / (tp + fn) where tp is the number of true positives and fn the number of false negatives. The recall is intuitively the ability of the classifier to find all the positive samples.\n",
    "recall_dt=cm[1,1]/(cm[1,1]+cm[0,1])\n",
    "\n",
    "#The F1 score can be interpreted as a harmonic mean of the precision and recall, where an F1 score reaches its best value at 1 and worst score at 0. The relative contribution of precision and recall to the F1 score are equal. The formula for the F1 score is:\n",
    "f1_dt=2*((prec_dt*recall_dt)/(prec_dt+recall_dt))\n",
    "#F1 = 2 * (precision * recall) / (precision + recall)\n",
    "\n",
    "# Instantiate metrics object\n",
    "metrics_dt = BinaryClassificationEvaluator()\n",
    "auc_dt=metrics_dt.evaluate(pred, {metrics_dt.metricName: 'areaUnderROC'})\n",
    "\n",
    "#Source: https://shihaojran.com/distributed-machine-learning-using-pyspark/"
   ]
  },
  {
   "cell_type": "markdown",
   "id": "4dd80449-30bf-4a4c-ade6-dffbbc2eed98",
   "metadata": {},
   "source": [
    "#### 2.1.3 ROC"
   ]
  },
  {
   "cell_type": "code",
   "execution_count": 52,
   "id": "c39ee2be-ea05-415e-9e29-e919de0c3cf3",
   "metadata": {},
   "outputs": [
    {
     "name": "stderr",
     "output_type": "stream",
     "text": [
      "C:\\Users\\Casa\\anaconda3\\lib\\site-packages\\pyspark\\sql\\context.py:157: FutureWarning: Deprecated in 3.0.0. Use SparkSession.builder.getOrCreate() instead.\n",
      "  warnings.warn(\n",
      "C:\\Users\\Casa\\anaconda3\\lib\\site-packages\\pyspark\\sql\\context.py:157: FutureWarning: Deprecated in 3.0.0. Use SparkSession.builder.getOrCreate() instead.\n",
      "  warnings.warn(\n"
     ]
    },
    {
     "data": {
      "text/plain": [
       "<AxesSubplot:title={'center':'Precision-Recall Curve'}, xlabel='Recall', ylabel='Precision'>"
      ]
     },
     "execution_count": 52,
     "metadata": {},
     "output_type": "execute_result"
    },
    {
     "data": {
      "image/png": "[encoded data removed]",
      "text/plain": [
       "<Figure size 1200x400 with 2 Axes>"
      ]
     },
     "metadata": {},
     "output_type": "display_data"
    }
   ],
   "source": [
    "#Plot the Roc Curve\n",
    "from matplotlib import pyplot as plt\n",
    "from handyspark import BinaryClassificationMetrics\n",
    "\n",
    "\n",
    "bcm_dt = BinaryClassificationMetrics(pred, scoreCol='probability', labelCol='label')\n",
    "fig, axs = plt.subplots(1, 2, figsize=(12, 4))\n",
    "bcm_dt.plot_roc_curve(ax=axs[0])\n",
    "bcm_dt.plot_pr_curve(ax=axs[1])\n",
    "\n",
    "#Source: https://colab.research.google.com/github/dvgodoy/handyspark/blob/master/notebooks/Exploring_Titanic.ipynb#scrollTo=8w7mJX30_C91\n",
    "#SOurce: https://towardsdatascience.com/binary-classifier-evaluation-made-easy-with-handyspark-3b1e69c12b4f\n",
    "#Source: https://handyspark.readthedocs.io/en/latest/includeme.html"
   ]
  },
  {
   "cell_type": "code",
   "execution_count": 53,
   "id": "767deb63-b87b-4469-a5be-64c68cd29590",
   "metadata": {},
   "outputs": [
    {
     "name": "stderr",
     "output_type": "stream",
     "text": [
      "C:\\Users\\Casa\\anaconda3\\lib\\site-packages\\pyspark\\sql\\context.py:157: FutureWarning: Deprecated in 3.0.0. Use SparkSession.builder.getOrCreate() instead.\n",
      "  warnings.warn(\n"
     ]
    },
    {
     "data": {
      "text/html": [
       "<div>\n",
       "<style scoped>\n",
       "    .dataframe tbody tr th:only-of-type {\n",
       "        vertical-align: middle;\n",
       "    }\n",
       "\n",
       "    .dataframe tbody tr th {\n",
       "        vertical-align: top;\n",
       "    }\n",
       "\n",
       "    .dataframe thead th {\n",
       "        text-align: right;\n",
       "    }\n",
       "</style>\n",
       "<table border=\"1\" class=\"dataframe\">\n",
       "  <thead>\n",
       "    <tr style=\"text-align: right;\">\n",
       "      <th></th>\n",
       "      <th>threshold</th>\n",
       "      <th>fpr</th>\n",
       "      <th>recall</th>\n",
       "      <th>precision</th>\n",
       "    </tr>\n",
       "  </thead>\n",
       "  <tbody>\n",
       "    <tr>\n",
       "      <th>0</th>\n",
       "      <td>0.705750</td>\n",
       "      <td>0.012848</td>\n",
       "      <td>0.047337</td>\n",
       "      <td>0.029740</td>\n",
       "    </tr>\n",
       "    <tr>\n",
       "      <th>1</th>\n",
       "      <td>0.622155</td>\n",
       "      <td>0.025105</td>\n",
       "      <td>0.082840</td>\n",
       "      <td>0.026718</td>\n",
       "    </tr>\n",
       "    <tr>\n",
       "      <th>2</th>\n",
       "      <td>0.588810</td>\n",
       "      <td>0.070687</td>\n",
       "      <td>0.171598</td>\n",
       "      <td>0.019795</td>\n",
       "    </tr>\n",
       "    <tr>\n",
       "      <th>3</th>\n",
       "      <td>0.545455</td>\n",
       "      <td>0.073394</td>\n",
       "      <td>0.183432</td>\n",
       "      <td>0.020368</td>\n",
       "    </tr>\n",
       "    <tr>\n",
       "      <th>4</th>\n",
       "      <td>0.544276</td>\n",
       "      <td>0.083780</td>\n",
       "      <td>0.213018</td>\n",
       "      <td>0.020713</td>\n",
       "    </tr>\n",
       "    <tr>\n",
       "      <th>5</th>\n",
       "      <td>0.540541</td>\n",
       "      <td>0.100517</td>\n",
       "      <td>0.242604</td>\n",
       "      <td>0.019683</td>\n",
       "    </tr>\n",
       "    <tr>\n",
       "      <th>6</th>\n",
       "      <td>0.420222</td>\n",
       "      <td>0.180113</td>\n",
       "      <td>0.349112</td>\n",
       "      <td>0.015869</td>\n",
       "    </tr>\n",
       "    <tr>\n",
       "      <th>7</th>\n",
       "      <td>0.330658</td>\n",
       "      <td>0.241693</td>\n",
       "      <td>0.437870</td>\n",
       "      <td>0.014848</td>\n",
       "    </tr>\n",
       "    <tr>\n",
       "      <th>8</th>\n",
       "      <td>0.287428</td>\n",
       "      <td>0.314792</td>\n",
       "      <td>0.497041</td>\n",
       "      <td>0.012965</td>\n",
       "    </tr>\n",
       "    <tr>\n",
       "      <th>9</th>\n",
       "      <td>0.224171</td>\n",
       "      <td>0.414964</td>\n",
       "      <td>0.585799</td>\n",
       "      <td>0.011607</td>\n",
       "    </tr>\n",
       "    <tr>\n",
       "      <th>10</th>\n",
       "      <td>0.142502</td>\n",
       "      <td>0.584691</td>\n",
       "      <td>0.727811</td>\n",
       "      <td>0.010249</td>\n",
       "    </tr>\n",
       "    <tr>\n",
       "      <th>11</th>\n",
       "      <td>0.130841</td>\n",
       "      <td>0.593847</td>\n",
       "      <td>0.733728</td>\n",
       "      <td>0.010174</td>\n",
       "    </tr>\n",
       "    <tr>\n",
       "      <th>12</th>\n",
       "      <td>0.099071</td>\n",
       "      <td>0.636820</td>\n",
       "      <td>0.751479</td>\n",
       "      <td>0.009721</td>\n",
       "    </tr>\n",
       "    <tr>\n",
       "      <th>13</th>\n",
       "      <td>0.094966</td>\n",
       "      <td>0.761605</td>\n",
       "      <td>0.852071</td>\n",
       "      <td>0.009221</td>\n",
       "    </tr>\n",
       "    <tr>\n",
       "      <th>14</th>\n",
       "      <td>0.065053</td>\n",
       "      <td>0.919370</td>\n",
       "      <td>0.928994</td>\n",
       "      <td>0.008336</td>\n",
       "    </tr>\n",
       "    <tr>\n",
       "      <th>15</th>\n",
       "      <td>0.036232</td>\n",
       "      <td>0.945557</td>\n",
       "      <td>0.958580</td>\n",
       "      <td>0.008363</td>\n",
       "    </tr>\n",
       "    <tr>\n",
       "      <th>16</th>\n",
       "      <td>0.011321</td>\n",
       "      <td>0.971351</td>\n",
       "      <td>0.994083</td>\n",
       "      <td>0.008442</td>\n",
       "    </tr>\n",
       "    <tr>\n",
       "      <th>17</th>\n",
       "      <td>0.002445</td>\n",
       "      <td>0.991435</td>\n",
       "      <td>1.000000</td>\n",
       "      <td>0.008321</td>\n",
       "    </tr>\n",
       "    <tr>\n",
       "      <th>18</th>\n",
       "      <td>0.000000</td>\n",
       "      <td>1.000000</td>\n",
       "      <td>1.000000</td>\n",
       "      <td>0.008250</td>\n",
       "    </tr>\n",
       "    <tr>\n",
       "      <th>19</th>\n",
       "      <td>0.000000</td>\n",
       "      <td>1.000000</td>\n",
       "      <td>1.000000</td>\n",
       "      <td>0.000000</td>\n",
       "    </tr>\n",
       "  </tbody>\n",
       "</table>\n",
       "</div>"
      ],
      "text/plain": [
       "    threshold       fpr    recall  precision\n",
       "0    0.705750  0.012848  0.047337   0.029740\n",
       "1    0.622155  0.025105  0.082840   0.026718\n",
       "2    0.588810  0.070687  0.171598   0.019795\n",
       "3    0.545455  0.073394  0.183432   0.020368\n",
       "4    0.544276  0.083780  0.213018   0.020713\n",
       "5    0.540541  0.100517  0.242604   0.019683\n",
       "6    0.420222  0.180113  0.349112   0.015869\n",
       "7    0.330658  0.241693  0.437870   0.014848\n",
       "8    0.287428  0.314792  0.497041   0.012965\n",
       "9    0.224171  0.414964  0.585799   0.011607\n",
       "10   0.142502  0.584691  0.727811   0.010249\n",
       "11   0.130841  0.593847  0.733728   0.010174\n",
       "12   0.099071  0.636820  0.751479   0.009721\n",
       "13   0.094966  0.761605  0.852071   0.009221\n",
       "14   0.065053  0.919370  0.928994   0.008336\n",
       "15   0.036232  0.945557  0.958580   0.008363\n",
       "16   0.011321  0.971351  0.994083   0.008442\n",
       "17   0.002445  0.991435  1.000000   0.008321\n",
       "18   0.000000  1.000000  1.000000   0.008250\n",
       "19   0.000000  1.000000  1.000000   0.000000"
      ]
     },
     "execution_count": 53,
     "metadata": {},
     "output_type": "execute_result"
    }
   ],
   "source": [
    "#Check the threshold \n",
    "bcm_dt.getMetricsByThreshold().toPandas()"
   ]
  },
  {
   "cell_type": "code",
   "execution_count": 78,
   "id": "d1c8e82d-7b9f-4b3a-b516-5be8fad9120c",
   "metadata": {
    "collapsed": true,
    "jupyter": {
     "outputs_hidden": true
    },
    "tags": []
   },
   "outputs": [
    {
     "ename": "Py4JJavaError",
     "evalue": "An error occurred while calling z:org.apache.spark.api.python.PythonRDD.runJob.\n: org.apache.spark.SparkException: Job aborted due to stage failure: Task 0 in stage 199.0 failed 1 times, most recent failure: Lost task 0.0 in stage 199.0 (TID 736) (DESKTOP-RN7371E.lan executor driver): java.lang.ClassCastException: scala.Tuple3 cannot be cast to scala.Tuple2\r\n\tat scala.collection.Iterator$$anon$10.next(Iterator.scala:461)\r\n\tat org.apache.spark.api.python.SerDeUtil$AutoBatchedPickler.next(SerDeUtil.scala:90)\r\n\tat org.apache.spark.api.python.SerDeUtil$AutoBatchedPickler.next(SerDeUtil.scala:80)\r\n\tat scala.collection.Iterator.foreach(Iterator.scala:943)\r\n\tat scala.collection.Iterator.foreach$(Iterator.scala:943)\r\n\tat org.apache.spark.api.python.SerDeUtil$AutoBatchedPickler.foreach(SerDeUtil.scala:80)\r\n\tat org.apache.spark.api.python.PythonRDD$.writeIteratorToStream(PythonRDD.scala:307)\r\n\tat org.apache.spark.api.python.PythonRunner$$anon$2.writeIteratorToStream(PythonRunner.scala:732)\r\n\tat org.apache.spark.api.python.BasePythonRunner$WriterThread.$anonfun$run$1(PythonRunner.scala:438)\r\n\tat org.apache.spark.util.Utils$.logUncaughtExceptions(Utils.scala:2066)\r\n\tat org.apache.spark.api.python.BasePythonRunner$WriterThread.run(PythonRunner.scala:272)\r\n\nDriver stacktrace:\r\n\tat org.apache.spark.scheduler.DAGScheduler.failJobAndIndependentStages(DAGScheduler.scala:2672)\r\n\tat org.apache.spark.scheduler.DAGScheduler.$anonfun$abortStage$2(DAGScheduler.scala:2608)\r\n\tat org.apache.spark.scheduler.DAGScheduler.$anonfun$abortStage$2$adapted(DAGScheduler.scala:2607)\r\n\tat scala.collection.mutable.ResizableArray.foreach(ResizableArray.scala:62)\r\n\tat scala.collection.mutable.ResizableArray.foreach$(ResizableArray.scala:55)\r\n\tat scala.collection.mutable.ArrayBuffer.foreach(ArrayBuffer.scala:49)\r\n\tat org.apache.spark.scheduler.DAGScheduler.abortStage(DAGScheduler.scala:2607)\r\n\tat org.apache.spark.scheduler.DAGScheduler.$anonfun$handleTaskSetFailed$1(DAGScheduler.scala:1182)\r\n\tat org.apache.spark.scheduler.DAGScheduler.$anonfun$handleTaskSetFailed$1$adapted(DAGScheduler.scala:1182)\r\n\tat scala.Option.foreach(Option.scala:407)\r\n\tat org.apache.spark.scheduler.DAGScheduler.handleTaskSetFailed(DAGScheduler.scala:1182)\r\n\tat org.apache.spark.scheduler.DAGSchedulerEventProcessLoop.doOnReceive(DAGScheduler.scala:2860)\r\n\tat org.apache.spark.scheduler.DAGSchedulerEventProcessLoop.onReceive(DAGScheduler.scala:2802)\r\n\tat org.apache.spark.scheduler.DAGSchedulerEventProcessLoop.onReceive(DAGScheduler.scala:2791)\r\n\tat org.apache.spark.util.EventLoop$$anon$1.run(EventLoop.scala:49)\r\n\tat org.apache.spark.scheduler.DAGScheduler.runJob(DAGScheduler.scala:952)\r\n\tat org.apache.spark.SparkContext.runJob(SparkContext.scala:2228)\r\n\tat org.apache.spark.SparkContext.runJob(SparkContext.scala:2249)\r\n\tat org.apache.spark.SparkContext.runJob(SparkContext.scala:2268)\r\n\tat org.apache.spark.api.python.PythonRDD$.runJob(PythonRDD.scala:166)\r\n\tat org.apache.spark.api.python.PythonRDD.runJob(PythonRDD.scala)\r\n\tat sun.reflect.NativeMethodAccessorImpl.invoke0(Native Method)\r\n\tat sun.reflect.NativeMethodAccessorImpl.invoke(Unknown Source)\r\n\tat sun.reflect.DelegatingMethodAccessorImpl.invoke(Unknown Source)\r\n\tat java.lang.reflect.Method.invoke(Unknown Source)\r\n\tat py4j.reflection.MethodInvoker.invoke(MethodInvoker.java:244)\r\n\tat py4j.reflection.ReflectionEngine.invoke(ReflectionEngine.java:357)\r\n\tat py4j.Gateway.invoke(Gateway.java:282)\r\n\tat py4j.commands.AbstractCommand.invokeMethod(AbstractCommand.java:132)\r\n\tat py4j.commands.CallCommand.execute(CallCommand.java:79)\r\n\tat py4j.ClientServerConnection.waitForCommands(ClientServerConnection.java:182)\r\n\tat py4j.ClientServerConnection.run(ClientServerConnection.java:106)\r\n\tat java.lang.Thread.run(Unknown Source)\r\nCaused by: java.lang.ClassCastException: scala.Tuple3 cannot be cast to scala.Tuple2\r\n\tat scala.collection.Iterator$$anon$10.next(Iterator.scala:461)\r\n\tat org.apache.spark.api.python.SerDeUtil$AutoBatchedPickler.next(SerDeUtil.scala:90)\r\n\tat org.apache.spark.api.python.SerDeUtil$AutoBatchedPickler.next(SerDeUtil.scala:80)\r\n\tat scala.collection.Iterator.foreach(Iterator.scala:943)\r\n\tat scala.collection.Iterator.foreach$(Iterator.scala:943)\r\n\tat org.apache.spark.api.python.SerDeUtil$AutoBatchedPickler.foreach(SerDeUtil.scala:80)\r\n\tat org.apache.spark.api.python.PythonRDD$.writeIteratorToStream(PythonRDD.scala:307)\r\n\tat org.apache.spark.api.python.PythonRunner$$anon$2.writeIteratorToStream(PythonRunner.scala:732)\r\n\tat org.apache.spark.api.python.BasePythonRunner$WriterThread.$anonfun$run$1(PythonRunner.scala:438)\r\n\tat org.apache.spark.util.Utils$.logUncaughtExceptions(Utils.scala:2066)\r\n\tat org.apache.spark.api.python.BasePythonRunner$WriterThread.run(PythonRunner.scala:272)\r\n",
     "output_type": "error",
     "traceback": [
      "\u001b[1;31m---------------------------------------------------------------------------\u001b[0m",
      "\u001b[1;31mPy4JJavaError\u001b[0m                             Traceback (most recent call last)",
      "\u001b[1;32m~\\AppData\\Local\\Temp\\ipykernel_22692\\3653665144.py\u001b[0m in \u001b[0;36m<module>\u001b[1;34m\u001b[0m\n\u001b[0;32m      1\u001b[0m \u001b[1;31m#Check its corresponding Confusion Matrix as well\u001b[0m\u001b[1;33m\u001b[0m\u001b[1;33m\u001b[0m\u001b[0m\n\u001b[1;32m----> 2\u001b[1;33m \u001b[0mprint\u001b[0m\u001b[1;33m(\u001b[0m\u001b[0mbcm_dt\u001b[0m\u001b[1;33m.\u001b[0m\u001b[0mprint_confusion_matrix\u001b[0m\u001b[1;33m(\u001b[0m\u001b[1;36m.003153\u001b[0m\u001b[1;33m)\u001b[0m\u001b[1;33m)\u001b[0m\u001b[1;33m\u001b[0m\u001b[1;33m\u001b[0m\u001b[0m\n\u001b[0m",
      "\u001b[1;32m~\\anaconda3\\lib\\site-packages\\handyspark\\extensions\\evaluation.py\u001b[0m in \u001b[0;36mprint_confusion_matrix\u001b[1;34m(self, threshold)\u001b[0m\n\u001b[0;32m    111\u001b[0m     \u001b[0mconfusionMatrix\u001b[0m\u001b[1;33m:\u001b[0m \u001b[0mpd\u001b[0m\u001b[1;33m.\u001b[0m\u001b[0mDataFrame\u001b[0m\u001b[1;33m\u001b[0m\u001b[1;33m\u001b[0m\u001b[0m\n\u001b[0;32m    112\u001b[0m     \"\"\"\n\u001b[1;32m--> 113\u001b[1;33m     \u001b[0mcm\u001b[0m \u001b[1;33m=\u001b[0m \u001b[0mself\u001b[0m\u001b[1;33m.\u001b[0m\u001b[0mconfusionMatrix\u001b[0m\u001b[1;33m(\u001b[0m\u001b[0mthreshold\u001b[0m\u001b[1;33m)\u001b[0m\u001b[1;33m.\u001b[0m\u001b[0mtoArray\u001b[0m\u001b[1;33m(\u001b[0m\u001b[1;33m)\u001b[0m\u001b[1;33m\u001b[0m\u001b[1;33m\u001b[0m\u001b[0m\n\u001b[0m\u001b[0;32m    114\u001b[0m     \u001b[0mdf\u001b[0m \u001b[1;33m=\u001b[0m \u001b[0mpd\u001b[0m\u001b[1;33m.\u001b[0m\u001b[0mconcat\u001b[0m\u001b[1;33m(\u001b[0m\u001b[1;33m[\u001b[0m\u001b[0mpd\u001b[0m\u001b[1;33m.\u001b[0m\u001b[0mDataFrame\u001b[0m\u001b[1;33m(\u001b[0m\u001b[0mcm\u001b[0m\u001b[1;33m)\u001b[0m\u001b[1;33m]\u001b[0m\u001b[1;33m,\u001b[0m \u001b[0mkeys\u001b[0m\u001b[1;33m=\u001b[0m\u001b[1;33m[\u001b[0m\u001b[1;34m'Actual'\u001b[0m\u001b[1;33m]\u001b[0m\u001b[1;33m,\u001b[0m \u001b[0mnames\u001b[0m\u001b[1;33m=\u001b[0m\u001b[1;33m[\u001b[0m\u001b[1;33m]\u001b[0m\u001b[1;33m)\u001b[0m\u001b[1;33m\u001b[0m\u001b[1;33m\u001b[0m\u001b[0m\n\u001b[0;32m    115\u001b[0m     \u001b[0mdf\u001b[0m\u001b[1;33m.\u001b[0m\u001b[0mcolumns\u001b[0m \u001b[1;33m=\u001b[0m \u001b[0mpd\u001b[0m\u001b[1;33m.\u001b[0m\u001b[0mMultiIndex\u001b[0m\u001b[1;33m.\u001b[0m\u001b[0mfrom_product\u001b[0m\u001b[1;33m(\u001b[0m\u001b[1;33m[\u001b[0m\u001b[1;33m[\u001b[0m\u001b[1;34m'Predicted'\u001b[0m\u001b[1;33m]\u001b[0m\u001b[1;33m,\u001b[0m \u001b[0mdf\u001b[0m\u001b[1;33m.\u001b[0m\u001b[0mcolumns\u001b[0m\u001b[1;33m]\u001b[0m\u001b[1;33m)\u001b[0m\u001b[1;33m\u001b[0m\u001b[1;33m\u001b[0m\u001b[0m\n",
      "\u001b[1;32m~\\anaconda3\\lib\\site-packages\\handyspark\\extensions\\evaluation.py\u001b[0m in \u001b[0;36mconfusionMatrix\u001b[1;34m(self, threshold)\u001b[0m\n\u001b[0;32m     92\u001b[0m     \"\"\"\n\u001b[0;32m     93\u001b[0m     \u001b[0mscoreAndLabels\u001b[0m \u001b[1;33m=\u001b[0m \u001b[0mself\u001b[0m\u001b[1;33m.\u001b[0m\u001b[0mcall2\u001b[0m\u001b[1;33m(\u001b[0m\u001b[1;34m'scoreAndLabels'\u001b[0m\u001b[1;33m)\u001b[0m\u001b[1;33m.\u001b[0m\u001b[0mmap\u001b[0m\u001b[1;33m(\u001b[0m\u001b[1;32mlambda\u001b[0m \u001b[0mt\u001b[0m\u001b[1;33m:\u001b[0m \u001b[1;33m(\u001b[0m\u001b[0mfloat\u001b[0m\u001b[1;33m(\u001b[0m\u001b[0mt\u001b[0m\u001b[1;33m[\u001b[0m\u001b[1;36m0\u001b[0m\u001b[1;33m]\u001b[0m \u001b[1;33m>\u001b[0m \u001b[0mthreshold\u001b[0m\u001b[1;33m)\u001b[0m\u001b[1;33m,\u001b[0m \u001b[0mt\u001b[0m\u001b[1;33m[\u001b[0m\u001b[1;36m1\u001b[0m\u001b[1;33m]\u001b[0m\u001b[1;33m)\u001b[0m\u001b[1;33m)\u001b[0m\u001b[1;33m\u001b[0m\u001b[1;33m\u001b[0m\u001b[0m\n\u001b[1;32m---> 94\u001b[1;33m     \u001b[0mmcm\u001b[0m \u001b[1;33m=\u001b[0m \u001b[0mMulticlassMetrics\u001b[0m\u001b[1;33m(\u001b[0m\u001b[0mscoreAndLabels\u001b[0m\u001b[1;33m)\u001b[0m\u001b[1;33m\u001b[0m\u001b[1;33m\u001b[0m\u001b[0m\n\u001b[0m\u001b[0;32m     95\u001b[0m     \u001b[1;32mreturn\u001b[0m \u001b[0mmcm\u001b[0m\u001b[1;33m.\u001b[0m\u001b[0mconfusionMatrix\u001b[0m\u001b[1;33m(\u001b[0m\u001b[1;33m)\u001b[0m\u001b[1;33m\u001b[0m\u001b[1;33m\u001b[0m\u001b[0m\n\u001b[0;32m     96\u001b[0m \u001b[1;33m\u001b[0m\u001b[0m\n",
      "\u001b[1;32m~\\anaconda3\\lib\\site-packages\\pyspark\\mllib\\evaluation.py\u001b[0m in \u001b[0;36m__init__\u001b[1;34m(self, predictionAndLabels)\u001b[0m\n\u001b[0;32m    286\u001b[0m         \u001b[0msc\u001b[0m \u001b[1;33m=\u001b[0m \u001b[0mpredictionAndLabels\u001b[0m\u001b[1;33m.\u001b[0m\u001b[0mctx\u001b[0m\u001b[1;33m\u001b[0m\u001b[1;33m\u001b[0m\u001b[0m\n\u001b[0;32m    287\u001b[0m         \u001b[0msql_ctx\u001b[0m \u001b[1;33m=\u001b[0m \u001b[0mSQLContext\u001b[0m\u001b[1;33m.\u001b[0m\u001b[0mgetOrCreate\u001b[0m\u001b[1;33m(\u001b[0m\u001b[0msc\u001b[0m\u001b[1;33m)\u001b[0m\u001b[1;33m\u001b[0m\u001b[1;33m\u001b[0m\u001b[0m\n\u001b[1;32m--> 288\u001b[1;33m         \u001b[0mnumCol\u001b[0m \u001b[1;33m=\u001b[0m \u001b[0mlen\u001b[0m\u001b[1;33m(\u001b[0m\u001b[0mpredictionAndLabels\u001b[0m\u001b[1;33m.\u001b[0m\u001b[0mfirst\u001b[0m\u001b[1;33m(\u001b[0m\u001b[1;33m)\u001b[0m\u001b[1;33m)\u001b[0m\u001b[1;33m\u001b[0m\u001b[1;33m\u001b[0m\u001b[0m\n\u001b[0m\u001b[0;32m    289\u001b[0m         schema = StructType(\n\u001b[0;32m    290\u001b[0m             [\n",
      "\u001b[1;32m~\\anaconda3\\lib\\site-packages\\pyspark\\rdd.py\u001b[0m in \u001b[0;36mfirst\u001b[1;34m(self)\u001b[0m\n\u001b[0;32m   1901\u001b[0m         \u001b[0mValueError\u001b[0m\u001b[1;33m:\u001b[0m \u001b[0mRDD\u001b[0m \u001b[1;32mis\u001b[0m \u001b[0mempty\u001b[0m\u001b[1;33m\u001b[0m\u001b[1;33m\u001b[0m\u001b[0m\n\u001b[0;32m   1902\u001b[0m         \"\"\"\n\u001b[1;32m-> 1903\u001b[1;33m         \u001b[0mrs\u001b[0m \u001b[1;33m=\u001b[0m \u001b[0mself\u001b[0m\u001b[1;33m.\u001b[0m\u001b[0mtake\u001b[0m\u001b[1;33m(\u001b[0m\u001b[1;36m1\u001b[0m\u001b[1;33m)\u001b[0m\u001b[1;33m\u001b[0m\u001b[1;33m\u001b[0m\u001b[0m\n\u001b[0m\u001b[0;32m   1904\u001b[0m         \u001b[1;32mif\u001b[0m \u001b[0mrs\u001b[0m\u001b[1;33m:\u001b[0m\u001b[1;33m\u001b[0m\u001b[1;33m\u001b[0m\u001b[0m\n\u001b[0;32m   1905\u001b[0m             \u001b[1;32mreturn\u001b[0m \u001b[0mrs\u001b[0m\u001b[1;33m[\u001b[0m\u001b[1;36m0\u001b[0m\u001b[1;33m]\u001b[0m\u001b[1;33m\u001b[0m\u001b[1;33m\u001b[0m\u001b[0m\n",
      "\u001b[1;32m~\\anaconda3\\lib\\site-packages\\pyspark\\rdd.py\u001b[0m in \u001b[0;36mtake\u001b[1;34m(self, num)\u001b[0m\n\u001b[0;32m   1881\u001b[0m \u001b[1;33m\u001b[0m\u001b[0m\n\u001b[0;32m   1882\u001b[0m             \u001b[0mp\u001b[0m \u001b[1;33m=\u001b[0m \u001b[0mrange\u001b[0m\u001b[1;33m(\u001b[0m\u001b[0mpartsScanned\u001b[0m\u001b[1;33m,\u001b[0m \u001b[0mmin\u001b[0m\u001b[1;33m(\u001b[0m\u001b[0mpartsScanned\u001b[0m \u001b[1;33m+\u001b[0m \u001b[0mnumPartsToTry\u001b[0m\u001b[1;33m,\u001b[0m \u001b[0mtotalParts\u001b[0m\u001b[1;33m)\u001b[0m\u001b[1;33m)\u001b[0m\u001b[1;33m\u001b[0m\u001b[1;33m\u001b[0m\u001b[0m\n\u001b[1;32m-> 1883\u001b[1;33m             \u001b[0mres\u001b[0m \u001b[1;33m=\u001b[0m \u001b[0mself\u001b[0m\u001b[1;33m.\u001b[0m\u001b[0mcontext\u001b[0m\u001b[1;33m.\u001b[0m\u001b[0mrunJob\u001b[0m\u001b[1;33m(\u001b[0m\u001b[0mself\u001b[0m\u001b[1;33m,\u001b[0m \u001b[0mtakeUpToNumLeft\u001b[0m\u001b[1;33m,\u001b[0m \u001b[0mp\u001b[0m\u001b[1;33m)\u001b[0m\u001b[1;33m\u001b[0m\u001b[1;33m\u001b[0m\u001b[0m\n\u001b[0m\u001b[0;32m   1884\u001b[0m \u001b[1;33m\u001b[0m\u001b[0m\n\u001b[0;32m   1885\u001b[0m             \u001b[0mitems\u001b[0m \u001b[1;33m+=\u001b[0m \u001b[0mres\u001b[0m\u001b[1;33m\u001b[0m\u001b[1;33m\u001b[0m\u001b[0m\n",
      "\u001b[1;32m~\\anaconda3\\lib\\site-packages\\pyspark\\context.py\u001b[0m in \u001b[0;36mrunJob\u001b[1;34m(self, rdd, partitionFunc, partitions, allowLocal)\u001b[0m\n\u001b[0;32m   1484\u001b[0m         \u001b[0mmappedRDD\u001b[0m \u001b[1;33m=\u001b[0m \u001b[0mrdd\u001b[0m\u001b[1;33m.\u001b[0m\u001b[0mmapPartitions\u001b[0m\u001b[1;33m(\u001b[0m\u001b[0mpartitionFunc\u001b[0m\u001b[1;33m)\u001b[0m\u001b[1;33m\u001b[0m\u001b[1;33m\u001b[0m\u001b[0m\n\u001b[0;32m   1485\u001b[0m         \u001b[1;32massert\u001b[0m \u001b[0mself\u001b[0m\u001b[1;33m.\u001b[0m\u001b[0m_jvm\u001b[0m \u001b[1;32mis\u001b[0m \u001b[1;32mnot\u001b[0m \u001b[1;32mNone\u001b[0m\u001b[1;33m\u001b[0m\u001b[1;33m\u001b[0m\u001b[0m\n\u001b[1;32m-> 1486\u001b[1;33m         \u001b[0msock_info\u001b[0m \u001b[1;33m=\u001b[0m \u001b[0mself\u001b[0m\u001b[1;33m.\u001b[0m\u001b[0m_jvm\u001b[0m\u001b[1;33m.\u001b[0m\u001b[0mPythonRDD\u001b[0m\u001b[1;33m.\u001b[0m\u001b[0mrunJob\u001b[0m\u001b[1;33m(\u001b[0m\u001b[0mself\u001b[0m\u001b[1;33m.\u001b[0m\u001b[0m_jsc\u001b[0m\u001b[1;33m.\u001b[0m\u001b[0msc\u001b[0m\u001b[1;33m(\u001b[0m\u001b[1;33m)\u001b[0m\u001b[1;33m,\u001b[0m \u001b[0mmappedRDD\u001b[0m\u001b[1;33m.\u001b[0m\u001b[0m_jrdd\u001b[0m\u001b[1;33m,\u001b[0m \u001b[0mpartitions\u001b[0m\u001b[1;33m)\u001b[0m\u001b[1;33m\u001b[0m\u001b[1;33m\u001b[0m\u001b[0m\n\u001b[0m\u001b[0;32m   1487\u001b[0m         \u001b[1;32mreturn\u001b[0m \u001b[0mlist\u001b[0m\u001b[1;33m(\u001b[0m\u001b[0m_load_from_socket\u001b[0m\u001b[1;33m(\u001b[0m\u001b[0msock_info\u001b[0m\u001b[1;33m,\u001b[0m \u001b[0mmappedRDD\u001b[0m\u001b[1;33m.\u001b[0m\u001b[0m_jrdd_deserializer\u001b[0m\u001b[1;33m)\u001b[0m\u001b[1;33m)\u001b[0m\u001b[1;33m\u001b[0m\u001b[1;33m\u001b[0m\u001b[0m\n\u001b[0;32m   1488\u001b[0m \u001b[1;33m\u001b[0m\u001b[0m\n",
      "\u001b[1;32m~\\anaconda3\\lib\\site-packages\\py4j\\java_gateway.py\u001b[0m in \u001b[0;36m__call__\u001b[1;34m(self, *args)\u001b[0m\n\u001b[0;32m   1319\u001b[0m \u001b[1;33m\u001b[0m\u001b[0m\n\u001b[0;32m   1320\u001b[0m         \u001b[0manswer\u001b[0m \u001b[1;33m=\u001b[0m \u001b[0mself\u001b[0m\u001b[1;33m.\u001b[0m\u001b[0mgateway_client\u001b[0m\u001b[1;33m.\u001b[0m\u001b[0msend_command\u001b[0m\u001b[1;33m(\u001b[0m\u001b[0mcommand\u001b[0m\u001b[1;33m)\u001b[0m\u001b[1;33m\u001b[0m\u001b[1;33m\u001b[0m\u001b[0m\n\u001b[1;32m-> 1321\u001b[1;33m         return_value = get_return_value(\n\u001b[0m\u001b[0;32m   1322\u001b[0m             answer, self.gateway_client, self.target_id, self.name)\n\u001b[0;32m   1323\u001b[0m \u001b[1;33m\u001b[0m\u001b[0m\n",
      "\u001b[1;32m~\\anaconda3\\lib\\site-packages\\pyspark\\sql\\utils.py\u001b[0m in \u001b[0;36mdeco\u001b[1;34m(*a, **kw)\u001b[0m\n\u001b[0;32m    188\u001b[0m     \u001b[1;32mdef\u001b[0m \u001b[0mdeco\u001b[0m\u001b[1;33m(\u001b[0m\u001b[1;33m*\u001b[0m\u001b[0ma\u001b[0m\u001b[1;33m:\u001b[0m \u001b[0mAny\u001b[0m\u001b[1;33m,\u001b[0m \u001b[1;33m**\u001b[0m\u001b[0mkw\u001b[0m\u001b[1;33m:\u001b[0m \u001b[0mAny\u001b[0m\u001b[1;33m)\u001b[0m \u001b[1;33m->\u001b[0m \u001b[0mAny\u001b[0m\u001b[1;33m:\u001b[0m\u001b[1;33m\u001b[0m\u001b[1;33m\u001b[0m\u001b[0m\n\u001b[0;32m    189\u001b[0m         \u001b[1;32mtry\u001b[0m\u001b[1;33m:\u001b[0m\u001b[1;33m\u001b[0m\u001b[1;33m\u001b[0m\u001b[0m\n\u001b[1;32m--> 190\u001b[1;33m             \u001b[1;32mreturn\u001b[0m \u001b[0mf\u001b[0m\u001b[1;33m(\u001b[0m\u001b[1;33m*\u001b[0m\u001b[0ma\u001b[0m\u001b[1;33m,\u001b[0m \u001b[1;33m**\u001b[0m\u001b[0mkw\u001b[0m\u001b[1;33m)\u001b[0m\u001b[1;33m\u001b[0m\u001b[1;33m\u001b[0m\u001b[0m\n\u001b[0m\u001b[0;32m    191\u001b[0m         \u001b[1;32mexcept\u001b[0m \u001b[0mPy4JJavaError\u001b[0m \u001b[1;32mas\u001b[0m \u001b[0me\u001b[0m\u001b[1;33m:\u001b[0m\u001b[1;33m\u001b[0m\u001b[1;33m\u001b[0m\u001b[0m\n\u001b[0;32m    192\u001b[0m             \u001b[0mconverted\u001b[0m \u001b[1;33m=\u001b[0m \u001b[0mconvert_exception\u001b[0m\u001b[1;33m(\u001b[0m\u001b[0me\u001b[0m\u001b[1;33m.\u001b[0m\u001b[0mjava_exception\u001b[0m\u001b[1;33m)\u001b[0m\u001b[1;33m\u001b[0m\u001b[1;33m\u001b[0m\u001b[0m\n",
      "\u001b[1;32m~\\anaconda3\\lib\\site-packages\\py4j\\protocol.py\u001b[0m in \u001b[0;36mget_return_value\u001b[1;34m(answer, gateway_client, target_id, name)\u001b[0m\n\u001b[0;32m    324\u001b[0m             \u001b[0mvalue\u001b[0m \u001b[1;33m=\u001b[0m \u001b[0mOUTPUT_CONVERTER\u001b[0m\u001b[1;33m[\u001b[0m\u001b[0mtype\u001b[0m\u001b[1;33m]\u001b[0m\u001b[1;33m(\u001b[0m\u001b[0manswer\u001b[0m\u001b[1;33m[\u001b[0m\u001b[1;36m2\u001b[0m\u001b[1;33m:\u001b[0m\u001b[1;33m]\u001b[0m\u001b[1;33m,\u001b[0m \u001b[0mgateway_client\u001b[0m\u001b[1;33m)\u001b[0m\u001b[1;33m\u001b[0m\u001b[1;33m\u001b[0m\u001b[0m\n\u001b[0;32m    325\u001b[0m             \u001b[1;32mif\u001b[0m \u001b[0manswer\u001b[0m\u001b[1;33m[\u001b[0m\u001b[1;36m1\u001b[0m\u001b[1;33m]\u001b[0m \u001b[1;33m==\u001b[0m \u001b[0mREFERENCE_TYPE\u001b[0m\u001b[1;33m:\u001b[0m\u001b[1;33m\u001b[0m\u001b[1;33m\u001b[0m\u001b[0m\n\u001b[1;32m--> 326\u001b[1;33m                 raise Py4JJavaError(\n\u001b[0m\u001b[0;32m    327\u001b[0m                     \u001b[1;34m\"An error occurred while calling {0}{1}{2}.\\n\"\u001b[0m\u001b[1;33m.\u001b[0m\u001b[1;33m\u001b[0m\u001b[1;33m\u001b[0m\u001b[0m\n\u001b[0;32m    328\u001b[0m                     format(target_id, \".\", name), value)\n",
      "\u001b[1;31mPy4JJavaError\u001b[0m: An error occurred while calling z:org.apache.spark.api.python.PythonRDD.runJob.\n: org.apache.spark.SparkException: Job aborted due to stage failure: Task 0 in stage 199.0 failed 1 times, most recent failure: Lost task 0.0 in stage 199.0 (TID 736) (DESKTOP-RN7371E.lan executor driver): java.lang.ClassCastException: scala.Tuple3 cannot be cast to scala.Tuple2\r\n\tat scala.collection.Iterator$$anon$10.next(Iterator.scala:461)\r\n\tat org.apache.spark.api.python.SerDeUtil$AutoBatchedPickler.next(SerDeUtil.scala:90)\r\n\tat org.apache.spark.api.python.SerDeUtil$AutoBatchedPickler.next(SerDeUtil.scala:80)\r\n\tat scala.collection.Iterator.foreach(Iterator.scala:943)\r\n\tat scala.collection.Iterator.foreach$(Iterator.scala:943)\r\n\tat org.apache.spark.api.python.SerDeUtil$AutoBatchedPickler.foreach(SerDeUtil.scala:80)\r\n\tat org.apache.spark.api.python.PythonRDD$.writeIteratorToStream(PythonRDD.scala:307)\r\n\tat org.apache.spark.api.python.PythonRunner$$anon$2.writeIteratorToStream(PythonRunner.scala:732)\r\n\tat org.apache.spark.api.python.BasePythonRunner$WriterThread.$anonfun$run$1(PythonRunner.scala:438)\r\n\tat org.apache.spark.util.Utils$.logUncaughtExceptions(Utils.scala:2066)\r\n\tat org.apache.spark.api.python.BasePythonRunner$WriterThread.run(PythonRunner.scala:272)\r\n\nDriver stacktrace:\r\n\tat org.apache.spark.scheduler.DAGScheduler.failJobAndIndependentStages(DAGScheduler.scala:2672)\r\n\tat org.apache.spark.scheduler.DAGScheduler.$anonfun$abortStage$2(DAGScheduler.scala:2608)\r\n\tat org.apache.spark.scheduler.DAGScheduler.$anonfun$abortStage$2$adapted(DAGScheduler.scala:2607)\r\n\tat scala.collection.mutable.ResizableArray.foreach(ResizableArray.scala:62)\r\n\tat scala.collection.mutable.ResizableArray.foreach$(ResizableArray.scala:55)\r\n\tat scala.collection.mutable.ArrayBuffer.foreach(ArrayBuffer.scala:49)\r\n\tat org.apache.spark.scheduler.DAGScheduler.abortStage(DAGScheduler.scala:2607)\r\n\tat org.apache.spark.scheduler.DAGScheduler.$anonfun$handleTaskSetFailed$1(DAGScheduler.scala:1182)\r\n\tat org.apache.spark.scheduler.DAGScheduler.$anonfun$handleTaskSetFailed$1$adapted(DAGScheduler.scala:1182)\r\n\tat scala.Option.foreach(Option.scala:407)\r\n\tat org.apache.spark.scheduler.DAGScheduler.handleTaskSetFailed(DAGScheduler.scala:1182)\r\n\tat org.apache.spark.scheduler.DAGSchedulerEventProcessLoop.doOnReceive(DAGScheduler.scala:2860)\r\n\tat org.apache.spark.scheduler.DAGSchedulerEventProcessLoop.onReceive(DAGScheduler.scala:2802)\r\n\tat org.apache.spark.scheduler.DAGSchedulerEventProcessLoop.onReceive(DAGScheduler.scala:2791)\r\n\tat org.apache.spark.util.EventLoop$$anon$1.run(EventLoop.scala:49)\r\n\tat org.apache.spark.scheduler.DAGScheduler.runJob(DAGScheduler.scala:952)\r\n\tat org.apache.spark.SparkContext.runJob(SparkContext.scala:2228)\r\n\tat org.apache.spark.SparkContext.runJob(SparkContext.scala:2249)\r\n\tat org.apache.spark.SparkContext.runJob(SparkContext.scala:2268)\r\n\tat org.apache.spark.api.python.PythonRDD$.runJob(PythonRDD.scala:166)\r\n\tat org.apache.spark.api.python.PythonRDD.runJob(PythonRDD.scala)\r\n\tat sun.reflect.NativeMethodAccessorImpl.invoke0(Native Method)\r\n\tat sun.reflect.NativeMethodAccessorImpl.invoke(Unknown Source)\r\n\tat sun.reflect.DelegatingMethodAccessorImpl.invoke(Unknown Source)\r\n\tat java.lang.reflect.Method.invoke(Unknown Source)\r\n\tat py4j.reflection.MethodInvoker.invoke(MethodInvoker.java:244)\r\n\tat py4j.reflection.ReflectionEngine.invoke(ReflectionEngine.java:357)\r\n\tat py4j.Gateway.invoke(Gateway.java:282)\r\n\tat py4j.commands.AbstractCommand.invokeMethod(AbstractCommand.java:132)\r\n\tat py4j.commands.CallCommand.execute(CallCommand.java:79)\r\n\tat py4j.ClientServerConnection.waitForCommands(ClientServerConnection.java:182)\r\n\tat py4j.ClientServerConnection.run(ClientServerConnection.java:106)\r\n\tat java.lang.Thread.run(Unknown Source)\r\nCaused by: java.lang.ClassCastException: scala.Tuple3 cannot be cast to scala.Tuple2\r\n\tat scala.collection.Iterator$$anon$10.next(Iterator.scala:461)\r\n\tat org.apache.spark.api.python.SerDeUtil$AutoBatchedPickler.next(SerDeUtil.scala:90)\r\n\tat org.apache.spark.api.python.SerDeUtil$AutoBatchedPickler.next(SerDeUtil.scala:80)\r\n\tat scala.collection.Iterator.foreach(Iterator.scala:943)\r\n\tat scala.collection.Iterator.foreach$(Iterator.scala:943)\r\n\tat org.apache.spark.api.python.SerDeUtil$AutoBatchedPickler.foreach(SerDeUtil.scala:80)\r\n\tat org.apache.spark.api.python.PythonRDD$.writeIteratorToStream(PythonRDD.scala:307)\r\n\tat org.apache.spark.api.python.PythonRunner$$anon$2.writeIteratorToStream(PythonRunner.scala:732)\r\n\tat org.apache.spark.api.python.BasePythonRunner$WriterThread.$anonfun$run$1(PythonRunner.scala:438)\r\n\tat org.apache.spark.util.Utils$.logUncaughtExceptions(Utils.scala:2066)\r\n\tat org.apache.spark.api.python.BasePythonRunner$WriterThread.run(PythonRunner.scala:272)\r\n"
     ]
    }
   ],
   "source": [
    "#Check its corresponding Confusion Matrix as well\n",
    "print(bcm_dt.print_confusion_matrix(.003153))"
   ]
  },
  {
   "cell_type": "markdown",
   "id": "b7e9be0f-5215-4084-b772-a315457c4d1a",
   "metadata": {},
   "source": [
    "### 2.2 Random Forest"
   ]
  },
  {
   "cell_type": "markdown",
   "id": "9c0757ca-8856-44f5-aed4-10d9e9a7ba75",
   "metadata": {},
   "source": [
    "#### 2.2.1 Model Training"
   ]
  },
  {
   "cell_type": "code",
   "execution_count": 54,
   "id": "979836f8-f155-4e4f-a10d-c907bf551518",
   "metadata": {},
   "outputs": [
    {
     "name": "stdout",
     "output_type": "stream",
     "text": [
      "+--------------------+-----+--------------------+--------------------+----------+\n",
      "|            features|label|       rawPrediction|         probability|prediction|\n",
      "+--------------------+-----+--------------------+--------------------+----------+\n",
      "|[1724.0,17.0,1.0,...|    0|[15.3384982206724...|[0.76692491103362...|       0.0|\n",
      "|[120.0,7.0,1.0,1....|    0|[15.3712709855119...|[0.76856354927559...|       0.0|\n",
      "|[1387.0,19.0,0.0,...|    0|[16.3363081552332...|[0.81681540776166...|       0.0|\n",
      "+--------------------+-----+--------------------+--------------------+----------+\n",
      "only showing top 3 rows\n",
      "\n"
     ]
    }
   ],
   "source": [
    "# Train a Random Forest\n",
    "#  Empty categoricalFeaturesInfo indicates all features are continuous.\n",
    "from pyspark.ml.classification import RandomForestClassifier\n",
    "\n",
    "rfc = RandomForestClassifier(featuresCol=\"features\", labelCol=\"label\")\n",
    "rfc = rfc.fit(trainingData)\n",
    "\n",
    "# After training we will be testing out dataset\n",
    "pred_rf = rfc.transform(testData)\n",
    "pred_rf.show(3)"
   ]
  },
  {
   "cell_type": "markdown",
   "id": "a7c12f83-de2e-43aa-8540-e43ade44adff",
   "metadata": {},
   "source": [
    "#### 2.2.2 Model Evaluation"
   ]
  },
  {
   "cell_type": "code",
   "execution_count": 55,
   "id": "066984a8-1302-42a1-839e-d1355583a9f4",
   "metadata": {},
   "outputs": [
    {
     "name": "stdout",
     "output_type": "stream",
     "text": [
      "Confusion Matrix:\n",
      "[[19300  1015]\n",
      " [  148    21]]\n"
     ]
    }
   ],
   "source": [
    "# After training the model, we'll predict test data and check the accuracy metrics. Here, we can use MulticlassClassificationEvaluator to check the accuracy. \n",
    "#Confusion matrix can be created by using confusion_matrix function of sklearn.metrics module.\n",
    "from pyspark.ml.evaluation import MulticlassClassificationEvaluator\n",
    "from pyspark.ml.evaluation import BinaryClassificationEvaluator\n",
    "\n",
    "from sklearn.metrics import confusion_matrix\n",
    "from sklearn.metrics import accuracy_score\n",
    "from sklearn.metrics import precision_score\n",
    "from sklearn.metrics import recall_score\n",
    "from sklearn.metrics import f1_score\n",
    "\n",
    "evaluator_rf=MulticlassClassificationEvaluator(predictionCol=\"prediction\")\n",
    "#acc = evaluator.evaluate(pred)\n",
    "\n",
    "#print(\"Prediction Accuracy: \", acc)\n",
    "\n",
    "y_pred_rf=pred_rf.select(\"prediction\").collect()\n",
    "y_orig_rf=pred_rf.select(\"label\").collect()\n",
    "\n",
    "cm_rf = confusion_matrix(y_orig_rf, y_pred_rf)\n",
    "print(\"Confusion Matrix:\")\n",
    "print(cm_rf)\n",
    "\n",
    "#Define the Evaluation Metrics\n",
    "#Accuracy = (TP+TN)/(TP+TN+FP+FN)\n",
    "accu_rf = evaluator_rf.evaluate(pred_rf)\n",
    "#The precision is the ratio tp / (tp + fp) where tp is the number of true positives and fp the number of false positives. The precision is intuitively the ability of the classifier not to label as positive a sample that is negative.\n",
    "prec_rf=cm_rf[1,1]/(cm_rf[1,1]+cm_rf[1,0])\n",
    "\n",
    "#The recall is the ratio tp / (tp + fn) where tp is the number of true positives and fn the number of false negatives. The recall is intuitively the ability of the classifier to find all the positive samples.\n",
    "recall_rf=cm_rf[1,1]/(cm_rf[1,1]+cm_rf[0,1])\n",
    "\n",
    "#The F1 score can be interpreted as a harmonic mean of the precision and recall, where an F1 score reaches its best value at 1 and worst score at 0. The relative contribution of precision and recall to the F1 score are equal. The formula for the F1 score is:\n",
    "f1_rf=2*((prec_rf*recall_rf)/(prec_rf+recall_rf))\n",
    "#F1 = 2 * (precision * recall) / (precision + recall)\n",
    "\n",
    "# Instantiate metrics object\n",
    "metrics_rf = BinaryClassificationEvaluator()\n",
    "auc_rf=metrics_rf.evaluate(pred_rf, {metrics_rf.metricName: 'areaUnderROC'})"
   ]
  },
  {
   "cell_type": "code",
   "execution_count": 70,
   "id": "5fd3b5b3-81a3-4a4d-9700-ca4a5c2eb8af",
   "metadata": {
    "collapsed": true,
    "jupyter": {
     "outputs_hidden": true
    },
    "tags": []
   },
   "outputs": [
    {
     "name": "stdout",
     "output_type": "stream",
     "text": [
      "Collecting handyspark\n",
      "  Downloading handyspark-0.2.2a1-py2.py3-none-any.whl (39 kB)\n",
      "Requirement already satisfied: pandas in c:\\users\\casa\\anaconda3\\lib\\site-packages (from handyspark) (1.4.4)\n",
      "Requirement already satisfied: seaborn in c:\\users\\casa\\anaconda3\\lib\\site-packages (from handyspark) (0.11.2)\n",
      "Requirement already satisfied: scipy in c:\\users\\casa\\anaconda3\\lib\\site-packages (from handyspark) (1.9.1)\n",
      "Collecting findspark\n",
      "  Downloading findspark-2.0.1-py2.py3-none-any.whl (4.4 kB)\n",
      "Requirement already satisfied: pyarrow in c:\\users\\casa\\anaconda3\\lib\\site-packages (from handyspark) (10.0.0)\n",
      "Requirement already satisfied: matplotlib in c:\\users\\casa\\anaconda3\\lib\\site-packages (from handyspark) (3.6.2)\n",
      "Requirement already satisfied: numpy in c:\\users\\casa\\anaconda3\\lib\\site-packages (from handyspark) (1.21.5)\n",
      "Requirement already satisfied: pyspark in c:\\users\\casa\\anaconda3\\lib\\site-packages (from handyspark) (3.3.1)\n",
      "Requirement already satisfied: scikit-learn in c:\\users\\casa\\anaconda3\\lib\\site-packages (from handyspark) (1.0.2)\n",
      "Requirement already satisfied: kiwisolver>=1.0.1 in c:\\users\\casa\\anaconda3\\lib\\site-packages (from matplotlib->handyspark) (1.4.2)\n",
      "Requirement already satisfied: cycler>=0.10 in c:\\users\\casa\\anaconda3\\lib\\site-packages (from matplotlib->handyspark) (0.11.0)\n",
      "Requirement already satisfied: packaging>=20.0 in c:\\users\\casa\\anaconda3\\lib\\site-packages (from matplotlib->handyspark) (21.3)\n",
      "Requirement already satisfied: pillow>=6.2.0 in c:\\users\\casa\\anaconda3\\lib\\site-packages (from matplotlib->handyspark) (9.2.0)\n",
      "Requirement already satisfied: fonttools>=4.22.0 in c:\\users\\casa\\anaconda3\\lib\\site-packages (from matplotlib->handyspark) (4.25.0)\n",
      "Requirement already satisfied: contourpy>=1.0.1 in c:\\users\\casa\\anaconda3\\lib\\site-packages (from matplotlib->handyspark) (1.0.6)\n",
      "Requirement already satisfied: python-dateutil>=2.7 in c:\\users\\casa\\anaconda3\\lib\\site-packages (from matplotlib->handyspark) (2.8.2)\n",
      "Requirement already satisfied: pyparsing>=2.2.1 in c:\\users\\casa\\anaconda3\\lib\\site-packages (from matplotlib->handyspark) (3.0.9)\n",
      "Requirement already satisfied: pytz>=2020.1 in c:\\users\\casa\\anaconda3\\lib\\site-packages (from pandas->handyspark) (2022.1)\n",
      "Requirement already satisfied: py4j==0.10.9.5 in c:\\users\\casa\\anaconda3\\lib\\site-packages (from pyspark->handyspark) (0.10.9.5)\n",
      "Requirement already satisfied: joblib>=0.11 in c:\\users\\casa\\anaconda3\\lib\\site-packages (from scikit-learn->handyspark) (1.2.0)\n",
      "Requirement already satisfied: threadpoolctl>=2.0.0 in c:\\users\\casa\\anaconda3\\lib\\site-packages (from scikit-learn->handyspark) (2.2.0)\n",
      "Requirement already satisfied: six>=1.5 in c:\\users\\casa\\anaconda3\\lib\\site-packages (from python-dateutil>=2.7->matplotlib->handyspark) (1.16.0)\n",
      "Installing collected packages: findspark, handyspark\n",
      "Successfully installed findspark-2.0.1 handyspark-0.2.2a1\n"
     ]
    }
   ],
   "source": [
    "#!pip install handyspark"
   ]
  },
  {
   "cell_type": "markdown",
   "id": "159fb586-a5a9-4ab9-ba78-dda89a575dde",
   "metadata": {},
   "source": [
    "#### 2.2.3 ROC Curve"
   ]
  },
  {
   "cell_type": "code",
   "execution_count": 56,
   "id": "f1325828-a7a0-4af4-ac0f-4c8117274bda",
   "metadata": {},
   "outputs": [
    {
     "name": "stderr",
     "output_type": "stream",
     "text": [
      "C:\\Users\\Casa\\anaconda3\\lib\\site-packages\\pyspark\\sql\\context.py:157: FutureWarning: Deprecated in 3.0.0. Use SparkSession.builder.getOrCreate() instead.\n",
      "  warnings.warn(\n",
      "C:\\Users\\Casa\\anaconda3\\lib\\site-packages\\pyspark\\sql\\context.py:157: FutureWarning: Deprecated in 3.0.0. Use SparkSession.builder.getOrCreate() instead.\n",
      "  warnings.warn(\n"
     ]
    },
    {
     "data": {
      "text/plain": [
       "<AxesSubplot:title={'center':'Precision-Recall Curve'}, xlabel='Recall', ylabel='Precision'>"
      ]
     },
     "execution_count": 56,
     "metadata": {},
     "output_type": "execute_result"
    },
    {
     "data": {
      "image/png": "[encoded data removed]",
      "text/plain": [
       "<Figure size 1200x400 with 2 Axes>"
      ]
     },
     "metadata": {},
     "output_type": "display_data"
    }
   ],
   "source": [
    "#Plot the Roc Curve\n",
    "from matplotlib import pyplot as plt\n",
    "from handyspark import BinaryClassificationMetrics\n",
    "\n",
    "\n",
    "bcm = BinaryClassificationMetrics(pred_rf, scoreCol='probability', labelCol='label')\n",
    "fig, axs = plt.subplots(1, 2, figsize=(12, 4))\n",
    "bcm.plot_roc_curve(ax=axs[0])\n",
    "bcm.plot_pr_curve(ax=axs[1])\n",
    "\n"
   ]
  },
  {
   "cell_type": "code",
   "execution_count": 57,
   "id": "44aa2e58-7d81-4714-abcf-84c06eb01df2",
   "metadata": {},
   "outputs": [
    {
     "name": "stderr",
     "output_type": "stream",
     "text": [
      "C:\\Users\\Casa\\anaconda3\\lib\\site-packages\\pyspark\\sql\\context.py:157: FutureWarning: Deprecated in 3.0.0. Use SparkSession.builder.getOrCreate() instead.\n",
      "  warnings.warn(\n"
     ]
    },
    {
     "data": {
      "text/html": [
       "<div>\n",
       "<style scoped>\n",
       "    .dataframe tbody tr th:only-of-type {\n",
       "        vertical-align: middle;\n",
       "    }\n",
       "\n",
       "    .dataframe tbody tr th {\n",
       "        vertical-align: top;\n",
       "    }\n",
       "\n",
       "    .dataframe thead th {\n",
       "        text-align: right;\n",
       "    }\n",
       "</style>\n",
       "<table border=\"1\" class=\"dataframe\">\n",
       "  <thead>\n",
       "    <tr style=\"text-align: right;\">\n",
       "      <th></th>\n",
       "      <th>threshold</th>\n",
       "      <th>fpr</th>\n",
       "      <th>recall</th>\n",
       "      <th>precision</th>\n",
       "    </tr>\n",
       "  </thead>\n",
       "  <tbody>\n",
       "    <tr>\n",
       "      <th>0</th>\n",
       "      <td>0.705436</td>\n",
       "      <td>0.002510</td>\n",
       "      <td>0.0</td>\n",
       "      <td>0.000000</td>\n",
       "    </tr>\n",
       "    <tr>\n",
       "      <th>1</th>\n",
       "      <td>0.705394</td>\n",
       "      <td>0.002904</td>\n",
       "      <td>0.0</td>\n",
       "      <td>0.000000</td>\n",
       "    </tr>\n",
       "    <tr>\n",
       "      <th>2</th>\n",
       "      <td>0.699168</td>\n",
       "      <td>0.003052</td>\n",
       "      <td>0.0</td>\n",
       "      <td>0.000000</td>\n",
       "    </tr>\n",
       "    <tr>\n",
       "      <th>3</th>\n",
       "      <td>0.699126</td>\n",
       "      <td>0.003249</td>\n",
       "      <td>0.0</td>\n",
       "      <td>0.000000</td>\n",
       "    </tr>\n",
       "    <tr>\n",
       "      <th>4</th>\n",
       "      <td>0.689880</td>\n",
       "      <td>0.003495</td>\n",
       "      <td>0.0</td>\n",
       "      <td>0.000000</td>\n",
       "    </tr>\n",
       "    <tr>\n",
       "      <th>...</th>\n",
       "      <td>...</td>\n",
       "      <td>...</td>\n",
       "      <td>...</td>\n",
       "      <td>...</td>\n",
       "    </tr>\n",
       "    <tr>\n",
       "      <th>1131</th>\n",
       "      <td>0.101830</td>\n",
       "      <td>0.999803</td>\n",
       "      <td>1.0</td>\n",
       "      <td>0.008252</td>\n",
       "    </tr>\n",
       "    <tr>\n",
       "      <th>1132</th>\n",
       "      <td>0.090262</td>\n",
       "      <td>0.999852</td>\n",
       "      <td>1.0</td>\n",
       "      <td>0.008252</td>\n",
       "    </tr>\n",
       "    <tr>\n",
       "      <th>1133</th>\n",
       "      <td>0.081084</td>\n",
       "      <td>0.999951</td>\n",
       "      <td>1.0</td>\n",
       "      <td>0.008251</td>\n",
       "    </tr>\n",
       "    <tr>\n",
       "      <th>1134</th>\n",
       "      <td>0.075411</td>\n",
       "      <td>1.000000</td>\n",
       "      <td>1.0</td>\n",
       "      <td>0.008250</td>\n",
       "    </tr>\n",
       "    <tr>\n",
       "      <th>1135</th>\n",
       "      <td>0.000000</td>\n",
       "      <td>1.000000</td>\n",
       "      <td>1.0</td>\n",
       "      <td>0.000000</td>\n",
       "    </tr>\n",
       "  </tbody>\n",
       "</table>\n",
       "<p>1136 rows × 4 columns</p>\n",
       "</div>"
      ],
      "text/plain": [
       "      threshold       fpr  recall  precision\n",
       "0      0.705436  0.002510     0.0   0.000000\n",
       "1      0.705394  0.002904     0.0   0.000000\n",
       "2      0.699168  0.003052     0.0   0.000000\n",
       "3      0.699126  0.003249     0.0   0.000000\n",
       "4      0.689880  0.003495     0.0   0.000000\n",
       "...         ...       ...     ...        ...\n",
       "1131   0.101830  0.999803     1.0   0.008252\n",
       "1132   0.090262  0.999852     1.0   0.008252\n",
       "1133   0.081084  0.999951     1.0   0.008251\n",
       "1134   0.075411  1.000000     1.0   0.008250\n",
       "1135   0.000000  1.000000     1.0   0.000000\n",
       "\n",
       "[1136 rows x 4 columns]"
      ]
     },
     "execution_count": 57,
     "metadata": {},
     "output_type": "execute_result"
    }
   ],
   "source": [
    "#Check the threshold \n",
    "bcm.getMetricsByThreshold().toPandas()"
   ]
  },
  {
   "cell_type": "markdown",
   "id": "e906a53f-dfa8-4c14-80f9-1f14173b2dfc",
   "metadata": {},
   "source": [
    "### 2.3 Logistics Regression"
   ]
  },
  {
   "cell_type": "markdown",
   "id": "fc0c9e07-1095-43c5-9469-d69b957d5d14",
   "metadata": {},
   "source": [
    "#### 2.3.1 Training the model"
   ]
  },
  {
   "cell_type": "code",
   "execution_count": 58,
   "id": "8f01ea07-8d1b-40ee-862c-cda00445d846",
   "metadata": {},
   "outputs": [
    {
     "name": "stdout",
     "output_type": "stream",
     "text": [
      "+--------------------+-----+--------------------+--------------------+----------+\n",
      "|            features|label|       rawPrediction|         probability|prediction|\n",
      "+--------------------+-----+--------------------+--------------------+----------+\n",
      "|[1724.0,17.0,1.0,...|    0|[0.62718145902259...|[0.65185009220689...|       0.0|\n",
      "|[120.0,7.0,1.0,1....|    0|[2.05473181677727...|[0.88642487001311...|       0.0|\n",
      "|[1387.0,19.0,0.0,...|    0|[2.51412836521172...|[0.92512635475562...|       0.0|\n",
      "+--------------------+-----+--------------------+--------------------+----------+\n",
      "only showing top 3 rows\n",
      "\n"
     ]
    }
   ],
   "source": [
    "# Train a Logistics Regression\n",
    "#  Empty categoricalFeaturesInfo indicates all features are continuous.\n",
    "from pyspark.ml.classification import LogisticRegression\n",
    "\n",
    "lrc = LogisticRegression(featuresCol=\"features\", labelCol=\"label\")\n",
    "lrc = lrc.fit(trainingData)\n",
    "\n",
    "# After training we will be testing out dataset\n",
    "pred_lr = lrc.transform(testData)\n",
    "pred_lr.show(3)"
   ]
  },
  {
   "cell_type": "markdown",
   "id": "8610d71e-aa07-42c7-8dd7-da4abb12d6f4",
   "metadata": {},
   "source": [
    "#### 2.3.2 Evaluating the model"
   ]
  },
  {
   "cell_type": "code",
   "execution_count": 59,
   "id": "2abb9ace-328b-4bf9-a6df-d29ef52cc530",
   "metadata": {},
   "outputs": [
    {
     "name": "stdout",
     "output_type": "stream",
     "text": [
      "Confusion Matrix:\n",
      "[[19949   366]\n",
      " [  164     5]]\n"
     ]
    }
   ],
   "source": [
    "# After training the model, we'll predict test data and check the accuracy metrics. Here, we can use MulticlassClassificationEvaluator to check the accuracy. \n",
    "#Confusion matrix can be created by using confusion_matrix function of sklearn.metrics module.\n",
    "from pyspark.ml.evaluation import MulticlassClassificationEvaluator\n",
    "from pyspark.ml.evaluation import BinaryClassificationEvaluator\n",
    "\n",
    "from sklearn.metrics import confusion_matrix\n",
    "from sklearn.metrics import accuracy_score\n",
    "from sklearn.metrics import precision_score\n",
    "from sklearn.metrics import recall_score\n",
    "from sklearn.metrics import f1_score\n",
    "\n",
    "evaluator_lr=MulticlassClassificationEvaluator(predictionCol=\"prediction\")\n",
    "#acc = evaluator.evaluate(pred)\n",
    "\n",
    "#print(\"Prediction Accuracy: \", acc)\n",
    "\n",
    "y_pred_lr=pred_lr.select(\"prediction\").collect()\n",
    "y_orig_lr=pred_lr.select(\"label\").collect()\n",
    "\n",
    "cm_lr = confusion_matrix(y_orig_lr, y_pred_lr)\n",
    "print(\"Confusion Matrix:\")\n",
    "print(cm_lr)\n",
    "\n",
    "#Define the Evaluation Metrics\n",
    "#Accuracy = (TP+TN)/(TP+TN+FP+FN)\n",
    "accu_lr = evaluator_lr.evaluate(pred_lr)\n",
    "#The precision is the ratio tp / (tp + fp) where tp is the number of true positives and fp the number of false positives. The precision is intuitively the ability of the classifier not to label as positive a sample that is negative.\n",
    "prec_lr=cm_lr[1,1]/(cm_lr[1,1]+cm_lr[1,0])\n",
    "\n",
    "#The recall is the ratio tp / (tp + fn) where tp is the number of true positives and fn the number of false negatives. The recall is intuitively the ability of the classifier to find all the positive samples.\n",
    "recall_lr=cm_lr[1,1]/(cm_lr[1,1]+cm_lr[0,1])\n",
    "\n",
    "#The F1 score can be interpreted as a harmonic mean of the precision and recall, where an F1 score reaches its best value at 1 and worst score at 0. The relative contribution of precision and recall to the F1 score are equal. The formula for the F1 score is:\n",
    "f1_lr=2*((prec_lr*recall_lr)/(prec_lr+recall_lr))\n",
    "#F1 = 2 * (precision * recall) / (precision + recall)\n",
    "\n",
    "# Instantiate metrics object\n",
    "metrics_lr = BinaryClassificationEvaluator()\n",
    "auc_lr=metrics_lr.evaluate(pred_lr, {metrics_lr.metricName: 'areaUnderROC'})\n",
    "#Source: https://towardsdatascience.com/binary-classifier-evaluation-made-easy-with-handyspark-3b1e69c12b4f"
   ]
  },
  {
   "cell_type": "markdown",
   "id": "6a7328af-9fd7-40d0-aee7-dfb58f0778a8",
   "metadata": {
    "tags": []
   },
   "source": [
    "#### 2.3.3 ROC Curve"
   ]
  },
  {
   "cell_type": "code",
   "execution_count": 60,
   "id": "e1b77ae1-77a8-4201-9a44-6e6099f838e4",
   "metadata": {},
   "outputs": [
    {
     "name": "stderr",
     "output_type": "stream",
     "text": [
      "C:\\Users\\Casa\\anaconda3\\lib\\site-packages\\pyspark\\sql\\context.py:157: FutureWarning: Deprecated in 3.0.0. Use SparkSession.builder.getOrCreate() instead.\n",
      "  warnings.warn(\n",
      "C:\\Users\\Casa\\anaconda3\\lib\\site-packages\\pyspark\\sql\\context.py:157: FutureWarning: Deprecated in 3.0.0. Use SparkSession.builder.getOrCreate() instead.\n",
      "  warnings.warn(\n"
     ]
    },
    {
     "data": {
      "text/plain": [
       "<AxesSubplot:title={'center':'Precision-Recall Curve'}, xlabel='Recall', ylabel='Precision'>"
      ]
     },
     "execution_count": 60,
     "metadata": {},
     "output_type": "execute_result"
    },
    {
     "data": {
      "image/png": "[encoded data removed]",
      "text/plain": [
       "<Figure size 1200x400 with 2 Axes>"
      ]
     },
     "metadata": {},
     "output_type": "display_data"
    }
   ],
   "source": [
    "#Plot the Roc Curve\n",
    "from matplotlib import pyplot as plt\n",
    "from handyspark import BinaryClassificationMetrics\n",
    "\n",
    "\n",
    "bcm_lr = BinaryClassificationMetrics(pred_lr, scoreCol='probability', labelCol='label')\n",
    "fig, axs = plt.subplots(1, 2, figsize=(12, 4))\n",
    "bcm_lr.plot_roc_curve(ax=axs[0])\n",
    "bcm_lr.plot_pr_curve(ax=axs[1])"
   ]
  },
  {
   "cell_type": "code",
   "execution_count": 45,
   "id": "d5dd1340-a013-4db2-a92d-baa5ffb8d2fd",
   "metadata": {},
   "outputs": [
    {
     "name": "stderr",
     "output_type": "stream",
     "text": [
      "C:\\Users\\Casa\\anaconda3\\lib\\site-packages\\pyspark\\sql\\context.py:157: FutureWarning: Deprecated in 3.0.0. Use SparkSession.builder.getOrCreate() instead.\n",
      "  warnings.warn(\n"
     ]
    },
    {
     "data": {
      "text/html": [
       "<div>\n",
       "<style scoped>\n",
       "    .dataframe tbody tr th:only-of-type {\n",
       "        vertical-align: middle;\n",
       "    }\n",
       "\n",
       "    .dataframe tbody tr th {\n",
       "        vertical-align: top;\n",
       "    }\n",
       "\n",
       "    .dataframe thead th {\n",
       "        text-align: right;\n",
       "    }\n",
       "</style>\n",
       "<table border=\"1\" class=\"dataframe\">\n",
       "  <thead>\n",
       "    <tr style=\"text-align: right;\">\n",
       "      <th></th>\n",
       "      <th>threshold</th>\n",
       "      <th>fpr</th>\n",
       "      <th>recall</th>\n",
       "      <th>precision</th>\n",
       "    </tr>\n",
       "  </thead>\n",
       "  <tbody>\n",
       "    <tr>\n",
       "      <th>0</th>\n",
       "      <td>0.017897</td>\n",
       "      <td>0.000935</td>\n",
       "      <td>0.005917</td>\n",
       "      <td>0.050000</td>\n",
       "    </tr>\n",
       "    <tr>\n",
       "      <th>1</th>\n",
       "      <td>0.015054</td>\n",
       "      <td>0.001871</td>\n",
       "      <td>0.011834</td>\n",
       "      <td>0.050000</td>\n",
       "    </tr>\n",
       "    <tr>\n",
       "      <th>2</th>\n",
       "      <td>0.014179</td>\n",
       "      <td>0.002855</td>\n",
       "      <td>0.011834</td>\n",
       "      <td>0.033333</td>\n",
       "    </tr>\n",
       "    <tr>\n",
       "      <th>3</th>\n",
       "      <td>0.013564</td>\n",
       "      <td>0.003840</td>\n",
       "      <td>0.011834</td>\n",
       "      <td>0.025000</td>\n",
       "    </tr>\n",
       "    <tr>\n",
       "      <th>4</th>\n",
       "      <td>0.013143</td>\n",
       "      <td>0.004824</td>\n",
       "      <td>0.011834</td>\n",
       "      <td>0.020000</td>\n",
       "    </tr>\n",
       "    <tr>\n",
       "      <th>...</th>\n",
       "      <td>...</td>\n",
       "      <td>...</td>\n",
       "      <td>...</td>\n",
       "      <td>...</td>\n",
       "    </tr>\n",
       "    <tr>\n",
       "      <th>1003</th>\n",
       "      <td>0.000139</td>\n",
       "      <td>0.997588</td>\n",
       "      <td>1.000000</td>\n",
       "      <td>0.008270</td>\n",
       "    </tr>\n",
       "    <tr>\n",
       "      <th>1004</th>\n",
       "      <td>0.000123</td>\n",
       "      <td>0.998572</td>\n",
       "      <td>1.000000</td>\n",
       "      <td>0.008262</td>\n",
       "    </tr>\n",
       "    <tr>\n",
       "      <th>1005</th>\n",
       "      <td>0.000006</td>\n",
       "      <td>0.999557</td>\n",
       "      <td>1.000000</td>\n",
       "      <td>0.008254</td>\n",
       "    </tr>\n",
       "    <tr>\n",
       "      <th>1006</th>\n",
       "      <td>0.000000</td>\n",
       "      <td>1.000000</td>\n",
       "      <td>1.000000</td>\n",
       "      <td>0.008250</td>\n",
       "    </tr>\n",
       "    <tr>\n",
       "      <th>1007</th>\n",
       "      <td>0.000000</td>\n",
       "      <td>1.000000</td>\n",
       "      <td>1.000000</td>\n",
       "      <td>0.000000</td>\n",
       "    </tr>\n",
       "  </tbody>\n",
       "</table>\n",
       "<p>1008 rows × 4 columns</p>\n",
       "</div>"
      ],
      "text/plain": [
       "      threshold       fpr    recall  precision\n",
       "0      0.017897  0.000935  0.005917   0.050000\n",
       "1      0.015054  0.001871  0.011834   0.050000\n",
       "2      0.014179  0.002855  0.011834   0.033333\n",
       "3      0.013564  0.003840  0.011834   0.025000\n",
       "4      0.013143  0.004824  0.011834   0.020000\n",
       "...         ...       ...       ...        ...\n",
       "1003   0.000139  0.997588  1.000000   0.008270\n",
       "1004   0.000123  0.998572  1.000000   0.008262\n",
       "1005   0.000006  0.999557  1.000000   0.008254\n",
       "1006   0.000000  1.000000  1.000000   0.008250\n",
       "1007   0.000000  1.000000  1.000000   0.000000\n",
       "\n",
       "[1008 rows x 4 columns]"
      ]
     },
     "execution_count": 45,
     "metadata": {},
     "output_type": "execute_result"
    }
   ],
   "source": [
    "#Check the threshold \n",
    "bcm_lr.getMetricsByThreshold().toPandas()"
   ]
  },
  {
   "cell_type": "markdown",
   "id": "48d4fb66-9395-450a-943d-644df0a2a9bb",
   "metadata": {},
   "source": [
    "## 3. Metrics Calculation"
   ]
  },
  {
   "cell_type": "code",
   "execution_count": 61,
   "id": "718d012f-ebdc-41a2-9b4f-366de5e86c56",
   "metadata": {},
   "outputs": [],
   "source": [
    "spark_results=pd.DataFrame(\n",
    "    [\n",
    "        [accu_dt,accu_rf,accu_lr],\n",
    "        [prec_dt,prec_rf,prec_lr],\n",
    "        [recall_dt,recall_rf,recall_lr],\n",
    "        [f1_dt,f1_rf,f1_lr],\n",
    "        [auc_dt,auc_rf,auc_lr]\n",
    "    ],\n",
    "    columns=[\"Decision Tree\",\"Random Forest\",\"Logistics Regression\"],\n",
    "    index=[\"Accuracy\",\"Precision\",\"Recall\",\"F1_score\", \"AUC\"])"
   ]
  },
  {
   "cell_type": "code",
   "execution_count": 62,
   "id": "807f328d-3e26-4d83-a490-509c43885bac",
   "metadata": {},
   "outputs": [
    {
     "data": {
      "text/html": [
       "<div>\n",
       "<style scoped>\n",
       "    .dataframe tbody tr th:only-of-type {\n",
       "        vertical-align: middle;\n",
       "    }\n",
       "\n",
       "    .dataframe tbody tr th {\n",
       "        vertical-align: top;\n",
       "    }\n",
       "\n",
       "    .dataframe thead th {\n",
       "        text-align: right;\n",
       "    }\n",
       "</style>\n",
       "<table border=\"1\" class=\"dataframe\">\n",
       "  <thead>\n",
       "    <tr style=\"text-align: right;\">\n",
       "      <th></th>\n",
       "      <th>Decision Tree</th>\n",
       "      <th>Random Forest</th>\n",
       "      <th>Logistics Regression</th>\n",
       "    </tr>\n",
       "  </thead>\n",
       "  <tbody>\n",
       "    <tr>\n",
       "      <th>Accuracy</th>\n",
       "      <td>0.936463</td>\n",
       "      <td>0.963030</td>\n",
       "      <td>0.978901</td>\n",
       "    </tr>\n",
       "    <tr>\n",
       "      <th>Precision</th>\n",
       "      <td>0.242604</td>\n",
       "      <td>0.124260</td>\n",
       "      <td>0.029586</td>\n",
       "    </tr>\n",
       "    <tr>\n",
       "      <th>Recall</th>\n",
       "      <td>0.019683</td>\n",
       "      <td>0.020270</td>\n",
       "      <td>0.013477</td>\n",
       "    </tr>\n",
       "    <tr>\n",
       "      <th>F1_score</th>\n",
       "      <td>0.036412</td>\n",
       "      <td>0.034855</td>\n",
       "      <td>0.018519</td>\n",
       "    </tr>\n",
       "    <tr>\n",
       "      <th>AUC</th>\n",
       "      <td>0.579611</td>\n",
       "      <td>0.624808</td>\n",
       "      <td>0.574260</td>\n",
       "    </tr>\n",
       "  </tbody>\n",
       "</table>\n",
       "</div>"
      ],
      "text/plain": [
       "           Decision Tree  Random Forest  Logistics Regression\n",
       "Accuracy        0.936463       0.963030              0.978901\n",
       "Precision       0.242604       0.124260              0.029586\n",
       "Recall          0.019683       0.020270              0.013477\n",
       "F1_score        0.036412       0.034855              0.018519\n",
       "AUC             0.579611       0.624808              0.574260"
      ]
     },
     "execution_count": 62,
     "metadata": {},
     "output_type": "execute_result"
    }
   ],
   "source": [
    "spark_results"
   ]
  },
  {
   "cell_type": "code",
   "execution_count": 39,
   "id": "524ba418-4174-4c04-8a76-549ffcba54ab",
   "metadata": {},
   "outputs": [],
   "source": [
    "#Here we will terminate the spark session\n",
    "spark.stop() "
   ]
  },
  {
   "cell_type": "code",
   "execution_count": 138,
   "id": "0aa702b1-e66f-4169-9e73-8aa9fef78fac",
   "metadata": {},
   "outputs": [
    {
     "name": "stderr",
     "output_type": "stream",
     "text": [
      "----------------------------------------\n",
      "Exception occurred during processing of request from ('127.0.0.1', 55714)\n"
     ]
    }
   ],
   "source": [
    "#More Sources\n",
    "#https://spark.apache.org/docs/latest/mllib-decision-tree.html\n",
    "#https://spark.apache.org/docs/latest/ml-pipeline.html"
   ]
  },
  {
   "cell_type": "code",
   "execution_count": null,
   "id": "cb748766-3342-48fa-bed1-7001094da168",
   "metadata": {},
   "outputs": [],
   "source": [
    "#The Mother Boarding End \n",
    "#https://www.youtube.com/watch?v=uXnG53304Hk&ab_channel=NextofKen"
   ]
  }
 ],
 "metadata": {
  "kernelspec": {
   "display_name": "Python 3 (ipykernel)",
   "language": "python",
   "name": "python3"
  },
  "language_info": {
   "codemirror_mode": {
    "name": "ipython",
    "version": 3
   },
   "file_extension": ".py",
   "mimetype": "text/x-python",
   "name": "python",
   "nbconvert_exporter": "python",
   "pygments_lexer": "ipython3",
   "version": "3.9.13"
  }
 },
 "nbformat": 4,
 "nbformat_minor": 5
}
