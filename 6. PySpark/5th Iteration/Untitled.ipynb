{
 "cells": [
  {
   "cell_type": "markdown",
   "id": "9599ad7e-e6ac-471b-a33d-83d86d478396",
   "metadata": {},
   "source": [
    "# Linear Regression"
   ]
  },
  {
   "cell_type": "code",
   "execution_count": 1,
   "id": "285ddfb5-af8b-4671-b55c-84cfb0645465",
   "metadata": {},
   "outputs": [
    {
     "data": {
      "text/html": [
       "<div>\n",
       "<style scoped>\n",
       "    .dataframe tbody tr th:only-of-type {\n",
       "        vertical-align: middle;\n",
       "    }\n",
       "\n",
       "    .dataframe tbody tr th {\n",
       "        vertical-align: top;\n",
       "    }\n",
       "\n",
       "    .dataframe thead th {\n",
       "        text-align: right;\n",
       "    }\n",
       "</style>\n",
       "<table border=\"1\" class=\"dataframe\">\n",
       "  <thead>\n",
       "    <tr style=\"text-align: right;\">\n",
       "      <th></th>\n",
       "      <th>id</th>\n",
       "      <th>Unnamed: 0</th>\n",
       "      <th>createTime</th>\n",
       "      <th>likeCount</th>\n",
       "      <th>commentCount</th>\n",
       "      <th>tags_count</th>\n",
       "      <th>translation_len</th>\n",
       "      <th>label_sentiment</th>\n",
       "      <th>score_sentiment</th>\n",
       "      <th>score_hate</th>\n",
       "      <th>...</th>\n",
       "      <th>productType_feed</th>\n",
       "      <th>productType_igtv</th>\n",
       "      <th>harmonic_centrality</th>\n",
       "      <th>degree_centrality</th>\n",
       "      <th>closeness_centrality</th>\n",
       "      <th>Betweenness</th>\n",
       "      <th>cluster_cluster_1</th>\n",
       "      <th>cluster_cluster_2</th>\n",
       "      <th>cluster_cluster_3</th>\n",
       "      <th>cluster_cluster_4</th>\n",
       "    </tr>\n",
       "  </thead>\n",
       "  <tbody>\n",
       "    <tr>\n",
       "      <th>0</th>\n",
       "      <td>11540</td>\n",
       "      <td>119265</td>\n",
       "      <td>2017-12-31 20:10:58+00:00</td>\n",
       "      <td>17552</td>\n",
       "      <td>295</td>\n",
       "      <td>0</td>\n",
       "      <td>4</td>\n",
       "      <td>1</td>\n",
       "      <td>0.992561</td>\n",
       "      <td>0.888707</td>\n",
       "      <td>...</td>\n",
       "      <td>1</td>\n",
       "      <td>0</td>\n",
       "      <td>33.523858</td>\n",
       "      <td>0.012243</td>\n",
       "      <td>0.027949</td>\n",
       "      <td>216.332754</td>\n",
       "      <td>0</td>\n",
       "      <td>0</td>\n",
       "      <td>1</td>\n",
       "      <td>0</td>\n",
       "    </tr>\n",
       "    <tr>\n",
       "      <th>1</th>\n",
       "      <td>32532</td>\n",
       "      <td>132433</td>\n",
       "      <td>2018-02-05 13:40:01+00:00</td>\n",
       "      <td>5305</td>\n",
       "      <td>17</td>\n",
       "      <td>19</td>\n",
       "      <td>962</td>\n",
       "      <td>1</td>\n",
       "      <td>0.999602</td>\n",
       "      <td>0.990074</td>\n",
       "      <td>...</td>\n",
       "      <td>0</td>\n",
       "      <td>0</td>\n",
       "      <td>33.523858</td>\n",
       "      <td>0.012243</td>\n",
       "      <td>0.027949</td>\n",
       "      <td>216.332754</td>\n",
       "      <td>0</td>\n",
       "      <td>0</td>\n",
       "      <td>1</td>\n",
       "      <td>0</td>\n",
       "    </tr>\n",
       "    <tr>\n",
       "      <th>2</th>\n",
       "      <td>32530</td>\n",
       "      <td>132431</td>\n",
       "      <td>2018-02-15 15:52:22+00:00</td>\n",
       "      <td>15077</td>\n",
       "      <td>34</td>\n",
       "      <td>4</td>\n",
       "      <td>18</td>\n",
       "      <td>1</td>\n",
       "      <td>0.997795</td>\n",
       "      <td>0.952006</td>\n",
       "      <td>...</td>\n",
       "      <td>1</td>\n",
       "      <td>0</td>\n",
       "      <td>33.523858</td>\n",
       "      <td>0.012243</td>\n",
       "      <td>0.027949</td>\n",
       "      <td>216.332754</td>\n",
       "      <td>0</td>\n",
       "      <td>0</td>\n",
       "      <td>1</td>\n",
       "      <td>0</td>\n",
       "    </tr>\n",
       "  </tbody>\n",
       "</table>\n",
       "<p>3 rows × 47 columns</p>\n",
       "</div>"
      ],
      "text/plain": [
       "      id  Unnamed: 0                 createTime  likeCount  commentCount  \\\n",
       "0  11540      119265  2017-12-31 20:10:58+00:00      17552           295   \n",
       "1  32532      132433  2018-02-05 13:40:01+00:00       5305            17   \n",
       "2  32530      132431  2018-02-15 15:52:22+00:00      15077            34   \n",
       "\n",
       "   tags_count  translation_len  label_sentiment  score_sentiment  score_hate  \\\n",
       "0           0                4                1         0.992561    0.888707   \n",
       "1          19              962                1         0.999602    0.990074   \n",
       "2           4               18                1         0.997795    0.952006   \n",
       "\n",
       "   ...  productType_feed  productType_igtv  harmonic_centrality  \\\n",
       "0  ...                 1                 0            33.523858   \n",
       "1  ...                 0                 0            33.523858   \n",
       "2  ...                 1                 0            33.523858   \n",
       "\n",
       "   degree_centrality  closeness_centrality  Betweenness  cluster_cluster_1  \\\n",
       "0           0.012243              0.027949   216.332754                  0   \n",
       "1           0.012243              0.027949   216.332754                  0   \n",
       "2           0.012243              0.027949   216.332754                  0   \n",
       "\n",
       "   cluster_cluster_2  cluster_cluster_3  cluster_cluster_4  \n",
       "0                  0                  1                  0  \n",
       "1                  0                  1                  0  \n",
       "2                  0                  1                  0  \n",
       "\n",
       "[3 rows x 47 columns]"
      ]
     },
     "execution_count": 1,
     "metadata": {},
     "output_type": "execute_result"
    }
   ],
   "source": [
    "import pandas as pd\n",
    "filename85 = 'C:/Users/Casa/OneDrive - Associação Porto Business School/Documents/MBA/0.3 Projeto DEUS/BD/0.Final_Test_Data_set/data_set_final_for_pred.csv'\n",
    "data_set_initial_7 = pd.read_csv(filename85, sep=',', encoding='utf8')\n",
    "data_set_initial_7.head(3)"
   ]
  },
  {
   "cell_type": "code",
   "execution_count": null,
   "id": "780f73b8-38f0-4bda-8447-23d16f38de50",
   "metadata": {},
   "outputs": [],
   "source": [
    "#Predict the number of likes a post will have"
   ]
  },
  {
   "cell_type": "markdown",
   "id": "39d98b96-2a29-4990-834c-20fb76885b41",
   "metadata": {},
   "source": [
    "## Select and Split Data"
   ]
  },
  {
   "cell_type": "code",
   "execution_count": 3,
   "id": "091eeda8-03f9-4f32-aa17-259b9e1e6154",
   "metadata": {},
   "outputs": [],
   "source": [
    "## Add variables from the sentiment analysis SNA\n",
    "data_set_5=data_set_initial_7[[\"label_hate\",\"likeCount\",\"commentCount\",\"weekday\",\"month\",\"productType_carousel_container\",\"productType_clips\",\"productType_feed\",\"productType_igtv\",\"tags_count\",\"score_sentiment\",\"translation_len\",\"language_0\",\"language_1\",\"fk_readability\",\"fk_grade\",\"CARDINAL\",\"GPE\",\"EVENT\",\"FAC\",\"DATE\",\"LANGUAGE\",\"LAW\",\"LOC\",\"MONEY\",\"NORP\",\"ORDINAL\",\"ORG\",\"PERCENT\",\"PERSON\",\"PRODUCT\",\"QUANTITY\",\"TIME\",\"WORK_OF_ART\",\"harmonic_centrality\",\"degree_centrality\",\"closeness_centrality\",\"Betweenness\",\"cluster_cluster_1\",\"cluster_cluster_2\",\"cluster_cluster_3\",\"cluster_cluster_4\"]].copy()\n",
    "features = data_set_5.drop('likeCount', axis=1)\n",
    "labels = data_set_5['likeCount']\n",
    "\n",
    "features_dt_labels=[\"label_hate\",\"likeCount\",\"commentCount\",\"weekday\",\"month\",\"productType_carousel_container\",\"productType_clips\",\"productType_feed\",\"productType_igtv\",\"tags_count\",\"score_sentiment\",\"translation_len\",\"language_0\",\"language_1\",\"fk_readability\",\"fk_grade\",\"CARDINAL\",\"GPE\",\"EVENT\",\"FAC\",\"DATE\",\"LANGUAGE\",\"LAW\",\"LOC\",\"MONEY\",\"NORP\",\"ORDINAL\",\"ORG\",\"PERCENT\",\"PERSON\",\"PRODUCT\",\"QUANTITY\",\"TIME\",\"WORK_OF_ART\",\"harmonic_centrality\",\"degree_centrality\",\"closeness_centrality\",\"Betweenness\",\"cluster_cluster_1\",\"cluster_cluster_2\",\"cluster_cluster_3\",\"cluster_cluster_4\"]\n",
    "features_norm_labels=[\"label_hate\",\"commentCount\",\"weekday\",\"month\",\"productType_carousel_container\",\"productType_clips\",\"productType_feed\",\"productType_igtv\",\"tags_count\",\"score_sentiment\",\"translation_len\",\"language_0\",\"language_1\",\"fk_readability\",\"fk_grade\",\"CARDINAL\",\"GPE\",\"EVENT\",\"FAC\",\"DATE\",\"LANGUAGE\",\"LAW\",\"LOC\",\"MONEY\",\"NORP\",\"ORDINAL\",\"ORG\",\"PERCENT\",\"PERSON\",\"PRODUCT\",\"QUANTITY\",\"TIME\",\"WORK_OF_ART\",\"harmonic_centrality\",\"degree_centrality\",\"closeness_centrality\",\"Betweenness\",\"cluster_cluster_1\",\"cluster_cluster_2\",\"cluster_cluster_3\",\"cluster_cluster_4\"]\n"
   ]
  },
  {
   "cell_type": "code",
   "execution_count": 4,
   "id": "cb37ed71-1f7d-4d45-8ce8-542b8d0737ad",
   "metadata": {},
   "outputs": [],
   "source": [
    "#We have to divide the dataset and we will first build it with only\n",
    "#(#https://stackabuse.com/decision-trees-in-python-with-scikit-learn/)\n",
    "\n",
    "#train_data_set=first_dataset_1[0:int(0.8*len(first_dataset_1.index))].copy()\n",
    "#test_data_set=first_dataset_1[int(0.8*len(first_dataset_1.index))+1:len(first_dataset_1.index)].copy()\n",
    "\n",
    "# Using Skicit-learn to split data into training and testing sets\n",
    "from sklearn.model_selection import train_test_split\n",
    "# Split the data into training and testing sets\n",
    "train_features, test_features, train_labels, test_labels = train_test_split(features, labels, test_size = 0.25, random_state = 42)"
   ]
  },
  {
   "cell_type": "markdown",
   "id": "61026839-c3ee-4a61-af9c-047196e1b7b6",
   "metadata": {},
   "source": [
    "## Linear Regression"
   ]
  },
  {
   "cell_type": "code",
   "execution_count": 24,
   "id": "869f7e4b-64d0-4e03-8c3f-40d20e0c91de",
   "metadata": {},
   "outputs": [],
   "source": [
    "# Import the model we are using\n",
    "from sklearn.linear_model import LinearRegression\n",
    "\n",
    "# Instantiate model with 1000 decision trees\n",
    "linear_reg = LinearRegression()\n",
    "\n",
    "# Train the model on training data\n",
    "linear_learn =linear_reg.fit(train_features, train_labels)\n",
    "\n",
    "# Use the forest's predict method on the test data\n",
    "linear_predictions = linear_learn.predict(test_features)\n"
   ]
  },
  {
   "cell_type": "code",
   "execution_count": 25,
   "id": "ec83cb3f-47fb-4113-a505-9be287b120a8",
   "metadata": {},
   "outputs": [
    {
     "name": "stdout",
     "output_type": "stream",
     "text": [
      "3513.577412824596\n",
      "136561347.0596521\n",
      "-0.9459820782193586\n"
     ]
    }
   ],
   "source": [
    "#Lets define the variables for the model assessment\n",
    "from sklearn.metrics import mean_absolute_error\n",
    "from sklearn.metrics import mean_squared_error\n",
    "from sklearn.metrics import r2_score\n",
    "\n",
    "MAS_lr=mean_absolute_error(test_labels, linear_predictions)\n",
    "\n",
    "MSE_lr=mean_squared_error(test_labels, linear_predictions)\n",
    "\n",
    "r2_lr=r2_score(test_labels, linear_predictions)\n",
    "\n",
    "print(MAS_lr)\n",
    "print(MSE_lr)\n",
    "print(r2_lr)"
   ]
  },
  {
   "cell_type": "code",
   "execution_count": 23,
   "id": "9b284675-69e8-4e3d-8302-b959c447a418",
   "metadata": {},
   "outputs": [
    {
     "ename": "AttributeError",
     "evalue": "'LinearRegression' object has no attribute 'resid'",
     "output_type": "error",
     "traceback": [
      "\u001b[1;31m---------------------------------------------------------------------------\u001b[0m",
      "\u001b[1;31mAttributeError\u001b[0m                            Traceback (most recent call last)",
      "\u001b[1;32m~\\AppData\\Local\\Temp\\ipykernel_14220\\480887874.py\u001b[0m in \u001b[0;36m<module>\u001b[1;34m\u001b[0m\n\u001b[0;32m      1\u001b[0m \u001b[1;32mimport\u001b[0m \u001b[0mseaborn\u001b[0m \u001b[1;32mas\u001b[0m \u001b[0msns\u001b[0m\u001b[1;33m\u001b[0m\u001b[1;33m\u001b[0m\u001b[0m\n\u001b[1;32m----> 2\u001b[1;33m \u001b[0msns\u001b[0m\u001b[1;33m.\u001b[0m\u001b[0mhistplot\u001b[0m\u001b[1;33m(\u001b[0m\u001b[0mlinear_learn\u001b[0m\u001b[1;33m.\u001b[0m\u001b[0mresid\u001b[0m\u001b[1;33m)\u001b[0m\u001b[1;33m\u001b[0m\u001b[1;33m\u001b[0m\u001b[0m\n\u001b[0m",
      "\u001b[1;31mAttributeError\u001b[0m: 'LinearRegression' object has no attribute 'resid'"
     ]
    }
   ],
   "source": [
    "import seaborn as sns\n",
    "sns.histplot(linear_learn.resid)"
   ]
  }
 ],
 "metadata": {
  "kernelspec": {
   "display_name": "Python 3 (ipykernel)",
   "language": "python",
   "name": "python3"
  },
  "language_info": {
   "codemirror_mode": {
    "name": "ipython",
    "version": 3
   },
   "file_extension": ".py",
   "mimetype": "text/x-python",
   "name": "python",
   "nbconvert_exporter": "python",
   "pygments_lexer": "ipython3",
   "version": "3.9.13"
  }
 },
 "nbformat": 4,
 "nbformat_minor": 5
}
